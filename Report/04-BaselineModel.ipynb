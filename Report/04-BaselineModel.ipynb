{
 "cells": [
  {
   "cell_type": "markdown",
   "metadata": {},
   "source": [
    "# Multiple Linear Regression Baseline Model"
   ]
  },
  {
   "cell_type": "markdown",
   "metadata": {},
   "source": [
    "In this project, we are using a linear regression model as the baseline model to compare more advanced machine-learning models against. First we import some necessary libraries."
   ]
  },
  {
   "cell_type": "code",
   "execution_count": 1,
   "metadata": {},
   "outputs": [],
   "source": [
    "import numpy as np\n",
    "import pandas as pd\n",
    "from sklearn.linear_model import LinearRegression\n",
    "import csv"
   ]
  },
  {
   "cell_type": "markdown",
   "metadata": {},
   "source": [
    "We import the imputed training set to train the linear regression model off."
   ]
  },
  {
   "cell_type": "code",
   "execution_count": 2,
   "metadata": {},
   "outputs": [],
   "source": [
    "df = pd.read_csv('imputed_train_90_10.csv')"
   ]
  },
  {
   "cell_type": "markdown",
   "metadata": {},
   "source": [
    "We separate the training set into the target feature (whether the case has heart disease) and the other predictive features."
   ]
  },
  {
   "cell_type": "code",
   "execution_count": 3,
   "metadata": {
    "scrolled": true
   },
   "outputs": [],
   "source": [
    "y = df['HeartDiseaseorAttack']\n",
    "x = df.drop(['HeartDiseaseorAttack'], axis=1)\n",
    "#print(y)\n",
    "#print(x)"
   ]
  },
  {
   "cell_type": "markdown",
   "metadata": {},
   "source": [
    "We check the effectiveness of a linear regression model between heart disease and every other feature individually. We are using the sklearn implementation of a linear regression model which has the capability to do both singular linear regression and multiple linear regression (which we will use after)."
   ]
  },
  {
   "cell_type": "code",
   "execution_count": 4,
   "metadata": {},
   "outputs": [
    {
     "name": "stdout",
     "output_type": "stream",
     "text": [
      "HighBP: 0.02929941633826416\n",
      "HighChol: 6.931231870122012e-06\n",
      "CholCheck: 0.0025641724307253755\n",
      "BMI: 0.0031652373435379078\n",
      "Smoker: 0.003415892411918753\n",
      "Stroke: 0.010310748518839619\n",
      "Diabetes: 0.026638703740820002\n",
      "PhysActivity: 5.7541275798045355e-05\n",
      "Fruits: 8.160160187342669e-06\n",
      "Veggies: 0.00017438270476599627\n",
      "HvyAlcoholConsump: 0.00014304306761669938\n",
      "AnyHealthcare: 0.0006809096216112698\n",
      "NoDocbcCost: 5.075293230005773e-05\n",
      "GenHlth: 0.05979163435135448\n",
      "MentHlth: 7.116011862184912e-05\n",
      "PhysHlth: 0.009439931188027217\n",
      "DiffWalk: 0.009522540045494576\n",
      "Sex: 0.004964691413729572\n",
      "Age: 0.04812210092645641\n",
      "Education: 0.006813084089474342\n",
      "Income: 4.970479972055131e-08\n"
     ]
    }
   ],
   "source": [
    "for column in x:\n",
    "    xi = x[column].values.reshape(-1,1)\n",
    "    model = LinearRegression().fit(xi,y)\n",
    "    r_sq = model.score(xi, y)\n",
    "    print(str(column) + \": \" + str(r_sq))"
   ]
  },
  {
   "cell_type": "markdown",
   "metadata": {},
   "source": [
    "We then combine the non-heart disease features and carry out multiple linear regression to create a linear regression model between heart disease and all the other features."
   ]
  },
  {
   "cell_type": "code",
   "execution_count": 5,
   "metadata": {
    "scrolled": true
   },
   "outputs": [
    {
     "name": "stdout",
     "output_type": "stream",
     "text": [
      "0.12012609349461989\n"
     ]
    }
   ],
   "source": [
    "model = LinearRegression().fit(x,y)\n",
    "r_sq = model.score(x, y)\n",
    "print(r_sq)"
   ]
  },
  {
   "cell_type": "markdown",
   "metadata": {},
   "source": [
    "We then import the test set and create a list of predictions based on the predictive features using the multiple linear regression model trained on the training set."
   ]
  },
  {
   "cell_type": "code",
   "execution_count": 6,
   "metadata": {},
   "outputs": [],
   "source": [
    "test = pd.read_csv('imputed_test_90_10.csv')\n",
    "indep = test.drop(['HeartDiseaseorAttack'], axis=1)\n",
    "predictions = model.predict(indep)\n",
    "\n",
    "np.savetxt(\"LinearRegProb.csv\", predictions, delimiter=\",\")"
   ]
  }
 ],
 "metadata": {
  "kernelspec": {
   "display_name": "Python 3",
   "language": "python",
   "name": "python3"
  },
  "language_info": {
   "codemirror_mode": {
    "name": "ipython",
    "version": 3
   },
   "file_extension": ".py",
   "mimetype": "text/x-python",
   "name": "python",
   "nbconvert_exporter": "python",
   "pygments_lexer": "ipython3",
   "version": "3.8.5"
  }
 },
 "nbformat": 4,
 "nbformat_minor": 4
}
