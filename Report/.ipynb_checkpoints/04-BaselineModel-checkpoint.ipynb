{
 "cells": [
  {
   "cell_type": "markdown",
   "metadata": {},
   "source": [
    "# Multiple Linear Regression Baseline Model"
   ]
  },
  {
   "cell_type": "markdown",
   "metadata": {},
   "source": [
    "In this project, we are using a linear regression model as the baseline model to compare more advanced machine-learning models against. First we import some necessary libraries."
   ]
  },
  {
   "cell_type": "code",
   "execution_count": 1,
   "metadata": {},
   "outputs": [],
   "source": [
    "import numpy as np\n",
    "import pandas as pd\n",
    "from sklearn.linear_model import LinearRegression\n",
    "import csv"
   ]
  },
  {
   "cell_type": "markdown",
   "metadata": {},
   "source": [
    "We import the imputed training set from the google drive to train the linear regression model off."
   ]
  },
  {
   "cell_type": "code",
   "execution_count": 3,
   "metadata": {},
   "outputs": [],
   "source": [
    "url='https://drive.google.com/file/d/1S7em_UuD7yOiN4JMq__mlNDfcwV6NCYU/view'\n",
    "url='https://drive.google.com/uc?id=' + url.split('/')[-2]\n",
    "df = pd.read_csv(url)"
   ]
  },
  {
   "cell_type": "markdown",
   "metadata": {},
   "source": [
    "We separate the training set into the target feature (whether the case has heart disease) and the other predictive features."
   ]
  },
  {
   "cell_type": "code",
   "execution_count": 4,
   "metadata": {
    "scrolled": true
   },
   "outputs": [],
   "source": [
    "y = df['HeartDiseaseorAttack']\n",
    "x = df.drop(['HeartDiseaseorAttack'], axis=1)\n",
    "#print(y)\n",
    "#print(x)"
   ]
  },
  {
   "cell_type": "markdown",
   "metadata": {},
   "source": [
    "We check the effectiveness of a linear regression model between heart disease and every other feature individually. We are using the sklearn implementation of a linear regression model which has the capability to do both singular linear regression and multiple linear regression (which we will use after)."
   ]
  },
  {
   "cell_type": "code",
   "execution_count": 5,
   "metadata": {},
   "outputs": [
    {
     "name": "stdout",
     "output_type": "stream",
     "text": [
      "HighBP: 0.029299416338264606\n",
      "HighChol: 6.931231870122012e-06\n",
      "CholCheck: 0.0025641724307252645\n",
      "BMI: 0.0031652373435376857\n",
      "Smoker: 0.0034158924119184197\n",
      "Stroke: 0.010310748518839619\n",
      "Diabetes: 0.02663870374081989\n",
      "PhysActivity: 5.754127579793433e-05\n",
      "Fruits: 8.16016018689858e-06\n",
      "Veggies: 0.0001743827047662183\n",
      "HvyAlcoholConsump: 0.00014304306761603325\n",
      "AnyHealthcare: 0.0006809096216109367\n",
      "NoDocbcCost: 5.0752932300279774e-05\n",
      "GenHlth: 0.05979163435135426\n",
      "MentHlth: 7.116011862196014e-05\n",
      "PhysHlth: 0.009439931188026773\n",
      "DiffWalk: 0.009522540045494576\n",
      "Sex: 0.004964691413729683\n",
      "Age: 0.048122100926456746\n",
      "Education: 0.006813084089474342\n",
      "Income: 4.970479972055131e-08\n"
     ]
    }
   ],
   "source": [
    "for column in x:\n",
    "    xi = x[column].values.reshape(-1,1)\n",
    "    model = LinearRegression().fit(xi,y)\n",
    "    r_sq = model.score(xi, y)\n",
    "    print(str(column) + \": \" + str(r_sq))"
   ]
  },
  {
   "cell_type": "markdown",
   "metadata": {},
   "source": [
    "We then combine the non-heart disease features and carry out multiple linear regression to create a linear regression model between heart disease and all the other features."
   ]
  },
  {
   "cell_type": "code",
   "execution_count": 6,
   "metadata": {
    "scrolled": true
   },
   "outputs": [
    {
     "name": "stdout",
     "output_type": "stream",
     "text": [
      "0.12012609349462\n"
     ]
    }
   ],
   "source": [
    "model = LinearRegression().fit(x,y)\n",
    "r_sq = model.score(x, y)\n",
    "print(r_sq)"
   ]
  },
  {
   "cell_type": "markdown",
   "metadata": {},
   "source": [
    "We then import the test set from the google drive and create a list of predictions based on the predictive features using the multiple linear regression model trained on the training set."
   ]
  },
  {
   "cell_type": "code",
   "execution_count": 7,
   "metadata": {},
   "outputs": [],
   "source": [
    "url='https://drive.google.com/file/d/1qkbZ7ZctdRZXez9FPPHNavVRfXGD8PSf/view'\n",
    "url='https://drive.google.com/uc?id=' + url.split('/')[-2]\n",
    "test = pd.read_csv(url)\n",
    "indep = test.drop(['HeartDiseaseorAttack'], axis=1)\n",
    "predictions = model.predict(indep)\n",
    "\n",
    "np.savetxt(\"LinearRegProb.csv\", predictions, delimiter=\",\")"
   ]
  }
 ],
 "metadata": {
  "kernelspec": {
   "display_name": "Python 3 (ipykernel)",
   "language": "python",
   "name": "python3"
  },
  "language_info": {
   "codemirror_mode": {
    "name": "ipython",
    "version": 3
   },
   "file_extension": ".py",
   "mimetype": "text/x-python",
   "name": "python",
   "nbconvert_exporter": "python",
   "pygments_lexer": "ipython3",
   "version": "3.9.13"
  }
 },
 "nbformat": 4,
 "nbformat_minor": 4
}
