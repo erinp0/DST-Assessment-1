{
 "cells": [
  {
   "cell_type": "markdown",
   "id": "3cf998e0",
   "metadata": {},
   "source": [
    "# KNN for classification"
   ]
  },
  {
   "cell_type": "markdown",
   "id": "7e434285",
   "metadata": {},
   "source": [
    "For this model, we shall be implementing a K nearest neighbour classifier for heart disease.KNN is a distance based (typically Euclidean) supervised learning algorithm. It chooses the  k closest neighbours and based on these neighbours, it assigns the majority class. We are also able to get a probability score of how likely the class label is based on the k closest neighbours."
   ]
  },
  {
   "cell_type": "markdown",
   "id": "25c5c649",
   "metadata": {},
   "source": [
    " The sklearn library has a built in KNeighboursClassifier function which we will be utilising."
   ]
  },
  {
   "cell_type": "markdown",
   "id": "c60ace85",
   "metadata": {},
   "source": [
    "We first must download the necesary libraries/packages."
   ]
  },
  {
   "cell_type": "code",
   "execution_count": 1,
   "id": "8d26dd46",
   "metadata": {},
   "outputs": [],
   "source": [
    "import numpy as np\n",
    "import pandas as pd\n",
    "import matplotlib.pyplot as plt\n",
    "import seaborn as sns\n",
    "sns.set()\n",
    "import warnings\n",
    "warnings.filterwarnings('ignore')\n",
    "%matplotlib inline"
   ]
  },
  {
   "cell_type": "markdown",
   "id": "63fc77af",
   "metadata": {},
   "source": [
    "## Obtaining our training dataset"
   ]
  },
  {
   "cell_type": "markdown",
   "id": "1bed58ec",
   "metadata": {},
   "source": [
    "Below we load the imputed data from the shared google drive and display the first 5 rows, to check everything is as expected. We load the imputed dataset (approx 36,000 datapoints)."
   ]
  },
  {
   "cell_type": "code",
   "execution_count": 2,
   "id": "4748c571",
   "metadata": {},
   "outputs": [],
   "source": [
    "url='https://drive.google.com/file/d/1S7em_UuD7yOiN4JMq__mlNDfcwV6NCYU/view'\n",
    "url='https://drive.google.com/uc?id=' + url.split('/')[-2]"
   ]
  },
  {
   "cell_type": "code",
   "execution_count": 3,
   "id": "934265b0",
   "metadata": {},
   "outputs": [
    {
     "data": {
      "text/html": [
       "<div>\n",
       "<style scoped>\n",
       "    .dataframe tbody tr th:only-of-type {\n",
       "        vertical-align: middle;\n",
       "    }\n",
       "\n",
       "    .dataframe tbody tr th {\n",
       "        vertical-align: top;\n",
       "    }\n",
       "\n",
       "    .dataframe thead th {\n",
       "        text-align: right;\n",
       "    }\n",
       "</style>\n",
       "<table border=\"1\" class=\"dataframe\">\n",
       "  <thead>\n",
       "    <tr style=\"text-align: right;\">\n",
       "      <th></th>\n",
       "      <th>HeartDiseaseorAttack</th>\n",
       "      <th>HighBP</th>\n",
       "      <th>HighChol</th>\n",
       "      <th>CholCheck</th>\n",
       "      <th>BMI</th>\n",
       "      <th>Smoker</th>\n",
       "      <th>Stroke</th>\n",
       "      <th>Diabetes</th>\n",
       "      <th>PhysActivity</th>\n",
       "      <th>Fruits</th>\n",
       "      <th>...</th>\n",
       "      <th>AnyHealthcare</th>\n",
       "      <th>NoDocbcCost</th>\n",
       "      <th>GenHlth</th>\n",
       "      <th>MentHlth</th>\n",
       "      <th>PhysHlth</th>\n",
       "      <th>DiffWalk</th>\n",
       "      <th>Sex</th>\n",
       "      <th>Age</th>\n",
       "      <th>Education</th>\n",
       "      <th>Income</th>\n",
       "    </tr>\n",
       "  </thead>\n",
       "  <tbody>\n",
       "    <tr>\n",
       "      <th>0</th>\n",
       "      <td>1.0</td>\n",
       "      <td>0.125</td>\n",
       "      <td>0.2</td>\n",
       "      <td>0.0</td>\n",
       "      <td>0.257703</td>\n",
       "      <td>0.3</td>\n",
       "      <td>0.000</td>\n",
       "      <td>0.2</td>\n",
       "      <td>0.125</td>\n",
       "      <td>0.125</td>\n",
       "      <td>...</td>\n",
       "      <td>0.0</td>\n",
       "      <td>0.2</td>\n",
       "      <td>0.6</td>\n",
       "      <td>0.887755</td>\n",
       "      <td>0.89</td>\n",
       "      <td>0.2</td>\n",
       "      <td>1.0</td>\n",
       "      <td>0.923077</td>\n",
       "      <td>0.500</td>\n",
       "      <td>0.78</td>\n",
       "    </tr>\n",
       "    <tr>\n",
       "      <th>1</th>\n",
       "      <td>1.0</td>\n",
       "      <td>0.125</td>\n",
       "      <td>0.3</td>\n",
       "      <td>0.0</td>\n",
       "      <td>0.266507</td>\n",
       "      <td>0.3</td>\n",
       "      <td>0.125</td>\n",
       "      <td>0.4</td>\n",
       "      <td>1.000</td>\n",
       "      <td>1.000</td>\n",
       "      <td>...</td>\n",
       "      <td>0.0</td>\n",
       "      <td>0.3</td>\n",
       "      <td>0.4</td>\n",
       "      <td>0.887755</td>\n",
       "      <td>0.89</td>\n",
       "      <td>0.2</td>\n",
       "      <td>1.0</td>\n",
       "      <td>0.923077</td>\n",
       "      <td>0.500</td>\n",
       "      <td>0.78</td>\n",
       "    </tr>\n",
       "    <tr>\n",
       "      <th>2</th>\n",
       "      <td>1.0</td>\n",
       "      <td>0.125</td>\n",
       "      <td>0.2</td>\n",
       "      <td>0.0</td>\n",
       "      <td>0.304322</td>\n",
       "      <td>0.2</td>\n",
       "      <td>0.125</td>\n",
       "      <td>0.2</td>\n",
       "      <td>0.125</td>\n",
       "      <td>0.000</td>\n",
       "      <td>...</td>\n",
       "      <td>0.0</td>\n",
       "      <td>0.3</td>\n",
       "      <td>0.6</td>\n",
       "      <td>0.295918</td>\n",
       "      <td>0.31</td>\n",
       "      <td>0.2</td>\n",
       "      <td>1.0</td>\n",
       "      <td>0.615385</td>\n",
       "      <td>0.500</td>\n",
       "      <td>0.02</td>\n",
       "    </tr>\n",
       "    <tr>\n",
       "      <th>3</th>\n",
       "      <td>1.0</td>\n",
       "      <td>0.125</td>\n",
       "      <td>0.2</td>\n",
       "      <td>0.0</td>\n",
       "      <td>0.266507</td>\n",
       "      <td>0.2</td>\n",
       "      <td>0.125</td>\n",
       "      <td>0.4</td>\n",
       "      <td>0.125</td>\n",
       "      <td>0.000</td>\n",
       "      <td>...</td>\n",
       "      <td>0.0</td>\n",
       "      <td>0.8</td>\n",
       "      <td>0.4</td>\n",
       "      <td>0.887755</td>\n",
       "      <td>0.89</td>\n",
       "      <td>0.3</td>\n",
       "      <td>0.0</td>\n",
       "      <td>0.923077</td>\n",
       "      <td>0.250</td>\n",
       "      <td>0.05</td>\n",
       "    </tr>\n",
       "    <tr>\n",
       "      <th>4</th>\n",
       "      <td>1.0</td>\n",
       "      <td>0.000</td>\n",
       "      <td>0.2</td>\n",
       "      <td>1.0</td>\n",
       "      <td>0.306923</td>\n",
       "      <td>0.2</td>\n",
       "      <td>0.125</td>\n",
       "      <td>0.4</td>\n",
       "      <td>0.125</td>\n",
       "      <td>0.125</td>\n",
       "      <td>...</td>\n",
       "      <td>0.0</td>\n",
       "      <td>0.3</td>\n",
       "      <td>0.4</td>\n",
       "      <td>0.887755</td>\n",
       "      <td>0.78</td>\n",
       "      <td>0.3</td>\n",
       "      <td>0.0</td>\n",
       "      <td>0.846154</td>\n",
       "      <td>0.125</td>\n",
       "      <td>0.04</td>\n",
       "    </tr>\n",
       "  </tbody>\n",
       "</table>\n",
       "<p>5 rows × 22 columns</p>\n",
       "</div>"
      ],
      "text/plain": [
       "   HeartDiseaseorAttack  HighBP  HighChol  CholCheck       BMI  Smoker  \\\n",
       "0                   1.0   0.125       0.2        0.0  0.257703     0.3   \n",
       "1                   1.0   0.125       0.3        0.0  0.266507     0.3   \n",
       "2                   1.0   0.125       0.2        0.0  0.304322     0.2   \n",
       "3                   1.0   0.125       0.2        0.0  0.266507     0.2   \n",
       "4                   1.0   0.000       0.2        1.0  0.306923     0.2   \n",
       "\n",
       "   Stroke  Diabetes  PhysActivity  Fruits  ...  AnyHealthcare  NoDocbcCost  \\\n",
       "0   0.000       0.2         0.125   0.125  ...            0.0          0.2   \n",
       "1   0.125       0.4         1.000   1.000  ...            0.0          0.3   \n",
       "2   0.125       0.2         0.125   0.000  ...            0.0          0.3   \n",
       "3   0.125       0.4         0.125   0.000  ...            0.0          0.8   \n",
       "4   0.125       0.4         0.125   0.125  ...            0.0          0.3   \n",
       "\n",
       "   GenHlth  MentHlth  PhysHlth  DiffWalk  Sex       Age  Education  Income  \n",
       "0      0.6  0.887755      0.89       0.2  1.0  0.923077      0.500    0.78  \n",
       "1      0.4  0.887755      0.89       0.2  1.0  0.923077      0.500    0.78  \n",
       "2      0.6  0.295918      0.31       0.2  1.0  0.615385      0.500    0.02  \n",
       "3      0.4  0.887755      0.89       0.3  0.0  0.923077      0.250    0.05  \n",
       "4      0.4  0.887755      0.78       0.3  0.0  0.846154      0.125    0.04  \n",
       "\n",
       "[5 rows x 22 columns]"
      ]
     },
     "execution_count": 3,
     "metadata": {},
     "output_type": "execute_result"
    }
   ],
   "source": [
    "hd_data = pd.read_csv(url)\n",
    "hd_data.head()"
   ]
  },
  {
   "cell_type": "markdown",
   "id": "d2dda0ea",
   "metadata": {},
   "source": [
    "We are interested in the balance of the data, as this can impact decisions on cross validation, sampling, performance metric etc. Below we plot a simple bar chart to illustrate class balance of heart disease patients vs non-heart disease patients in our training dataset."
   ]
  },
  {
   "cell_type": "code",
   "execution_count": 4,
   "id": "0ee2e560",
   "metadata": {},
   "outputs": [
    {
     "name": "stdout",
     "output_type": "stream",
     "text": [
      "Class Ratio: 0.0883018465422094\n"
     ]
    }
   ],
   "source": [
    "print('Class Ratio:',sum(hd_data['HeartDiseaseorAttack'])/len(hd_data['HeartDiseaseorAttack']))\n",
    "#8.8% of our data is heart disease"
   ]
  },
  {
   "cell_type": "markdown",
   "id": "b1f113be",
   "metadata": {},
   "source": [
    "# Downsampling"
   ]
  },
  {
   "cell_type": "markdown",
   "id": "8a08cb61",
   "metadata": {},
   "source": [
    "I will propose 2 models for comparison, they will differ by their class proportions after downsampling. The code took too long to run on the full dataset, so by downsampling, we can improve our runtime.\n"
   ]
  },
  {
   "cell_type": "markdown",
   "id": "0d2d1de0",
   "metadata": {},
   "source": [
    "## Model with equal class ratio"
   ]
  },
  {
   "cell_type": "markdown",
   "id": "d72ffbd7",
   "metadata": {},
   "source": [
    "Here we downsample only the patients who do not have heart disease. For this model, we do not wish to downsample the minority class (positive for heart disease) as we want this model to be very good at detecting heart disease, i.e., low number of false negatives. We are less bothered by false positives as the purpose of our model is to inform heart disease screening, rather than diagnosising.\n",
    "\n",
    "Risks associated - overtraining to our data, won't generalise well."
   ]
  },
  {
   "cell_type": "code",
   "execution_count": 5,
   "id": "9f48cf99",
   "metadata": {},
   "outputs": [
    {
     "name": "stdout",
     "output_type": "stream",
     "text": [
      "(34770, 22)\n",
      "(358993, 22)\n"
     ]
    }
   ],
   "source": [
    "heart_disease = hd_data[hd_data[\"HeartDiseaseorAttack\"] == 1]\n",
    "no_hd = hd_data[hd_data[\"HeartDiseaseorAttack\"] == 0]\n",
    "\n",
    "print(heart_disease.shape)\n",
    "print(no_hd.shape)"
   ]
  },
  {
   "cell_type": "code",
   "execution_count": 6,
   "id": "5403693f",
   "metadata": {},
   "outputs": [
    {
     "name": "stdout",
     "output_type": "stream",
     "text": [
      "(34770, 22)\n"
     ]
    }
   ],
   "source": [
    "from sklearn.utils import resample\n",
    "no_hd_downsample1 = resample(no_hd,\n",
    "             replace=True,\n",
    "             n_samples=len(heart_disease),\n",
    "             random_state=42)\n",
    "\n",
    "print(no_hd_downsample1.shape)"
   ]
  },
  {
   "cell_type": "code",
   "execution_count": 7,
   "id": "e1dc4a6b",
   "metadata": {},
   "outputs": [
    {
     "data": {
      "text/plain": [
       "<AxesSubplot:ylabel='Heart Disease or No Heart Disease'>"
      ]
     },
     "execution_count": 7,
     "metadata": {},
     "output_type": "execute_result"
    },
    {
     "data": {
      "image/png": "[encoded data removed]",
      "text/plain": [
       "<Figure size 432x288 with 1 Axes>"
      ]
     },
     "metadata": {},
     "output_type": "display_data"
    }
   ],
   "source": [
    "data_downsampled = pd.concat([no_hd_downsample1, heart_disease])\n",
    "\n",
    "data_downsampled.groupby('HeartDiseaseorAttack').size().plot(kind='pie',\n",
    "                                       y = \"HeartDiseaseorAttack\",\n",
    "                                       label = \"Heart Disease or No Heart Disease\",\n",
    "                                       autopct='%1.1f%%')"
   ]
  },
  {
   "cell_type": "code",
   "execution_count": 8,
   "id": "e9416474",
   "metadata": {},
   "outputs": [],
   "source": [
    "x = data_downsampled.drop('HeartDiseaseorAttack',axis=1)\n",
    "y = data_downsampled['HeartDiseaseorAttack']"
   ]
  },
  {
   "cell_type": "markdown",
   "id": "2874448a",
   "metadata": {},
   "source": [
    "## Model with stratified ratio"
   ]
  },
  {
   "cell_type": "markdown",
   "id": "d549c59d",
   "metadata": {},
   "source": [
    "Here we downsample both classes. For this model, we want to preserve the class ratios. This allows us to compare how well the model generalises if we downsample the majority class. I am sure we will see interesting results between the two models, depending on the performance metric chosen at the testing stage.\n",
    "\n",
    "Risks associated - model might not be as good at predicting the minority class."
   ]
  },
  {
   "cell_type": "code",
   "execution_count": 9,
   "id": "12b5f2f5",
   "metadata": {},
   "outputs": [
    {
     "name": "stdout",
     "output_type": "stream",
     "text": [
      "6005\n",
      "61995\n"
     ]
    }
   ],
   "source": [
    "ratio = sum(hd_data['HeartDiseaseorAttack'])/len(hd_data['HeartDiseaseorAttack'])\n",
    "\n",
    "amount_hd = round(ratio*68000)\n",
    "\n",
    "amount_no_hd = 68000 - amount_hd\n",
    "\n",
    "print(amount_hd)\n",
    "print(amount_no_hd)"
   ]
  },
  {
   "cell_type": "code",
   "execution_count": 10,
   "id": "67377be7",
   "metadata": {},
   "outputs": [
    {
     "name": "stdout",
     "output_type": "stream",
     "text": [
      "(61995, 22)\n",
      "(6005, 22)\n"
     ]
    }
   ],
   "source": [
    "from sklearn.utils import resample\n",
    "no_hd_downsample2 = resample(no_hd,\n",
    "             replace=True,\n",
    "             n_samples=amount_no_hd,\n",
    "             random_state=42)\n",
    "\n",
    "from sklearn.utils import resample\n",
    "hd_downsample2 = resample(heart_disease,\n",
    "             replace=True,\n",
    "             n_samples=amount_hd,\n",
    "             random_state=42)\n",
    "\n",
    "print(no_hd_downsample2.shape)\n",
    "print(hd_downsample2.shape)"
   ]
  },
  {
   "cell_type": "code",
   "execution_count": 11,
   "id": "ac0e79c6",
   "metadata": {},
   "outputs": [
    {
     "data": {
      "text/plain": [
       "<AxesSubplot:ylabel='Heart Disease or No Heart Disease'>"
      ]
     },
     "execution_count": 11,
     "metadata": {},
     "output_type": "execute_result"
    },
    {
     "data": {
      "image/png": "[encoded data removed]",
      "text/plain": [
       "<Figure size 432x288 with 1 Axes>"
      ]
     },
     "metadata": {},
     "output_type": "display_data"
    }
   ],
   "source": [
    "data_downsampled2 = pd.concat([no_hd_downsample2,hd_downsample2])\n",
    "\n",
    "data_downsampled2.groupby('HeartDiseaseorAttack').size().plot(kind='pie',\n",
    "                                       y = \"HeartDiseaseorAttack\",\n",
    "                                       label = \"Heart Disease or No Heart Disease\",\n",
    "                                       autopct='%1.1f%%')"
   ]
  },
  {
   "cell_type": "code",
   "execution_count": 12,
   "id": "0c840a26",
   "metadata": {},
   "outputs": [],
   "source": [
    "x_down = data_downsampled2.drop('HeartDiseaseorAttack',axis=1)\n",
    "y_down = data_downsampled2['HeartDiseaseorAttack']"
   ]
  },
  {
   "cell_type": "markdown",
   "id": "e5a59cd4",
   "metadata": {},
   "source": [
    "I am going to investigate the effect of different search algorithms for KNN and compare their runtime. Rather than running on the whole dataset (approx. 56K data points after downsampling for both models), I will see how long it takes to run on 3000 data points. I will however fit the models to the entire dataset. This means that for each data point in the set of 3000, it will look for the K nearest neighbour in all 56,000 points."
   ]
  },
  {
   "cell_type": "markdown",
   "id": "06402aff",
   "metadata": {},
   "source": [
    "# Brute force search"
   ]
  },
  {
   "cell_type": "markdown",
   "id": "0417bb6e",
   "metadata": {},
   "source": [
    "Such distance based algorithms are affected by the scale and range of variables. The KNN algorithm is biased towards variables with smaller magnitudes, so this must be mitigated through normalisation of the features values. \n",
    "However, our KNN shall be calculating the distances using the Mahalnobis distance, which automatically normalises the dataset, so we do not need to worry about normalisation beforehand.\n",
    "\n",
    "Furthermore, the mahalanobis distance metric considers correlation between features. For instance, if Fruits and Veggies are highly correlated variables, it will reduce the combined weighting of them in the distance metric."
   ]
  },
  {
   "cell_type": "markdown",
   "id": "b408daad",
   "metadata": {},
   "source": [
    "To ensure a fair test of the search algorithms, I shall be randomly sampling a smaller dataset (300 data points) from the already downsampled (preserved ratio) dataset. You could think of this set as the validation data for model selection. I shall reserve the original ratios in the dataset (6.9% heart disease)."
   ]
  },
  {
   "cell_type": "code",
   "execution_count": 13,
   "id": "00e22509",
   "metadata": {},
   "outputs": [
    {
     "name": "stdout",
     "output_type": "stream",
     "text": [
      "26\n",
      "274\n"
     ]
    }
   ],
   "source": [
    "amount_hd2 = round(ratio*300)\n",
    "\n",
    "amount_no_hd2 = 300 - amount_hd2\n",
    "\n",
    "print(amount_hd2)\n",
    "print(amount_no_hd2)\n",
    "\n",
    "from sklearn.utils import resample\n",
    "no_hd_valid = resample(no_hd,\n",
    "             replace=True,\n",
    "             n_samples=amount_no_hd2,\n",
    "             random_state=42)\n",
    "\n",
    "from sklearn.utils import resample\n",
    "hd_valid = resample(heart_disease,\n",
    "             replace=True,\n",
    "             n_samples=amount_hd2,\n",
    "             random_state=42)\n"
   ]
  },
  {
   "cell_type": "code",
   "execution_count": 14,
   "id": "2be404b2",
   "metadata": {},
   "outputs": [],
   "source": [
    "validation = pd.concat([no_hd_valid,hd_valid])"
   ]
  },
  {
   "cell_type": "code",
   "execution_count": 15,
   "id": "1683579a",
   "metadata": {},
   "outputs": [],
   "source": [
    "x1 = validation.drop('HeartDiseaseorAttack',axis=1)\n",
    "y1 = validation['HeartDiseaseorAttack']"
   ]
  },
  {
   "cell_type": "code",
   "execution_count": 16,
   "id": "ca296b5a",
   "metadata": {},
   "outputs": [
    {
     "name": "stdout",
     "output_type": "stream",
     "text": [
      "(22, 22)\n"
     ]
    }
   ],
   "source": [
    "#Manually get covariance matrix of features, as this is a parameter necessary for the Mahlanobis metric\n",
    "\n",
    "def get_covariance_matrix(hd_data, ddof=0):\n",
    "    n_samples = hd_data.shape[0]\n",
    "    C = np.dot(hd_data.T, hd_data) / (n_samples - ddof)\n",
    "    return C\n",
    "\n",
    "C=get_covariance_matrix(hd_data)\n",
    "\n",
    "print(C.shape)"
   ]
  },
  {
   "cell_type": "markdown",
   "id": "2604f9fc",
   "metadata": {},
   "source": [
    "Here we load more packages required for our KNN classifier."
   ]
  },
  {
   "cell_type": "code",
   "execution_count": 17,
   "id": "498d5d63",
   "metadata": {},
   "outputs": [],
   "source": [
    "from sklearn.neighbors import KNeighborsClassifier\n",
    "from sklearn.metrics import classification_report\n",
    "from sklearn.model_selection import train_test_split\n",
    "from sklearn.metrics import roc_auc_score\n",
    "from sklearn.model_selection import GridSearchCV\n",
    "from sklearn.neighbors import DistanceMetric\n",
    "\n",
    "\n",
    "cov_matrix = C\n",
    "\n",
    "knn = KNeighborsClassifier(metric='mahalanobis', algorithm='brute', metric_params={'VI': np.linalg.inv(cov_matrix)}) \n"
   ]
  },
  {
   "cell_type": "markdown",
   "id": "bb47e5c8",
   "metadata": {},
   "source": [
    "I am mainly interested in the varying runtimes at this point in the investigation, so I shall fit the models to the dataset which was downsampled with the preserved ratios (dataset 2). This assumes that brute force, KD Tree and Ball Tree algorithms all have similar levels of accuracy."
   ]
  },
  {
   "cell_type": "code",
   "execution_count": 18,
   "id": "d30c4d36",
   "metadata": {},
   "outputs": [
    {
     "data": {
      "text/plain": [
       "KNeighborsClassifier(algorithm='brute', metric='mahalanobis',\n",
       "                     metric_params={'VI': array([[ 1.40903141e+01, -3.09220165e+00,  1.04660506e+00,\n",
       "         4.05841176e-01, -6.18027209e-01,  5.49200263e-01,\n",
       "         5.90664183e+00,  2.95314874e+00, -4.10380451e-02,\n",
       "         6.96688350e-02, -2.52573316e-02,  3.04270816e-01,\n",
       "         5.38721498e-01, -1.68218811e+00, -6.51166807e+00,\n",
       "         4.85607385e-02,  2.63617430e-01,  1...\n",
       "       [ 1.03159624e-01, -8.12112896e-01, -4.16172476e-01,\n",
       "        -1.10871723e+00,  4.77029104e+00, -2.23294774e+00,\n",
       "        -6.81434569e-01, -2.02187273e-01,  6.18679199e-01,\n",
       "        -5.11431446e-01, -1.01070421e+00, -6.62966127e-01,\n",
       "        -2.33652859e+00, -2.22705949e+00, -7.01966318e-01,\n",
       "        -2.78187255e-01, -8.91736368e-02, -1.55513594e+00,\n",
       "        -3.05920303e-01, -1.35435072e+00,  2.49005374e-01,\n",
       "         1.06459368e+01]])})"
      ]
     },
     "execution_count": 18,
     "metadata": {},
     "output_type": "execute_result"
    }
   ],
   "source": [
    "knn.fit(x_down,y_down)"
   ]
  },
  {
   "cell_type": "code",
   "execution_count": 19,
   "id": "91202147",
   "metadata": {},
   "outputs": [
    {
     "name": "stdout",
     "output_type": "stream",
     "text": [
      "0.91\n",
      "0.91\n",
      "0.91\n",
      "0.91\n",
      "0.91\n",
      "0.91\n",
      "0.91\n",
      "0.91\n",
      "17.7 s ± 1.01 s per loop (mean ± std. dev. of 7 runs, 1 loop each)\n"
     ]
    }
   ],
   "source": [
    "%%timeit\n",
    "score = knn.score(x1.head(300),y1.head(300))\n",
    "print(score)"
   ]
  },
  {
   "cell_type": "markdown",
   "id": "d7616500",
   "metadata": {},
   "source": [
    "Ball Tree and the KD Tree algorithm are tree algorithms used for spatial division of data points and their allocation into certain regions."
   ]
  },
  {
   "cell_type": "markdown",
   "id": "3f207429",
   "metadata": {},
   "source": [
    "# Ball Tree"
   ]
  },
  {
   "cell_type": "markdown",
   "id": "eca68d74",
   "metadata": {},
   "source": [
    "Here I will implement a different approximate nearest neighbour search algorithm. Ball trees can use mahalanobis metrics so this is what I have implemented. Learn more about ball trees, kd trees and brute force here https://towardsdatascience.com/tree-algorithms-explained-ball-tree-algorithm-vs-kd-tree-vs-brute-force-9746debcd940"
   ]
  },
  {
   "cell_type": "code",
   "execution_count": 20,
   "id": "d04749eb",
   "metadata": {},
   "outputs": [],
   "source": [
    "knn_ball = KNeighborsClassifier(metric='mahalanobis', algorithm='ball_tree', metric_params={'V': np.cov(x1, rowvar=False)}) "
   ]
  },
  {
   "cell_type": "code",
   "execution_count": 21,
   "id": "1b452ec3",
   "metadata": {},
   "outputs": [
    {
     "data": {
      "text/plain": [
       "KNeighborsClassifier(algorithm='ball_tree', metric='mahalanobis',\n",
       "                     metric_params={'V': array([[ 6.74540134e-03,  4.49832776e-04, -8.63294314e-04,\n",
       "         1.72004922e-03, -3.26086957e-05, -1.54682274e-04,\n",
       "        -1.41806020e-03,  3.91931438e-04,  7.31605351e-05,\n",
       "         6.60535117e-04,  5.51839465e-04, -3.22951505e-04,\n",
       "         9.53177258e-05,  1.30769231e-03,  2.18935568e-03,\n",
       "         8.38127090e-04, -1.32107023e-0...\n",
       "        -5.11705686e-03,  1.73801561e-02, -9.74899666e-03],\n",
       "       [ 4.06688963e-04, -2.20347826e-03,  7.35652174e-03,\n",
       "        -8.34505735e-03,  5.31839465e-04,  1.52173913e-05,\n",
       "         3.92240803e-04,  2.71112040e-03,  4.21989967e-03,\n",
       "         7.64732441e-03,  1.30000000e-03, -1.47909699e-04,\n",
       "         5.50100334e-04,  1.12869565e-03,  6.08047915e-03,\n",
       "         6.36444147e-03,  1.09846154e-03,  1.10267559e-02,\n",
       "         1.09031644e-02, -9.74899666e-03,  9.76025017e-02]])})"
      ]
     },
     "execution_count": 21,
     "metadata": {},
     "output_type": "execute_result"
    }
   ],
   "source": [
    "knn_ball.fit(x_down,y_down)"
   ]
  },
  {
   "cell_type": "code",
   "execution_count": 22,
   "id": "8edfc816",
   "metadata": {},
   "outputs": [
    {
     "name": "stdout",
     "output_type": "stream",
     "text": [
      "0.93\n",
      "0.93\n",
      "0.93\n",
      "0.93\n",
      "0.93\n",
      "0.93\n",
      "0.93\n",
      "0.93\n",
      "18.2 s ± 507 ms per loop (mean ± std. dev. of 7 runs, 1 loop each)\n"
     ]
    }
   ],
   "source": [
    "%%timeit\n",
    "score2 = knn_ball.score(x1.head(300),y1.head(300))\n",
    "print(score2)"
   ]
  },
  {
   "cell_type": "markdown",
   "id": "86ac51c6",
   "metadata": {},
   "source": [
    "# KD Tree"
   ]
  },
  {
   "cell_type": "markdown",
   "id": "e5e4ba63",
   "metadata": {},
   "source": [
    "A k-dimensional tree (k-d tree) is a spatial index that uses a binary tree to divide up real coordinate space. For M reference points, searching for the nearest neighbor of a query point takes, on average, O(log M) time. This is faster than the O(M) time of the brute force algorithm. Algorithm developed from - https://johnlekberg.com/blog/2020-04-17-kd-tree.html"
   ]
  },
  {
   "cell_type": "markdown",
   "id": "8e796933",
   "metadata": {},
   "source": [
    "Unfortunately, Mahalanobis distance is not compatible with KD Trees so we must use a different distance metric. Instead we will use the Euclidean distance, as this is compatible with KD Trees. Risks associated with using euclidean distance - the model cannot detect high correlation between variables."
   ]
  },
  {
   "cell_type": "markdown",
   "id": "09c833ef",
   "metadata": {},
   "source": [
    "Learn more about different distance metrics here - https://towardsdatascience.com/9-distance-measures-in-data-science-918109d069fa "
   ]
  },
  {
   "cell_type": "code",
   "execution_count": 23,
   "id": "ea0c139f",
   "metadata": {},
   "outputs": [
    {
     "data": {
      "text/plain": [
       "['chebyshev',\n",
       " 'cityblock',\n",
       " 'euclidean',\n",
       " 'infinity',\n",
       " 'l1',\n",
       " 'l2',\n",
       " 'manhattan',\n",
       " 'minkowski',\n",
       " 'p']"
      ]
     },
     "execution_count": 23,
     "metadata": {},
     "output_type": "execute_result"
    }
   ],
   "source": [
    "import sklearn\n",
    "sorted(sklearn.neighbors.VALID_METRICS['kd_tree'])"
   ]
  },
  {
   "cell_type": "code",
   "execution_count": 24,
   "id": "857a5656",
   "metadata": {},
   "outputs": [],
   "source": [
    "knn_tree = KNeighborsClassifier(metric='euclidean', algorithm='kd_tree') "
   ]
  },
  {
   "cell_type": "code",
   "execution_count": 25,
   "id": "aef029c2",
   "metadata": {},
   "outputs": [
    {
     "data": {
      "text/plain": [
       "KNeighborsClassifier(algorithm='kd_tree', metric='euclidean')"
      ]
     },
     "execution_count": 25,
     "metadata": {},
     "output_type": "execute_result"
    }
   ],
   "source": [
    "knn_tree.fit(x_down,y_down)"
   ]
  },
  {
   "cell_type": "code",
   "execution_count": 26,
   "id": "6af9ec68",
   "metadata": {},
   "outputs": [
    {
     "name": "stdout",
     "output_type": "stream",
     "text": [
      "0.92\n",
      "0.92\n",
      "0.92\n",
      "0.92\n",
      "0.92\n",
      "0.92\n",
      "0.92\n",
      "0.92\n",
      "1.87 s ± 670 ms per loop (mean ± std. dev. of 7 runs, 1 loop each)\n"
     ]
    }
   ],
   "source": [
    "%%timeit\n",
    "score3 = knn_tree.score(x1.head(300),y1.head(300))\n",
    "print(score3)"
   ]
  },
  {
   "cell_type": "markdown",
   "id": "b7e4438f",
   "metadata": {},
   "source": [
    "From the above tests, it looks as if KD Tree is the quickest search algorithm (and achieves the same accuracy, however I expect this to be slightly lower than brute force on full set as its approximate search) so this is the one we shall be using for our models. Although I only ran the searches on 300 data points, we shall assume that the algorithms scale linearly so KD Tree will be the quickest to run on the full set."
   ]
  },
  {
   "cell_type": "markdown",
   "id": "bfc742bd",
   "metadata": {},
   "source": [
    "# Testing"
   ]
  },
  {
   "cell_type": "markdown",
   "id": "b12457ba",
   "metadata": {},
   "source": [
    "First, you need to go to the Data folder of the report and save the 'imputed_test_90_10.csv' file to your working directory. "
   ]
  },
  {
   "cell_type": "markdown",
   "id": "af59e2c8",
   "metadata": {},
   "source": [
    "Then we shall import the test data and evaluate the 2 models (with different class ratios). Our output will be a csv file containing a probability for each datapoint. The probability represents how likely the model has deemed the data point to be classed as heart disease, given its K nearest neighbours. A probability of 1 means the model is very confident that the patient has heart disease."
   ]
  },
  {
   "cell_type": "code",
   "execution_count": 27,
   "id": "a30734e2",
   "metadata": {},
   "outputs": [
    {
     "data": {
      "text/html": [
       "<div>\n",
       "<style scoped>\n",
       "    .dataframe tbody tr th:only-of-type {\n",
       "        vertical-align: middle;\n",
       "    }\n",
       "\n",
       "    .dataframe tbody tr th {\n",
       "        vertical-align: top;\n",
       "    }\n",
       "\n",
       "    .dataframe thead th {\n",
       "        text-align: right;\n",
       "    }\n",
       "</style>\n",
       "<table border=\"1\" class=\"dataframe\">\n",
       "  <thead>\n",
       "    <tr style=\"text-align: right;\">\n",
       "      <th></th>\n",
       "      <th>HighBP</th>\n",
       "      <th>HighChol</th>\n",
       "      <th>CholCheck</th>\n",
       "      <th>BMI</th>\n",
       "      <th>Smoker</th>\n",
       "      <th>Stroke</th>\n",
       "      <th>Diabetes</th>\n",
       "      <th>PhysActivity</th>\n",
       "      <th>Fruits</th>\n",
       "      <th>Veggies</th>\n",
       "      <th>...</th>\n",
       "      <th>AnyHealthcare</th>\n",
       "      <th>NoDocbcCost</th>\n",
       "      <th>GenHlth</th>\n",
       "      <th>MentHlth</th>\n",
       "      <th>PhysHlth</th>\n",
       "      <th>DiffWalk</th>\n",
       "      <th>Sex</th>\n",
       "      <th>Age</th>\n",
       "      <th>Education</th>\n",
       "      <th>Income</th>\n",
       "    </tr>\n",
       "  </thead>\n",
       "  <tbody>\n",
       "    <tr>\n",
       "      <th>0</th>\n",
       "      <td>0.125</td>\n",
       "      <td>0.3</td>\n",
       "      <td>0.0</td>\n",
       "      <td>0.265237</td>\n",
       "      <td>0.2</td>\n",
       "      <td>0.125</td>\n",
       "      <td>0.4</td>\n",
       "      <td>0.125</td>\n",
       "      <td>0.125</td>\n",
       "      <td>0.0</td>\n",
       "      <td>...</td>\n",
       "      <td>0.0</td>\n",
       "      <td>0.000</td>\n",
       "      <td>0.500</td>\n",
       "      <td>0.142857</td>\n",
       "      <td>0.295918</td>\n",
       "      <td>0.2</td>\n",
       "      <td>0.0</td>\n",
       "      <td>0.461538</td>\n",
       "      <td>0.250</td>\n",
       "      <td>0.03</td>\n",
       "    </tr>\n",
       "    <tr>\n",
       "      <th>1</th>\n",
       "      <td>0.125</td>\n",
       "      <td>0.2</td>\n",
       "      <td>0.0</td>\n",
       "      <td>0.290588</td>\n",
       "      <td>0.2</td>\n",
       "      <td>0.125</td>\n",
       "      <td>0.4</td>\n",
       "      <td>0.000</td>\n",
       "      <td>0.000</td>\n",
       "      <td>0.0</td>\n",
       "      <td>...</td>\n",
       "      <td>0.0</td>\n",
       "      <td>0.125</td>\n",
       "      <td>0.125</td>\n",
       "      <td>0.887755</td>\n",
       "      <td>0.887755</td>\n",
       "      <td>0.3</td>\n",
       "      <td>0.0</td>\n",
       "      <td>0.692308</td>\n",
       "      <td>0.375</td>\n",
       "      <td>0.07</td>\n",
       "    </tr>\n",
       "    <tr>\n",
       "      <th>2</th>\n",
       "      <td>0.125</td>\n",
       "      <td>0.2</td>\n",
       "      <td>0.0</td>\n",
       "      <td>0.364952</td>\n",
       "      <td>0.2</td>\n",
       "      <td>0.125</td>\n",
       "      <td>0.2</td>\n",
       "      <td>0.125</td>\n",
       "      <td>0.000</td>\n",
       "      <td>0.0</td>\n",
       "      <td>...</td>\n",
       "      <td>0.0</td>\n",
       "      <td>0.125</td>\n",
       "      <td>0.375</td>\n",
       "      <td>0.193878</td>\n",
       "      <td>0.142857</td>\n",
       "      <td>0.2</td>\n",
       "      <td>1.0</td>\n",
       "      <td>0.615385</td>\n",
       "      <td>0.500</td>\n",
       "      <td>0.02</td>\n",
       "    </tr>\n",
       "    <tr>\n",
       "      <th>3</th>\n",
       "      <td>0.125</td>\n",
       "      <td>0.2</td>\n",
       "      <td>0.0</td>\n",
       "      <td>0.241048</td>\n",
       "      <td>0.2</td>\n",
       "      <td>0.125</td>\n",
       "      <td>0.4</td>\n",
       "      <td>0.000</td>\n",
       "      <td>0.000</td>\n",
       "      <td>0.0</td>\n",
       "      <td>...</td>\n",
       "      <td>0.0</td>\n",
       "      <td>0.125</td>\n",
       "      <td>0.250</td>\n",
       "      <td>0.887755</td>\n",
       "      <td>0.887755</td>\n",
       "      <td>0.3</td>\n",
       "      <td>0.0</td>\n",
       "      <td>0.846154</td>\n",
       "      <td>0.625</td>\n",
       "      <td>0.09</td>\n",
       "    </tr>\n",
       "    <tr>\n",
       "      <th>4</th>\n",
       "      <td>0.125</td>\n",
       "      <td>0.3</td>\n",
       "      <td>0.0</td>\n",
       "      <td>0.616563</td>\n",
       "      <td>0.3</td>\n",
       "      <td>0.000</td>\n",
       "      <td>0.4</td>\n",
       "      <td>0.125</td>\n",
       "      <td>1.000</td>\n",
       "      <td>0.0</td>\n",
       "      <td>...</td>\n",
       "      <td>0.0</td>\n",
       "      <td>0.125</td>\n",
       "      <td>0.375</td>\n",
       "      <td>0.091837</td>\n",
       "      <td>0.295918</td>\n",
       "      <td>0.2</td>\n",
       "      <td>1.0</td>\n",
       "      <td>0.692308</td>\n",
       "      <td>0.500</td>\n",
       "      <td>0.03</td>\n",
       "    </tr>\n",
       "  </tbody>\n",
       "</table>\n",
       "<p>5 rows × 21 columns</p>\n",
       "</div>"
      ],
      "text/plain": [
       "   HighBP  HighChol  CholCheck       BMI  Smoker  Stroke  Diabetes  \\\n",
       "0   0.125       0.3        0.0  0.265237     0.2   0.125       0.4   \n",
       "1   0.125       0.2        0.0  0.290588     0.2   0.125       0.4   \n",
       "2   0.125       0.2        0.0  0.364952     0.2   0.125       0.2   \n",
       "3   0.125       0.2        0.0  0.241048     0.2   0.125       0.4   \n",
       "4   0.125       0.3        0.0  0.616563     0.3   0.000       0.4   \n",
       "\n",
       "   PhysActivity  Fruits  Veggies  ...  AnyHealthcare  NoDocbcCost  GenHlth  \\\n",
       "0         0.125   0.125      0.0  ...            0.0        0.000    0.500   \n",
       "1         0.000   0.000      0.0  ...            0.0        0.125    0.125   \n",
       "2         0.125   0.000      0.0  ...            0.0        0.125    0.375   \n",
       "3         0.000   0.000      0.0  ...            0.0        0.125    0.250   \n",
       "4         0.125   1.000      0.0  ...            0.0        0.125    0.375   \n",
       "\n",
       "   MentHlth  PhysHlth  DiffWalk  Sex       Age  Education  Income  \n",
       "0  0.142857  0.295918       0.2  0.0  0.461538      0.250    0.03  \n",
       "1  0.887755  0.887755       0.3  0.0  0.692308      0.375    0.07  \n",
       "2  0.193878  0.142857       0.2  1.0  0.615385      0.500    0.02  \n",
       "3  0.887755  0.887755       0.3  0.0  0.846154      0.625    0.09  \n",
       "4  0.091837  0.295918       0.2  1.0  0.692308      0.500    0.03  \n",
       "\n",
       "[5 rows x 21 columns]"
      ]
     },
     "execution_count": 27,
     "metadata": {},
     "output_type": "execute_result"
    }
   ],
   "source": [
    "test_data_labelcsv = pd.read_csv('imputed_test_90_10.csv')\n",
    "test_data_label = test_data_labelcsv['HeartDiseaseorAttack']\n",
    "test_data = test_data_labelcsv.drop('HeartDiseaseorAttack', axis=1)\n",
    "test_data.head() # check no labels"
   ]
  },
  {
   "cell_type": "markdown",
   "id": "cc910d9e",
   "metadata": {},
   "source": [
    "## Model fitted with equal class ratios"
   ]
  },
  {
   "cell_type": "markdown",
   "id": "8abcb72e",
   "metadata": {},
   "source": [
    "We shall first test the model which fits to the downsampled data with equal ratios of each class."
   ]
  },
  {
   "cell_type": "code",
   "execution_count": 28,
   "id": "2cf103d5",
   "metadata": {},
   "outputs": [],
   "source": [
    "knn_tree_equal = KNeighborsClassifier(metric='euclidean', algorithm='kd_tree') "
   ]
  },
  {
   "cell_type": "code",
   "execution_count": 29,
   "id": "3fa25909",
   "metadata": {},
   "outputs": [],
   "source": [
    "x = data_downsampled.drop('HeartDiseaseorAttack',axis=1)\n",
    "y = data_downsampled['HeartDiseaseorAttack']"
   ]
  },
  {
   "cell_type": "code",
   "execution_count": 30,
   "id": "fe2e5136",
   "metadata": {},
   "outputs": [
    {
     "data": {
      "text/plain": [
       "KNeighborsClassifier(algorithm='kd_tree', metric='euclidean')"
      ]
     },
     "execution_count": 30,
     "metadata": {},
     "output_type": "execute_result"
    }
   ],
   "source": [
    "knn_tree_equal.fit(x,y)"
   ]
  },
  {
   "cell_type": "code",
   "execution_count": 31,
   "id": "3153f4b6",
   "metadata": {},
   "outputs": [],
   "source": [
    "probability_equal = knn_tree_equal.predict_proba(test_data)"
   ]
  },
  {
   "cell_type": "code",
   "execution_count": 32,
   "id": "37941a6d",
   "metadata": {},
   "outputs": [
    {
     "data": {
      "text/plain": [
       "0.773125185710041"
      ]
     },
     "execution_count": 32,
     "metadata": {},
     "output_type": "execute_result"
    }
   ],
   "source": [
    "knn_tree_equal.score(test_data,test_data_label)"
   ]
  },
  {
   "cell_type": "markdown",
   "id": "fa9e67b6",
   "metadata": {},
   "source": [
    "Predict_proba(X) returns an ndarray of shape (n_queries, n_classes). We shall remove one of the columns of the ndarray. Classes are ordered by lexicographic order so we shall take the second column as the probability that a datapoint is positive for heart disease."
   ]
  },
  {
   "cell_type": "code",
   "execution_count": 33,
   "id": "a7ebf6e4",
   "metadata": {},
   "outputs": [
    {
     "name": "stdout",
     "output_type": "stream",
     "text": [
      "[[0.4 0.6]\n",
      " [0.8 0.2]\n",
      " [0.  1. ]\n",
      " [0.  1. ]\n",
      " [0.2 0.8]]\n"
     ]
    }
   ],
   "source": [
    "# check output\n",
    "print(probability_equal[:5, :])"
   ]
  },
  {
   "cell_type": "code",
   "execution_count": 34,
   "id": "b5a820f6",
   "metadata": {},
   "outputs": [],
   "source": [
    "C = np.delete(probability_equal, 0, 1)  # delete first column"
   ]
  },
  {
   "cell_type": "code",
   "execution_count": 35,
   "id": "b8e477e9",
   "metadata": {},
   "outputs": [
    {
     "name": "stdout",
     "output_type": "stream",
     "text": [
      "[[0.6]\n",
      " [0.2]\n",
      " [1. ]\n",
      " [1. ]\n",
      " [0.8]]\n"
     ]
    }
   ],
   "source": [
    "print(C[:5, :])"
   ]
  },
  {
   "cell_type": "code",
   "execution_count": 36,
   "id": "017c5939",
   "metadata": {},
   "outputs": [],
   "source": [
    "# convert to df and output probs to csv\n",
    "dataframe1 = pd.DataFrame(C)\n",
    "dataframe1.to_csv('test_prob_equal.csv', index=False)"
   ]
  },
  {
   "cell_type": "markdown",
   "id": "e57a6ad1",
   "metadata": {},
   "source": [
    "## Model fitted with preserved class ratios"
   ]
  },
  {
   "cell_type": "markdown",
   "id": "26861de8",
   "metadata": {},
   "source": [
    "Here we run the model whilst fitting to the downsampled data where there are only 6.9% of patients with heart disease."
   ]
  },
  {
   "cell_type": "code",
   "execution_count": 37,
   "id": "e6960a2b",
   "metadata": {},
   "outputs": [],
   "source": [
    "knn_tree_preserve = KNeighborsClassifier(metric='euclidean', algorithm='kd_tree') "
   ]
  },
  {
   "cell_type": "code",
   "execution_count": 38,
   "id": "93d5995a",
   "metadata": {},
   "outputs": [],
   "source": [
    "x_down = data_downsampled2.drop('HeartDiseaseorAttack',axis=1)\n",
    "y_down = data_downsampled2['HeartDiseaseorAttack']"
   ]
  },
  {
   "cell_type": "code",
   "execution_count": 39,
   "id": "ddd79cf5",
   "metadata": {},
   "outputs": [
    {
     "data": {
      "text/plain": [
       "KNeighborsClassifier(algorithm='kd_tree', metric='euclidean')"
      ]
     },
     "execution_count": 39,
     "metadata": {},
     "output_type": "execute_result"
    }
   ],
   "source": [
    "knn_tree_preserve.fit(x_down,y_down)"
   ]
  },
  {
   "cell_type": "code",
   "execution_count": 40,
   "id": "90c7a041",
   "metadata": {},
   "outputs": [],
   "source": [
    "probability_preserved = knn_tree_preserve.predict_proba(test_data)"
   ]
  },
  {
   "cell_type": "code",
   "execution_count": 41,
   "id": "30c105ca",
   "metadata": {},
   "outputs": [
    {
     "data": {
      "text/plain": [
       "0.9051678818769857"
      ]
     },
     "execution_count": 41,
     "metadata": {},
     "output_type": "execute_result"
    }
   ],
   "source": [
    "knn_tree_preserve.score(test_data,test_data_label)"
   ]
  },
  {
   "cell_type": "code",
   "execution_count": 42,
   "id": "5ed493c8",
   "metadata": {},
   "outputs": [
    {
     "name": "stdout",
     "output_type": "stream",
     "text": [
      "[[1.  0. ]\n",
      " [1.  0. ]\n",
      " [0.4 0.6]\n",
      " [0.6 0.4]\n",
      " [0.8 0.2]]\n"
     ]
    }
   ],
   "source": [
    "# check output\n",
    "print(probability_preserved[:5, :])"
   ]
  },
  {
   "cell_type": "code",
   "execution_count": 43,
   "id": "6bf38dd5",
   "metadata": {},
   "outputs": [],
   "source": [
    "D = np.delete(probability_preserved, 0, 1)  # delete first column as these are probabilities that the data is a 0"
   ]
  },
  {
   "cell_type": "code",
   "execution_count": 44,
   "id": "387dc929",
   "metadata": {},
   "outputs": [
    {
     "name": "stdout",
     "output_type": "stream",
     "text": [
      "[[0. ]\n",
      " [0. ]\n",
      " [0.6]\n",
      " [0.4]\n",
      " [0.2]]\n"
     ]
    }
   ],
   "source": [
    "print(D[:5, :])"
   ]
  },
  {
   "cell_type": "code",
   "execution_count": 45,
   "id": "a8f861b7",
   "metadata": {},
   "outputs": [],
   "source": [
    "# convert to df and output probs to csv\n",
    "dataframe1 = pd.DataFrame(D)\n",
    "dataframe1.to_csv('test_prob_preserved.csv', index=False)"
   ]
  },
  {
   "cell_type": "markdown",
   "id": "f17790f7",
   "metadata": {},
   "source": [
    "The test set probabilties are outputted to a csv and are ready for model comparison."
   ]
  }
 ],
 "metadata": {
  "kernelspec": {
   "display_name": "Python 3 (ipykernel)",
   "language": "python",
   "name": "python3"
  },
  "language_info": {
   "codemirror_mode": {
    "name": "ipython",
    "version": 3
   },
   "file_extension": ".py",
   "mimetype": "text/x-python",
   "name": "python",
   "nbconvert_exporter": "python",
   "pygments_lexer": "ipython3",
   "version": "3.9.12"
  }
 },
 "nbformat": 4,
 "nbformat_minor": 5
}
