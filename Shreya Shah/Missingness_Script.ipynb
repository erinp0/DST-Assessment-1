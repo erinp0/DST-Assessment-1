{
 "cells": [
  {
   "cell_type": "code",
   "execution_count": 10,
   "metadata": {},
   "outputs": [],
   "source": [
    "#imports\n",
    "import os\n",
    "import pandas as pd\n",
    "import random\n",
    "from numpy.random import RandomState\n",
    "rng = RandomState()\n",
    "random.seed(1)"
   ]
  },
  {
   "cell_type": "code",
   "execution_count": 15,
   "metadata": {},
   "outputs": [
    {
     "data": {
      "text/plain": [
       "<bound method NDFrame.head of         HeartDiseaseorAttack  HighBP  HighChol  CholCheck   BMI  Smoker  \\\n",
       "0                        0.0     1.0       1.0        1.0  40.0     1.0   \n",
       "1                        0.0     0.0       0.0        0.0  25.0     1.0   \n",
       "2                        0.0     1.0       1.0        1.0  28.0     0.0   \n",
       "3                        0.0     0.0       0.0        1.0  24.0     0.0   \n",
       "4                        0.0     1.0       0.0        1.0  27.0     0.0   \n",
       "...                      ...     ...       ...        ...   ...     ...   \n",
       "437509                   0.0     1.0       1.0        1.0  18.0     0.0   \n",
       "437510                   0.0     0.0       0.0        1.0  28.0     0.0   \n",
       "437511                   0.0     1.0       1.0        1.0  41.0     1.0   \n",
       "437512                   0.0     1.0       0.0        1.0  23.0     0.0   \n",
       "437513                   1.0     1.0       1.0        1.0  25.0     0.0   \n",
       "\n",
       "        Stroke  Diabetes  PhysActivity  Fruits  ...  AnyHealthcare  \\\n",
       "0          0.0       0.0           0.0     0.0  ...            1.0   \n",
       "1          0.0       0.0           1.0     0.0  ...            0.0   \n",
       "2          0.0       0.0           0.0     1.0  ...            1.0   \n",
       "3          0.0       0.0           0.0    -1.0  ...            1.0   \n",
       "4          0.0       0.0           1.0     1.0  ...            1.0   \n",
       "...        ...       ...           ...     ...  ...            ...   \n",
       "437509     0.0       0.0           0.0     0.0  ...            1.0   \n",
       "437510     0.0       0.0           1.0     1.0  ...            1.0   \n",
       "437511     0.0       0.0          -1.0    -1.0  ...            1.0   \n",
       "437512     0.0       0.0           0.0     1.0  ...            1.0   \n",
       "437513     0.0       0.0           1.0     1.0  ...            1.0   \n",
       "\n",
       "        NoDocbcCost  GenHlth  MentHlth  PhysHlth  DiffWalk  Sex   Age  \\\n",
       "0               0.0      5.0      18.0      15.0       1.0  0.0   9.0   \n",
       "1               1.0      3.0       0.0       0.0       0.0  0.0   7.0   \n",
       "2               1.0      5.0      30.0      30.0       1.0  0.0   9.0   \n",
       "3               0.0      5.0       0.0      20.0       0.0  0.0   9.0   \n",
       "4               0.0      2.0       0.0       0.0       0.0  0.0  11.0   \n",
       "...             ...      ...       ...       ...       ...  ...   ...   \n",
       "437509          0.0      4.0       0.0       0.0       1.0  0.0  11.0   \n",
       "437510          0.0      1.0       0.0       0.0       0.0  0.0   2.0   \n",
       "437511          0.0      4.0      20.0       0.0       0.0  0.0  11.0   \n",
       "437512          0.0      3.0       0.0       0.0       0.0  1.0   7.0   \n",
       "437513          0.0      2.0       0.0       0.0       0.0  0.0   9.0   \n",
       "\n",
       "        Education  Income  \n",
       "0             4.0     3.0  \n",
       "1             6.0     1.0  \n",
       "2             4.0     8.0  \n",
       "3             5.0    -1.0  \n",
       "4             3.0     6.0  \n",
       "...           ...     ...  \n",
       "437509        2.0     4.0  \n",
       "437510        5.0     2.0  \n",
       "437511        4.0     5.0  \n",
       "437512        5.0     1.0  \n",
       "437513        6.0     2.0  \n",
       "\n",
       "[437514 rows x 22 columns]>"
      ]
     },
     "execution_count": 15,
     "metadata": {},
     "output_type": "execute_result"
    }
   ],
   "source": [
    "df = pd.read_csv('heart_disease_health_indicators_BRFSS2015.csv')\n",
    "df.head"
   ]
  },
  {
   "cell_type": "markdown",
   "metadata": {},
   "source": [
    "\n",
    "for i in range(22):\n",
    "    print(df.iloc[:,i].head())\n",
    "    if(-1.0 in df.iloc[:,i]):\n",
    "        print(\"hi\")\n",
    "        #print(df.iloc[:,i].value_counts()/df.iloc[:,i].count() * 100)\n",
    "        #print((df.iloc[:,i].value_counts(normalize = True)[-1]))\n",
    "    "
   ]
  },
  {
   "cell_type": "code",
   "execution_count": 63,
   "metadata": {},
   "outputs": [
    {
     "name": "stdout",
     "output_type": "stream",
     "text": [
      "0.0\n",
      "0.2815909890883492\n",
      "14.16480386913333\n",
      "3.423433307277024\n",
      "0.0\n",
      "3.944330924267566\n",
      "0.22604990926004656\n",
      "0.14468108449101058\n",
      "8.571154294491148\n",
      "9.832371078411205\n",
      "11.494946447427969\n",
      "5.791814661930818\n",
      "0.4036442262419031\n",
      "0.2555346800330961\n",
      "0.2719912962785191\n",
      "1.6333191623582333\n",
      "2.1528453946616564\n",
      "3.2705239146633023\n",
      "0.0\n",
      "1.1885333955027726\n",
      "0.39381596931755325\n",
      "17.877370781277858\n",
      "   HeartDiseaseorAttack    HighBP   HighChol  CholCheck  BMI    Smoker  \\\n",
      "0                   0.0  0.281591  14.164804   3.423433  0.0  3.944331   \n",
      "\n",
      "    Stroke  Diabetes  PhysActivity    Fruits  ...  AnyHealthcare  NoDocbcCost  \\\n",
      "0  0.22605  0.144681      8.571154  9.832371  ...       0.403644     0.255535   \n",
      "\n",
      "    GenHlth  MentHlth  PhysHlth  DiffWalk  Sex       Age  Education     Income  \n",
      "0  0.271991  1.633319  2.152845  3.270524  0.0  1.188533   0.393816  17.877371  \n",
      "\n",
      "[1 rows x 22 columns]\n"
     ]
    }
   ],
   "source": [
    "leng = df.shape[0]\n",
    "df.shape\n",
    "res = pd.DataFrame()\n",
    "for i in range(22):\n",
    "    current = df.iloc[:,i]\n",
    "    counter = 0\n",
    "    total = current.shape[0]\n",
    "    for j in range(total):\n",
    "        if(current[j] == -1):\n",
    "            counter += 1\n",
    "    final = counter/total*100\n",
    "    tfinal = [final]\n",
    "    print(final)\n",
    "    res[df.columns[i]] = tfinal\n",
    "print(res)\n"
   ]
  },
  {
   "cell_type": "code",
   "execution_count": 73,
   "metadata": {},
   "outputs": [
    {
     "name": "stdout",
     "output_type": "stream",
     "text": [
      "[3.878307063005153]\n"
     ]
    }
   ],
   "source": [
    "row = [res.mean(axis = 1)[0]]\n",
    "print(row)\n",
    "\n",
    "res[\"Total\"] = row\n",
    "res.to_csv('missing.csv', sep=\",\", index=False)"
   ]
  },
  {
   "cell_type": "code",
   "execution_count": 74,
   "metadata": {},
   "outputs": [],
   "source": [
    "orig = pd.read_csv('2015.csv')"
   ]
  },
  {
   "cell_type": "code",
   "execution_count": 96,
   "metadata": {
    "scrolled": true
   },
   "outputs": [
    {
     "data": {
      "text/plain": [
       "2.0    49.556694\n",
       "1.0    36.236907\n",
       "NaN    13.399750\n",
       "7.0     0.687951\n",
       "9.0     0.118698\n",
       "Name: TOLDHI2, dtype: float64"
      ]
     },
     "execution_count": 96,
     "metadata": {},
     "output_type": "execute_result"
    }
   ],
   "source": [
    "orig['TOLDHI2'].value_counts(normalize = True, dropna=False)*100"
   ]
  },
  {
   "cell_type": "code",
   "execution_count": 97,
   "metadata": {},
   "outputs": [
    {
     "data": {
      "text/plain": [
       "2.0    54.276757\n",
       "1.0    41.747988\n",
       "NaN     3.229087\n",
       "7.0     0.414990\n",
       "9.0     0.331177\n",
       "Name: SMOKE100, dtype: float64"
      ]
     },
     "execution_count": 97,
     "metadata": {},
     "output_type": "execute_result"
    }
   ],
   "source": [
    "orig['SMOKE100'].value_counts(normalize = True, dropna=False)*100"
   ]
  },
  {
   "cell_type": "code",
   "execution_count": 98,
   "metadata": {},
   "outputs": [
    {
     "data": {
      "text/plain": [
       "1.0    67.055380\n",
       "2.0    24.338552\n",
       "9.0     8.606067\n",
       "Name: _TOTINDA, dtype: float64"
      ]
     },
     "execution_count": 98,
     "metadata": {},
     "output_type": "execute_result"
    }
   ],
   "source": [
    "orig['_TOTINDA'].value_counts(normalize = True, dropna=False)*100"
   ]
  },
  {
   "cell_type": "code",
   "execution_count": 99,
   "metadata": {},
   "outputs": [
    {
     "data": {
      "text/plain": [
       "1.0    56.136285\n",
       "2.0    33.962162\n",
       "9.0     9.901553\n",
       "Name: _FRTLT1, dtype: float64"
      ]
     },
     "execution_count": 99,
     "metadata": {},
     "output_type": "execute_result"
    }
   ],
   "source": [
    "orig['_FRTLT1'].value_counts(normalize = True, dropna=False)*100"
   ]
  },
  {
   "cell_type": "code",
   "execution_count": 100,
   "metadata": {},
   "outputs": [
    {
     "data": {
      "text/plain": [
       "1.0    70.122730\n",
       "2.0    18.298086\n",
       "9.0    11.579183\n",
       "Name: _VEGLT1, dtype: float64"
      ]
     },
     "execution_count": 100,
     "metadata": {},
     "output_type": "execute_result"
    }
   ],
   "source": [
    "orig['_VEGLT1'].value_counts(normalize = True, dropna=False)*100"
   ]
  },
  {
   "cell_type": "code",
   "execution_count": 101,
   "metadata": {},
   "outputs": [
    {
     "data": {
      "text/plain": [
       "1.0    89.172647\n",
       "9.0     5.829120\n",
       "2.0     4.998233\n",
       "Name: _RFDRHV5, dtype: float64"
      ]
     },
     "execution_count": 101,
     "metadata": {},
     "output_type": "execute_result"
    }
   ],
   "source": [
    "orig['_RFDRHV5'].value_counts(normalize = True, dropna=False)*100"
   ]
  },
  {
   "cell_type": "code",
   "execution_count": 102,
   "metadata": {},
   "outputs": [
    {
     "data": {
      "text/plain": [
       "8.0     26.120837\n",
       "7.0     13.167790\n",
       "6.0     11.790983\n",
       "99.0     9.275217\n",
       "5.0      8.887635\n",
       "77.0     7.986753\n",
       "4.0      7.334140\n",
       "3.0      6.070141\n",
       "2.0      4.439627\n",
       "1.0      4.179125\n",
       "NaN      0.747753\n",
       "Name: INCOME2, dtype: float64"
      ]
     },
     "execution_count": 102,
     "metadata": {},
     "output_type": "execute_result"
    }
   ],
   "source": [
    "orig['INCOME2'].value_counts(normalize = True, dropna=False)*100"
   ]
  }
 ],
 "metadata": {
  "kernelspec": {
   "display_name": "Python 3",
   "language": "python",
   "name": "python3"
  },
  "language_info": {
   "codemirror_mode": {
    "name": "ipython",
    "version": 3
   },
   "file_extension": ".py",
   "mimetype": "text/x-python",
   "name": "python",
   "nbconvert_exporter": "python",
   "pygments_lexer": "ipython3",
   "version": "3.8.5"
  }
 },
 "nbformat": 4,
 "nbformat_minor": 4
}
