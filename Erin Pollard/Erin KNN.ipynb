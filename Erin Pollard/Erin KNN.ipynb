{
 "cells": [
  {
   "cell_type": "markdown",
   "id": "c60ace85",
   "metadata": {},
   "source": [
    "We first must download the necesary libraries/packages."
   ]
  },
  {
   "cell_type": "code",
   "execution_count": 68,
   "id": "8d26dd46",
   "metadata": {},
   "outputs": [],
   "source": [
    "import numpy as np\n",
    "import pandas as pd\n",
    "import matplotlib.pyplot as plt\n",
    "import seaborn as sns\n",
    "sns.set()\n",
    "import warnings\n",
    "warnings.filterwarnings('ignore')\n",
    "%matplotlib inline"
   ]
  },
  {
   "cell_type": "markdown",
   "id": "63fc77af",
   "metadata": {},
   "source": [
    "# Obtaining our training dataset"
   ]
  },
  {
   "cell_type": "markdown",
   "id": "1bed58ec",
   "metadata": {},
   "source": [
    "Here we load the csv which contains our training dataset and display the first 5 rows, to check everything is as expected. We load the imputed dataset (approx 36,000 datapoints)."
   ]
  },
  {
   "cell_type": "code",
   "execution_count": 69,
   "id": "934265b0",
   "metadata": {},
   "outputs": [
    {
     "data": {
      "text/html": [
       "<div>\n",
       "<style scoped>\n",
       "    .dataframe tbody tr th:only-of-type {\n",
       "        vertical-align: middle;\n",
       "    }\n",
       "\n",
       "    .dataframe tbody tr th {\n",
       "        vertical-align: top;\n",
       "    }\n",
       "\n",
       "    .dataframe thead th {\n",
       "        text-align: right;\n",
       "    }\n",
       "</style>\n",
       "<table border=\"1\" class=\"dataframe\">\n",
       "  <thead>\n",
       "    <tr style=\"text-align: right;\">\n",
       "      <th></th>\n",
       "      <th>HeartDiseaseorAttack</th>\n",
       "      <th>HighBP</th>\n",
       "      <th>HighChol</th>\n",
       "      <th>CholCheck</th>\n",
       "      <th>BMI</th>\n",
       "      <th>Smoker</th>\n",
       "      <th>Stroke</th>\n",
       "      <th>Diabetes</th>\n",
       "      <th>PhysActivity</th>\n",
       "      <th>Fruits</th>\n",
       "      <th>...</th>\n",
       "      <th>AnyHealthcare</th>\n",
       "      <th>NoDocbcCost</th>\n",
       "      <th>GenHlth</th>\n",
       "      <th>MentHlth</th>\n",
       "      <th>PhysHlth</th>\n",
       "      <th>DiffWalk</th>\n",
       "      <th>Sex</th>\n",
       "      <th>Age</th>\n",
       "      <th>Education</th>\n",
       "      <th>Income</th>\n",
       "    </tr>\n",
       "  </thead>\n",
       "  <tbody>\n",
       "    <tr>\n",
       "      <th>0</th>\n",
       "      <td>1.0</td>\n",
       "      <td>1.0</td>\n",
       "      <td>0.5</td>\n",
       "      <td>1.0</td>\n",
       "      <td>0.27</td>\n",
       "      <td>0.5</td>\n",
       "      <td>0.5</td>\n",
       "      <td>0.333333</td>\n",
       "      <td>0.0</td>\n",
       "      <td>0.0</td>\n",
       "      <td>...</td>\n",
       "      <td>1.0</td>\n",
       "      <td>0.5</td>\n",
       "      <td>0.666667</td>\n",
       "      <td>0.032258</td>\n",
       "      <td>0.032258</td>\n",
       "      <td>1.0</td>\n",
       "      <td>0.0</td>\n",
       "      <td>1.000000</td>\n",
       "      <td>0.857143</td>\n",
       "      <td>0.000000</td>\n",
       "    </tr>\n",
       "    <tr>\n",
       "      <th>1</th>\n",
       "      <td>1.0</td>\n",
       "      <td>1.0</td>\n",
       "      <td>1.0</td>\n",
       "      <td>1.0</td>\n",
       "      <td>0.30</td>\n",
       "      <td>1.0</td>\n",
       "      <td>0.5</td>\n",
       "      <td>0.333333</td>\n",
       "      <td>0.5</td>\n",
       "      <td>1.0</td>\n",
       "      <td>...</td>\n",
       "      <td>1.0</td>\n",
       "      <td>0.5</td>\n",
       "      <td>1.000000</td>\n",
       "      <td>1.000000</td>\n",
       "      <td>1.000000</td>\n",
       "      <td>1.0</td>\n",
       "      <td>0.0</td>\n",
       "      <td>0.714286</td>\n",
       "      <td>0.857143</td>\n",
       "      <td>0.222222</td>\n",
       "    </tr>\n",
       "    <tr>\n",
       "      <th>2</th>\n",
       "      <td>1.0</td>\n",
       "      <td>1.0</td>\n",
       "      <td>1.0</td>\n",
       "      <td>1.0</td>\n",
       "      <td>0.27</td>\n",
       "      <td>1.0</td>\n",
       "      <td>0.5</td>\n",
       "      <td>0.333333</td>\n",
       "      <td>0.5</td>\n",
       "      <td>1.0</td>\n",
       "      <td>...</td>\n",
       "      <td>1.0</td>\n",
       "      <td>0.0</td>\n",
       "      <td>0.666667</td>\n",
       "      <td>0.032258</td>\n",
       "      <td>0.032258</td>\n",
       "      <td>0.5</td>\n",
       "      <td>1.0</td>\n",
       "      <td>1.000000</td>\n",
       "      <td>0.571429</td>\n",
       "      <td>0.555556</td>\n",
       "    </tr>\n",
       "    <tr>\n",
       "      <th>3</th>\n",
       "      <td>1.0</td>\n",
       "      <td>0.5</td>\n",
       "      <td>1.0</td>\n",
       "      <td>0.0</td>\n",
       "      <td>0.31</td>\n",
       "      <td>1.0</td>\n",
       "      <td>0.5</td>\n",
       "      <td>0.333333</td>\n",
       "      <td>0.5</td>\n",
       "      <td>0.5</td>\n",
       "      <td>...</td>\n",
       "      <td>1.0</td>\n",
       "      <td>0.5</td>\n",
       "      <td>0.666667</td>\n",
       "      <td>0.032258</td>\n",
       "      <td>0.000000</td>\n",
       "      <td>0.5</td>\n",
       "      <td>1.0</td>\n",
       "      <td>0.928571</td>\n",
       "      <td>0.428571</td>\n",
       "      <td>0.444444</td>\n",
       "    </tr>\n",
       "    <tr>\n",
       "      <th>4</th>\n",
       "      <td>1.0</td>\n",
       "      <td>1.0</td>\n",
       "      <td>1.0</td>\n",
       "      <td>1.0</td>\n",
       "      <td>0.28</td>\n",
       "      <td>1.0</td>\n",
       "      <td>1.0</td>\n",
       "      <td>0.333333</td>\n",
       "      <td>1.0</td>\n",
       "      <td>1.0</td>\n",
       "      <td>...</td>\n",
       "      <td>1.0</td>\n",
       "      <td>1.0</td>\n",
       "      <td>1.000000</td>\n",
       "      <td>0.000000</td>\n",
       "      <td>0.000000</td>\n",
       "      <td>1.0</td>\n",
       "      <td>1.0</td>\n",
       "      <td>0.714286</td>\n",
       "      <td>0.714286</td>\n",
       "      <td>0.444444</td>\n",
       "    </tr>\n",
       "  </tbody>\n",
       "</table>\n",
       "<p>5 rows × 22 columns</p>\n",
       "</div>"
      ],
      "text/plain": [
       "   HeartDiseaseorAttack  HighBP  HighChol  CholCheck   BMI  Smoker  Stroke  \\\n",
       "0                   1.0     1.0       0.5        1.0  0.27     0.5     0.5   \n",
       "1                   1.0     1.0       1.0        1.0  0.30     1.0     0.5   \n",
       "2                   1.0     1.0       1.0        1.0  0.27     1.0     0.5   \n",
       "3                   1.0     0.5       1.0        0.0  0.31     1.0     0.5   \n",
       "4                   1.0     1.0       1.0        1.0  0.28     1.0     1.0   \n",
       "\n",
       "   Diabetes  PhysActivity  Fruits  ...  AnyHealthcare  NoDocbcCost   GenHlth  \\\n",
       "0  0.333333           0.0     0.0  ...            1.0          0.5  0.666667   \n",
       "1  0.333333           0.5     1.0  ...            1.0          0.5  1.000000   \n",
       "2  0.333333           0.5     1.0  ...            1.0          0.0  0.666667   \n",
       "3  0.333333           0.5     0.5  ...            1.0          0.5  0.666667   \n",
       "4  0.333333           1.0     1.0  ...            1.0          1.0  1.000000   \n",
       "\n",
       "   MentHlth  PhysHlth  DiffWalk  Sex       Age  Education    Income  \n",
       "0  0.032258  0.032258       1.0  0.0  1.000000   0.857143  0.000000  \n",
       "1  1.000000  1.000000       1.0  0.0  0.714286   0.857143  0.222222  \n",
       "2  0.032258  0.032258       0.5  1.0  1.000000   0.571429  0.555556  \n",
       "3  0.032258  0.000000       0.5  1.0  0.928571   0.428571  0.444444  \n",
       "4  0.000000  0.000000       1.0  1.0  0.714286   0.714286  0.444444  \n",
       "\n",
       "[5 rows x 22 columns]"
      ]
     },
     "execution_count": 69,
     "metadata": {},
     "output_type": "execute_result"
    }
   ],
   "source": [
    "hd_data = pd.read_csv('TrainingDataImputation.csv')\n",
    "hd_data.head()"
   ]
  },
  {
   "cell_type": "markdown",
   "id": "87738e16",
   "metadata": {},
   "source": [
    "# Exploratory Data Analysis"
   ]
  },
  {
   "cell_type": "markdown",
   "id": "407a3bc3",
   "metadata": {},
   "source": [
    "This gives us info about the dataset and the variables, and whether there are any null entries."
   ]
  },
  {
   "cell_type": "code",
   "execution_count": 70,
   "id": "5cc236e9",
   "metadata": {},
   "outputs": [
    {
     "name": "stdout",
     "output_type": "stream",
     "text": [
      "<class 'pandas.core.frame.DataFrame'>\n",
      "RangeIndex: 412514 entries, 0 to 412513\n",
      "Data columns (total 22 columns):\n",
      " #   Column                Non-Null Count   Dtype  \n",
      "---  ------                --------------   -----  \n",
      " 0   HeartDiseaseorAttack  412514 non-null  float64\n",
      " 1   HighBP                412514 non-null  float64\n",
      " 2   HighChol              412514 non-null  float64\n",
      " 3   CholCheck             412514 non-null  float64\n",
      " 4   BMI                   412514 non-null  float64\n",
      " 5   Smoker                412514 non-null  float64\n",
      " 6   Stroke                412514 non-null  float64\n",
      " 7   Diabetes              412514 non-null  float64\n",
      " 8   PhysActivity          412514 non-null  float64\n",
      " 9   Fruits                412514 non-null  float64\n",
      " 10  Veggies               412514 non-null  float64\n",
      " 11  HvyAlcoholConsump     412514 non-null  float64\n",
      " 12  AnyHealthcare         412514 non-null  float64\n",
      " 13  NoDocbcCost           412514 non-null  float64\n",
      " 14  GenHlth               412514 non-null  float64\n",
      " 15  MentHlth              412514 non-null  float64\n",
      " 16  PhysHlth              412514 non-null  float64\n",
      " 17  DiffWalk              412514 non-null  float64\n",
      " 18  Sex                   412514 non-null  float64\n",
      " 19  Age                   412514 non-null  float64\n",
      " 20  Education             412514 non-null  float64\n",
      " 21  Income                412514 non-null  float64\n",
      "dtypes: float64(22)\n",
      "memory usage: 69.2 MB\n"
     ]
    }
   ],
   "source": [
    "hd_data.info(verbose=True)"
   ]
  },
  {
   "cell_type": "markdown",
   "id": "70b7687f",
   "metadata": {},
   "source": [
    "The describe function provides basic statistical details about our dataset. Only columns containing numerical values are displayed but luckily all of our features are numerical values already. The 'T' following the describe function transposes the output table."
   ]
  },
  {
   "cell_type": "code",
   "execution_count": 71,
   "id": "03f52e86",
   "metadata": {},
   "outputs": [
    {
     "data": {
      "text/html": [
       "<div>\n",
       "<style scoped>\n",
       "    .dataframe tbody tr th:only-of-type {\n",
       "        vertical-align: middle;\n",
       "    }\n",
       "\n",
       "    .dataframe tbody tr th {\n",
       "        vertical-align: top;\n",
       "    }\n",
       "\n",
       "    .dataframe thead th {\n",
       "        text-align: right;\n",
       "    }\n",
       "</style>\n",
       "<table border=\"1\" class=\"dataframe\">\n",
       "  <thead>\n",
       "    <tr style=\"text-align: right;\">\n",
       "      <th></th>\n",
       "      <th>count</th>\n",
       "      <th>mean</th>\n",
       "      <th>std</th>\n",
       "      <th>min</th>\n",
       "      <th>25%</th>\n",
       "      <th>50%</th>\n",
       "      <th>75%</th>\n",
       "      <th>max</th>\n",
       "    </tr>\n",
       "  </thead>\n",
       "  <tbody>\n",
       "    <tr>\n",
       "      <th>HeartDiseaseorAttack</th>\n",
       "      <td>412514.0</td>\n",
       "      <td>0.069411</td>\n",
       "      <td>0.254152</td>\n",
       "      <td>0.0</td>\n",
       "      <td>0.000000</td>\n",
       "      <td>0.000000</td>\n",
       "      <td>0.000000</td>\n",
       "      <td>1.0</td>\n",
       "    </tr>\n",
       "    <tr>\n",
       "      <th>HighBP</th>\n",
       "      <td>412514.0</td>\n",
       "      <td>0.695696</td>\n",
       "      <td>0.246903</td>\n",
       "      <td>0.0</td>\n",
       "      <td>0.500000</td>\n",
       "      <td>0.500000</td>\n",
       "      <td>1.000000</td>\n",
       "      <td>1.0</td>\n",
       "    </tr>\n",
       "    <tr>\n",
       "      <th>HighChol</th>\n",
       "      <td>412514.0</td>\n",
       "      <td>0.605806</td>\n",
       "      <td>0.336791</td>\n",
       "      <td>0.0</td>\n",
       "      <td>0.500000</td>\n",
       "      <td>0.500000</td>\n",
       "      <td>1.000000</td>\n",
       "      <td>1.0</td>\n",
       "    </tr>\n",
       "    <tr>\n",
       "      <th>CholCheck</th>\n",
       "      <td>412514.0</td>\n",
       "      <td>0.892970</td>\n",
       "      <td>0.243270</td>\n",
       "      <td>0.0</td>\n",
       "      <td>1.000000</td>\n",
       "      <td>1.000000</td>\n",
       "      <td>1.000000</td>\n",
       "      <td>1.0</td>\n",
       "    </tr>\n",
       "    <tr>\n",
       "      <th>BMI</th>\n",
       "      <td>412514.0</td>\n",
       "      <td>0.256821</td>\n",
       "      <td>0.100014</td>\n",
       "      <td>0.0</td>\n",
       "      <td>0.230000</td>\n",
       "      <td>0.260000</td>\n",
       "      <td>0.300000</td>\n",
       "      <td>1.0</td>\n",
       "    </tr>\n",
       "    <tr>\n",
       "      <th>Smoker</th>\n",
       "      <td>412514.0</td>\n",
       "      <td>0.686885</td>\n",
       "      <td>0.279861</td>\n",
       "      <td>0.0</td>\n",
       "      <td>0.500000</td>\n",
       "      <td>0.500000</td>\n",
       "      <td>1.000000</td>\n",
       "      <td>1.0</td>\n",
       "    </tr>\n",
       "    <tr>\n",
       "      <th>Stroke</th>\n",
       "      <td>412514.0</td>\n",
       "      <td>0.517856</td>\n",
       "      <td>0.098330</td>\n",
       "      <td>0.0</td>\n",
       "      <td>0.500000</td>\n",
       "      <td>0.500000</td>\n",
       "      <td>0.500000</td>\n",
       "      <td>1.0</td>\n",
       "    </tr>\n",
       "    <tr>\n",
       "      <th>Diabetes</th>\n",
       "      <td>412514.0</td>\n",
       "      <td>0.344209</td>\n",
       "      <td>0.087280</td>\n",
       "      <td>0.0</td>\n",
       "      <td>0.333333</td>\n",
       "      <td>0.333333</td>\n",
       "      <td>0.333333</td>\n",
       "      <td>1.0</td>\n",
       "    </tr>\n",
       "    <tr>\n",
       "      <th>PhysActivity</th>\n",
       "      <td>412514.0</td>\n",
       "      <td>0.794167</td>\n",
       "      <td>0.321738</td>\n",
       "      <td>0.0</td>\n",
       "      <td>0.500000</td>\n",
       "      <td>1.000000</td>\n",
       "      <td>1.000000</td>\n",
       "      <td>1.0</td>\n",
       "    </tr>\n",
       "    <tr>\n",
       "      <th>Fruits</th>\n",
       "      <td>412514.0</td>\n",
       "      <td>0.732088</td>\n",
       "      <td>0.333699</td>\n",
       "      <td>0.0</td>\n",
       "      <td>0.500000</td>\n",
       "      <td>1.000000</td>\n",
       "      <td>1.000000</td>\n",
       "      <td>1.0</td>\n",
       "    </tr>\n",
       "    <tr>\n",
       "      <th>Veggies</th>\n",
       "      <td>412514.0</td>\n",
       "      <td>0.794064</td>\n",
       "      <td>0.343540</td>\n",
       "      <td>0.0</td>\n",
       "      <td>0.500000</td>\n",
       "      <td>1.000000</td>\n",
       "      <td>1.000000</td>\n",
       "      <td>1.0</td>\n",
       "    </tr>\n",
       "    <tr>\n",
       "      <th>HvyAlcoholConsump</th>\n",
       "      <td>412514.0</td>\n",
       "      <td>0.496204</td>\n",
       "      <td>0.164654</td>\n",
       "      <td>0.0</td>\n",
       "      <td>0.500000</td>\n",
       "      <td>0.500000</td>\n",
       "      <td>0.500000</td>\n",
       "      <td>1.0</td>\n",
       "    </tr>\n",
       "    <tr>\n",
       "      <th>AnyHealthcare</th>\n",
       "      <td>412514.0</td>\n",
       "      <td>0.959287</td>\n",
       "      <td>0.144010</td>\n",
       "      <td>0.0</td>\n",
       "      <td>1.000000</td>\n",
       "      <td>1.000000</td>\n",
       "      <td>1.000000</td>\n",
       "      <td>1.0</td>\n",
       "    </tr>\n",
       "    <tr>\n",
       "      <th>NoDocbcCost</th>\n",
       "      <td>412514.0</td>\n",
       "      <td>0.547478</td>\n",
       "      <td>0.150833</td>\n",
       "      <td>0.0</td>\n",
       "      <td>0.500000</td>\n",
       "      <td>0.500000</td>\n",
       "      <td>0.500000</td>\n",
       "      <td>1.0</td>\n",
       "    </tr>\n",
       "    <tr>\n",
       "      <th>GenHlth</th>\n",
       "      <td>412514.0</td>\n",
       "      <td>0.588309</td>\n",
       "      <td>0.181398</td>\n",
       "      <td>0.0</td>\n",
       "      <td>0.500000</td>\n",
       "      <td>0.500000</td>\n",
       "      <td>0.666667</td>\n",
       "      <td>1.0</td>\n",
       "    </tr>\n",
       "    <tr>\n",
       "      <th>MentHlth</th>\n",
       "      <td>412514.0</td>\n",
       "      <td>0.135369</td>\n",
       "      <td>0.242061</td>\n",
       "      <td>0.0</td>\n",
       "      <td>0.032258</td>\n",
       "      <td>0.032258</td>\n",
       "      <td>0.096774</td>\n",
       "      <td>1.0</td>\n",
       "    </tr>\n",
       "    <tr>\n",
       "      <th>PhysHlth</th>\n",
       "      <td>412514.0</td>\n",
       "      <td>0.162790</td>\n",
       "      <td>0.277607</td>\n",
       "      <td>0.0</td>\n",
       "      <td>0.032258</td>\n",
       "      <td>0.032258</td>\n",
       "      <td>0.129032</td>\n",
       "      <td>1.0</td>\n",
       "    </tr>\n",
       "    <tr>\n",
       "      <th>DiffWalk</th>\n",
       "      <td>412514.0</td>\n",
       "      <td>0.564500</td>\n",
       "      <td>0.210899</td>\n",
       "      <td>0.0</td>\n",
       "      <td>0.500000</td>\n",
       "      <td>0.500000</td>\n",
       "      <td>0.500000</td>\n",
       "      <td>1.0</td>\n",
       "    </tr>\n",
       "    <tr>\n",
       "      <th>Sex</th>\n",
       "      <td>412514.0</td>\n",
       "      <td>0.420953</td>\n",
       "      <td>0.493713</td>\n",
       "      <td>0.0</td>\n",
       "      <td>0.000000</td>\n",
       "      <td>0.000000</td>\n",
       "      <td>1.000000</td>\n",
       "      <td>1.0</td>\n",
       "    </tr>\n",
       "    <tr>\n",
       "      <th>Age</th>\n",
       "      <td>412514.0</td>\n",
       "      <td>0.611191</td>\n",
       "      <td>0.253677</td>\n",
       "      <td>0.0</td>\n",
       "      <td>0.428571</td>\n",
       "      <td>0.642857</td>\n",
       "      <td>0.785714</td>\n",
       "      <td>1.0</td>\n",
       "    </tr>\n",
       "    <tr>\n",
       "      <th>Education</th>\n",
       "      <td>412514.0</td>\n",
       "      <td>0.841440</td>\n",
       "      <td>0.157616</td>\n",
       "      <td>0.0</td>\n",
       "      <td>0.714286</td>\n",
       "      <td>0.857143</td>\n",
       "      <td>1.000000</td>\n",
       "      <td>1.0</td>\n",
       "    </tr>\n",
       "    <tr>\n",
       "      <th>Income</th>\n",
       "      <td>412514.0</td>\n",
       "      <td>0.624715</td>\n",
       "      <td>0.363065</td>\n",
       "      <td>0.0</td>\n",
       "      <td>0.333333</td>\n",
       "      <td>0.777778</td>\n",
       "      <td>1.000000</td>\n",
       "      <td>1.0</td>\n",
       "    </tr>\n",
       "  </tbody>\n",
       "</table>\n",
       "</div>"
      ],
      "text/plain": [
       "                         count      mean       std  min       25%       50%  \\\n",
       "HeartDiseaseorAttack  412514.0  0.069411  0.254152  0.0  0.000000  0.000000   \n",
       "HighBP                412514.0  0.695696  0.246903  0.0  0.500000  0.500000   \n",
       "HighChol              412514.0  0.605806  0.336791  0.0  0.500000  0.500000   \n",
       "CholCheck             412514.0  0.892970  0.243270  0.0  1.000000  1.000000   \n",
       "BMI                   412514.0  0.256821  0.100014  0.0  0.230000  0.260000   \n",
       "Smoker                412514.0  0.686885  0.279861  0.0  0.500000  0.500000   \n",
       "Stroke                412514.0  0.517856  0.098330  0.0  0.500000  0.500000   \n",
       "Diabetes              412514.0  0.344209  0.087280  0.0  0.333333  0.333333   \n",
       "PhysActivity          412514.0  0.794167  0.321738  0.0  0.500000  1.000000   \n",
       "Fruits                412514.0  0.732088  0.333699  0.0  0.500000  1.000000   \n",
       "Veggies               412514.0  0.794064  0.343540  0.0  0.500000  1.000000   \n",
       "HvyAlcoholConsump     412514.0  0.496204  0.164654  0.0  0.500000  0.500000   \n",
       "AnyHealthcare         412514.0  0.959287  0.144010  0.0  1.000000  1.000000   \n",
       "NoDocbcCost           412514.0  0.547478  0.150833  0.0  0.500000  0.500000   \n",
       "GenHlth               412514.0  0.588309  0.181398  0.0  0.500000  0.500000   \n",
       "MentHlth              412514.0  0.135369  0.242061  0.0  0.032258  0.032258   \n",
       "PhysHlth              412514.0  0.162790  0.277607  0.0  0.032258  0.032258   \n",
       "DiffWalk              412514.0  0.564500  0.210899  0.0  0.500000  0.500000   \n",
       "Sex                   412514.0  0.420953  0.493713  0.0  0.000000  0.000000   \n",
       "Age                   412514.0  0.611191  0.253677  0.0  0.428571  0.642857   \n",
       "Education             412514.0  0.841440  0.157616  0.0  0.714286  0.857143   \n",
       "Income                412514.0  0.624715  0.363065  0.0  0.333333  0.777778   \n",
       "\n",
       "                           75%  max  \n",
       "HeartDiseaseorAttack  0.000000  1.0  \n",
       "HighBP                1.000000  1.0  \n",
       "HighChol              1.000000  1.0  \n",
       "CholCheck             1.000000  1.0  \n",
       "BMI                   0.300000  1.0  \n",
       "Smoker                1.000000  1.0  \n",
       "Stroke                0.500000  1.0  \n",
       "Diabetes              0.333333  1.0  \n",
       "PhysActivity          1.000000  1.0  \n",
       "Fruits                1.000000  1.0  \n",
       "Veggies               1.000000  1.0  \n",
       "HvyAlcoholConsump     0.500000  1.0  \n",
       "AnyHealthcare         1.000000  1.0  \n",
       "NoDocbcCost           0.500000  1.0  \n",
       "GenHlth               0.666667  1.0  \n",
       "MentHlth              0.096774  1.0  \n",
       "PhysHlth              0.129032  1.0  \n",
       "DiffWalk              0.500000  1.0  \n",
       "Sex                   1.000000  1.0  \n",
       "Age                   0.785714  1.0  \n",
       "Education             1.000000  1.0  \n",
       "Income                1.000000  1.0  "
      ]
     },
     "execution_count": 71,
     "metadata": {},
     "output_type": "execute_result"
    }
   ],
   "source": [
    "hd_data.describe().T"
   ]
  },
  {
   "cell_type": "markdown",
   "id": "abd27af4",
   "metadata": {},
   "source": [
    "We output a histogram for each of the variables."
   ]
  },
  {
   "cell_type": "code",
   "execution_count": 72,
   "id": "e58e98a0",
   "metadata": {},
   "outputs": [
    {
     "data": {
      "image/png": "[encoded data removed]",
      "text/plain": [
       "<Figure size 1440x1440 with 25 Axes>"
      ]
     },
     "metadata": {
      "needs_background": "light"
     },
     "output_type": "display_data"
    }
   ],
   "source": [
    "h = hd_data.hist(figsize = (20,20))"
   ]
  },
  {
   "cell_type": "markdown",
   "id": "d2dda0ea",
   "metadata": {},
   "source": [
    "We are interested in the balance of the data, as this can impact decisions on cross validation, sampling, performance metric etc. Below we plot a simple bar chart to illustrate class balance of heart disease patients vs non-heart disease patients in our training dataset."
   ]
  },
  {
   "cell_type": "code",
   "execution_count": 73,
   "id": "0ee2e560",
   "metadata": {},
   "outputs": [
    {
     "name": "stdout",
     "output_type": "stream",
     "text": [
      "Class Ratio: 0.06941097756682198\n"
     ]
    }
   ],
   "source": [
    "print('Class Ratio:',sum(hd_data['HeartDiseaseorAttack'])/len(hd_data['HeartDiseaseorAttack']))\n",
    "#6.9% of our data is heart disease"
   ]
  },
  {
   "cell_type": "code",
   "execution_count": 74,
   "id": "e4d010d6",
   "metadata": {},
   "outputs": [
    {
     "name": "stdout",
     "output_type": "stream",
     "text": [
      "0.0    383881\n",
      "1.0     28633\n",
      "Name: HeartDiseaseorAttack, dtype: int64\n"
     ]
    },
    {
     "data": {
      "image/png": "[encoded data removed]",
      "text/plain": [
       "<Figure size 432x288 with 1 Axes>"
      ]
     },
     "metadata": {
      "needs_background": "light"
     },
     "output_type": "display_data"
    }
   ],
   "source": [
    "color_wheel = {1: \"#0392cf\", \n",
    "               2: \"#7bc043\"}\n",
    "colors = hd_data['HeartDiseaseorAttack'].map(lambda x: color_wheel.get(x + 1))\n",
    "print(hd_data.HeartDiseaseorAttack.value_counts())\n",
    "p=hd_data.HeartDiseaseorAttack.value_counts().plot(kind=\"bar\")\n"
   ]
  },
  {
   "cell_type": "markdown",
   "id": "4d7ac5d3",
   "metadata": {},
   "source": [
    "In order to begin to visualise relationships between variables within our dataset, we can use pair plots. The scatter plots below show the relationship or lack of a relationship between each of the 22 features. As you may be able to spot, the diagonal of the matrix is made up of the histograms from above."
   ]
  },
  {
   "cell_type": "markdown",
   "id": "11de5f46",
   "metadata": {},
   "source": [
    "Could include pearsons coefficient or heatmap"
   ]
  },
  {
   "cell_type": "markdown",
   "id": "3cf998e0",
   "metadata": {},
   "source": [
    "# KNN Classification"
   ]
  },
  {
   "cell_type": "markdown",
   "id": "25c5c649",
   "metadata": {},
   "source": [
    " The sklearn library has a built in KNeighboursClassifier function which we will be utilising."
   ]
  },
  {
   "cell_type": "markdown",
   "id": "c9e9cdf3",
   "metadata": {},
   "source": [
    "KNN is a distance based (typically Euclidean) supervised learning algorithm. It chooses the  k closest neighbours and based on these neighbours, it assigns the majority class. We are also able to get a probability score of how likely the class label is based on the k closest neighbours."
   ]
  },
  {
   "cell_type": "markdown",
   "id": "b1f113be",
   "metadata": {},
   "source": [
    "# Downsampling"
   ]
  },
  {
   "cell_type": "markdown",
   "id": "8a08cb61",
   "metadata": {},
   "source": [
    "I will propose 2 models for comparison, they will differ by their class proportions after downsampling. The code took too long to run on the full dataset, so by downsampling, we can improve our runtime.\n"
   ]
  },
  {
   "cell_type": "markdown",
   "id": "0d2d1de0",
   "metadata": {},
   "source": [
    "## Model with equal class ratio"
   ]
  },
  {
   "cell_type": "markdown",
   "id": "d72ffbd7",
   "metadata": {},
   "source": [
    "Here we downsample only the patients who do not have heart disease. For this model, we do not wish to downsample the minority class (positive for heart disease) as we want this model to be very good at detecting heart disease, i.e., low number of false negatives. We are less bothered by false positives as the purpose of our model is to inform heart disease screening, rather than diagnosising.\n",
    "\n",
    "Risks associated - overtraining to our data, won't generalise well."
   ]
  },
  {
   "cell_type": "code",
   "execution_count": 75,
   "id": "9f48cf99",
   "metadata": {},
   "outputs": [
    {
     "name": "stdout",
     "output_type": "stream",
     "text": [
      "(28633, 22)\n",
      "(383881, 22)\n"
     ]
    }
   ],
   "source": [
    "heart_disease = hd_data[hd_data[\"HeartDiseaseorAttack\"] == 1]\n",
    "no_hd = hd_data[hd_data[\"HeartDiseaseorAttack\"] == 0]\n",
    "\n",
    "print(heart_disease.shape)\n",
    "print(no_hd.shape)"
   ]
  },
  {
   "cell_type": "code",
   "execution_count": 76,
   "id": "5403693f",
   "metadata": {},
   "outputs": [
    {
     "name": "stdout",
     "output_type": "stream",
     "text": [
      "(28633, 22)\n"
     ]
    }
   ],
   "source": [
    "from sklearn.utils import resample\n",
    "no_hd_downsample1 = resample(no_hd,\n",
    "             replace=True,\n",
    "             n_samples=len(heart_disease),\n",
    "             random_state=42)\n",
    "\n",
    "print(no_hd_downsample1.shape)"
   ]
  },
  {
   "cell_type": "code",
   "execution_count": 77,
   "id": "e1dc4a6b",
   "metadata": {},
   "outputs": [
    {
     "data": {
      "text/plain": [
       "<AxesSubplot:ylabel='Heart Disease or No Heart Disease'>"
      ]
     },
     "execution_count": 77,
     "metadata": {},
     "output_type": "execute_result"
    },
    {
     "data": {
      "image/png": "[encoded data removed]",
      "text/plain": [
       "<Figure size 432x288 with 1 Axes>"
      ]
     },
     "metadata": {},
     "output_type": "display_data"
    }
   ],
   "source": [
    "data_downsampled = pd.concat([no_hd_downsample1, heart_disease])\n",
    "\n",
    "data_downsampled.groupby('HeartDiseaseorAttack').size().plot(kind='pie',\n",
    "                                       y = \"HeartDiseaseorAttack\",\n",
    "                                       label = \"Heart Disease or No Heart Disease\",\n",
    "                                       autopct='%1.1f%%')"
   ]
  },
  {
   "cell_type": "code",
   "execution_count": 104,
   "id": "e9416474",
   "metadata": {},
   "outputs": [],
   "source": [
    "x = data_downsampled.drop('HeartDiseaseorAttack',axis=1)\n",
    "y = data_downsampled['HeartDiseaseorAttack']"
   ]
  },
  {
   "cell_type": "markdown",
   "id": "2874448a",
   "metadata": {},
   "source": [
    "## Model with stratified ratio"
   ]
  },
  {
   "cell_type": "markdown",
   "id": "d549c59d",
   "metadata": {},
   "source": [
    "Here we downsample both classes. For this model, we want to preserve the class ratios. This allows us to compare how well the model generalises if we downsample the majority class. I am sure we will see interesting results between the two models, depending on the performance metric chosen at the testing stage.\n",
    "\n",
    "Risks associated - model might not be as good at predicting the minority class."
   ]
  },
  {
   "cell_type": "code",
   "execution_count": 105,
   "id": "12b5f2f5",
   "metadata": {},
   "outputs": [
    {
     "name": "stdout",
     "output_type": "stream",
     "text": [
      "3887\n",
      "52113\n"
     ]
    }
   ],
   "source": [
    "ratio = sum(hd_data['HeartDiseaseorAttack'])/len(hd_data['HeartDiseaseorAttack'])\n",
    "\n",
    "amount_hd = round(ratio*56000)\n",
    "\n",
    "amount_no_hd = 56000 - amount_hd\n",
    "\n",
    "print(amount_hd)\n",
    "print(amount_no_hd)"
   ]
  },
  {
   "cell_type": "code",
   "execution_count": 106,
   "id": "67377be7",
   "metadata": {},
   "outputs": [
    {
     "name": "stdout",
     "output_type": "stream",
     "text": [
      "(52113, 22)\n",
      "(3887, 22)\n"
     ]
    }
   ],
   "source": [
    "from sklearn.utils import resample\n",
    "no_hd_downsample2 = resample(no_hd,\n",
    "             replace=True,\n",
    "             n_samples=amount_no_hd,\n",
    "             random_state=42)\n",
    "\n",
    "from sklearn.utils import resample\n",
    "hd_downsample2 = resample(heart_disease,\n",
    "             replace=True,\n",
    "             n_samples=amount_hd,\n",
    "             random_state=42)\n",
    "\n",
    "print(no_hd_downsample2.shape)\n",
    "print(hd_downsample2.shape)"
   ]
  },
  {
   "cell_type": "code",
   "execution_count": 107,
   "id": "ac0e79c6",
   "metadata": {},
   "outputs": [
    {
     "data": {
      "text/plain": [
       "<AxesSubplot:ylabel='Heart Disease or No Heart Disease'>"
      ]
     },
     "execution_count": 107,
     "metadata": {},
     "output_type": "execute_result"
    },
    {
     "data": {
      "image/png": "[encoded data removed]",
      "text/plain": [
       "<Figure size 432x288 with 1 Axes>"
      ]
     },
     "metadata": {},
     "output_type": "display_data"
    }
   ],
   "source": [
    "data_downsampled2 = pd.concat([no_hd_downsample2,hd_downsample2])\n",
    "\n",
    "data_downsampled2.groupby('HeartDiseaseorAttack').size().plot(kind='pie',\n",
    "                                       y = \"HeartDiseaseorAttack\",\n",
    "                                       label = \"Heart Disease or No Heart Disease\",\n",
    "                                       autopct='%1.1f%%')"
   ]
  },
  {
   "cell_type": "code",
   "execution_count": 108,
   "id": "3aec61bf",
   "metadata": {},
   "outputs": [],
   "source": [
    "x_down = data_downsampled2.drop('HeartDiseaseorAttack',axis=1)\n",
    "y_down = data_downsampled2['HeartDiseaseorAttack']"
   ]
  },
  {
   "cell_type": "markdown",
   "id": "e9334829",
   "metadata": {},
   "source": [
    "I am going to investigate the effect of different search algorithms for KNN and compare their runtime. Rather than running on the whole dataset (approx. 56K data points after downsampling for both models), I will see how long it takes to run on 3000 data points. I will however fit the models to the entire dataset. This means that for each data point in the set of 3000, it will look for the K nearest neighbour in all 56,000 points."
   ]
  },
  {
   "cell_type": "markdown",
   "id": "06402aff",
   "metadata": {},
   "source": [
    "# Brute force search"
   ]
  },
  {
   "cell_type": "markdown",
   "id": "dbb36ce9",
   "metadata": {},
   "source": [
    "Such distance based algorithms are affected by the scale and range of variables. The KNN algorithm is biased towards variables with smaller magnitudes, so this must be mitigated through normalisation of the features values. \n",
    "However, our KNN shall be calculating the distances using the Mahalnobis distance, which automatically normalises the dataset, so we do not need to worry about normalisation beforehand.\n",
    "\n",
    "Furthermore, the mahalanobis distance metric considers correlation between features. For instance, if Fruits and Veggies are highly correlated variables, it will reduce the combined weighting of them in the distance metric."
   ]
  },
  {
   "cell_type": "markdown",
   "id": "ee81caff",
   "metadata": {},
   "source": [
    "To ensure a fair test of the search algorithms, I shall be randomly sampling a smaller dataset (300 data points) from the already downsampled (preserved ratio) dataset. You could think of this set as the validation data for model selection. I shall reserve the original ratios in the dataset (6.9% heart disease)."
   ]
  },
  {
   "cell_type": "code",
   "execution_count": 109,
   "id": "78c101a2",
   "metadata": {},
   "outputs": [
    {
     "name": "stdout",
     "output_type": "stream",
     "text": [
      "21\n",
      "279\n"
     ]
    }
   ],
   "source": [
    "amount_hd2 = round(ratio*300)\n",
    "\n",
    "amount_no_hd2 = 300 - amount_hd2\n",
    "\n",
    "print(amount_hd2)\n",
    "print(amount_no_hd2)\n",
    "\n",
    "from sklearn.utils import resample\n",
    "no_hd_valid = resample(no_hd,\n",
    "             replace=True,\n",
    "             n_samples=amount_no_hd2,\n",
    "             random_state=42)\n",
    "\n",
    "from sklearn.utils import resample\n",
    "hd_valid = resample(heart_disease,\n",
    "             replace=True,\n",
    "             n_samples=amount_hd2,\n",
    "             random_state=42)\n"
   ]
  },
  {
   "cell_type": "code",
   "execution_count": 110,
   "id": "557b67d2",
   "metadata": {},
   "outputs": [],
   "source": [
    "validation = pd.concat([no_hd_valid,hd_valid])"
   ]
  },
  {
   "cell_type": "code",
   "execution_count": 111,
   "id": "00d4863c",
   "metadata": {},
   "outputs": [],
   "source": [
    "x1 = validation.drop('HeartDiseaseorAttack',axis=1)\n",
    "y1 = validation['HeartDiseaseorAttack']"
   ]
  },
  {
   "cell_type": "code",
   "execution_count": 112,
   "id": "ca296b5a",
   "metadata": {},
   "outputs": [
    {
     "name": "stdout",
     "output_type": "stream",
     "text": [
      "(22, 22)\n"
     ]
    }
   ],
   "source": [
    "#Manually get covariance matrix of features, as this is a parameter necessary for the Mahlanobis metric\n",
    "\n",
    "def get_covariance_matrix(hd_data, ddof=0):\n",
    "    n_samples = hd_data.shape[0]\n",
    "    C = np.dot(hd_data.T, hd_data) / (n_samples - ddof)\n",
    "    return C\n",
    "\n",
    "C=get_covariance_matrix(hd_data)\n",
    "\n",
    "print(C.shape)"
   ]
  },
  {
   "cell_type": "markdown",
   "id": "2604f9fc",
   "metadata": {},
   "source": [
    "Here we load more packages required for our KNN classifier."
   ]
  },
  {
   "cell_type": "code",
   "execution_count": 113,
   "id": "498d5d63",
   "metadata": {},
   "outputs": [],
   "source": [
    "from sklearn.neighbors import KNeighborsClassifier\n",
    "from sklearn.metrics import classification_report\n",
    "from sklearn.model_selection import train_test_split\n",
    "from sklearn.metrics import roc_auc_score\n",
    "from sklearn.model_selection import GridSearchCV\n",
    "from sklearn.neighbors import DistanceMetric\n",
    "\n",
    "\n",
    "cov_matrix = C\n",
    "\n",
    "knn = KNeighborsClassifier(metric='mahalanobis', algorithm='brute', metric_params={'VI': np.linalg.inv(cov_matrix)}) \n"
   ]
  },
  {
   "cell_type": "markdown",
   "id": "597d9cb5",
   "metadata": {},
   "source": [
    "I am mainly interested in the varying runtimes at this point in the investigation, so I shall fit the models to the dataset which was downsampled with the preserved ratios (dataset 2). This assumes that brute force, KD Tree and Ball Tree algorithms all have similar levels of accuracy."
   ]
  },
  {
   "cell_type": "code",
   "execution_count": 114,
   "id": "d30c4d36",
   "metadata": {},
   "outputs": [
    {
     "data": {
      "text/plain": [
       "KNeighborsClassifier(algorithm='brute', metric='mahalanobis',\n",
       "                     metric_params={'VI': array([[ 1.72637596e+01, -9.96068118e-01, -1.31097271e+00,\n",
       "         8.44893413e-01,  7.52819838e-01, -3.19042528e-01,\n",
       "        -3.50722158e+00,  1.54327588e+00,  1.71815660e-01,\n",
       "        -2.68545569e-02,  6.79763278e-02,  1.00236541e+00,\n",
       "         1.36198280e+00,  1.18752079e+00, -1.82994102e+00,\n",
       "        -3.78707750e-02, -9.41741742e-01...\n",
       "        -4.77407038e+00],\n",
       "       [ 1.55210023e-01,  4.45338464e-01, -2.81678592e-01,\n",
       "        -9.82867047e-01, -4.65643699e+00, -3.01214558e-01,\n",
       "         9.49993774e-01,  6.68587751e-01, -8.66423768e-02,\n",
       "        -2.48564243e-01, -9.26542622e-01, -1.55151994e+00,\n",
       "        -1.36920170e+00,  9.14644428e-01,  1.93652410e+00,\n",
       "         3.24820005e-01,  1.57840162e-01,  9.88533523e-01,\n",
       "        -6.52148044e-01,  9.05022204e-01, -4.77407038e+00,\n",
       "         9.51083123e+00]])})"
      ]
     },
     "execution_count": 114,
     "metadata": {},
     "output_type": "execute_result"
    }
   ],
   "source": [
    "knn.fit(x_down,y_down)"
   ]
  },
  {
   "cell_type": "code",
   "execution_count": 115,
   "id": "91202147",
   "metadata": {},
   "outputs": [
    {
     "name": "stdout",
     "output_type": "stream",
     "text": [
      "0.9366666666666666\n",
      "0.9366666666666666\n",
      "0.9366666666666666\n",
      "0.9366666666666666\n",
      "0.9366666666666666\n",
      "0.9366666666666666\n",
      "0.9366666666666666\n",
      "0.9366666666666666\n",
      "5.28 s ± 418 ms per loop (mean ± std. dev. of 7 runs, 1 loop each)\n"
     ]
    }
   ],
   "source": [
    "%%timeit\n",
    "score = knn.score(x1.head(300),y1.head(300))\n",
    "print(score)"
   ]
  },
  {
   "cell_type": "markdown",
   "id": "b3fa6743",
   "metadata": {},
   "source": [
    " annoy - https://towardsdatascience.com/comprehensive-guide-to-approximate-nearest-neighbors-algorithms-8b94f057d6b6"
   ]
  },
  {
   "cell_type": "markdown",
   "id": "d7616500",
   "metadata": {},
   "source": [
    "Ball Tree and the KD Tree algorithm are tree algorithms used for spatial division of data points and their allocation into certain regions."
   ]
  },
  {
   "cell_type": "markdown",
   "id": "3f207429",
   "metadata": {},
   "source": [
    "# Ball Tree"
   ]
  },
  {
   "cell_type": "markdown",
   "id": "eca68d74",
   "metadata": {},
   "source": [
    "https://towardsdatascience.com/tree-algorithms-explained-ball-tree-algorithm-vs-kd-tree-vs-brute-force-9746debcd940"
   ]
  },
  {
   "cell_type": "markdown",
   "id": "174732b3",
   "metadata": {},
   "source": [
    "Ball tree can use mahalanobis metric."
   ]
  },
  {
   "cell_type": "code",
   "execution_count": 116,
   "id": "43472faa",
   "metadata": {},
   "outputs": [],
   "source": [
    "knn_ball = KNeighborsClassifier(metric='mahalanobis', algorithm='ball_tree', metric_params={'V': np.cov(x1, rowvar=False)}) "
   ]
  },
  {
   "cell_type": "code",
   "execution_count": 117,
   "id": "12674fc3",
   "metadata": {},
   "outputs": [
    {
     "data": {
      "text/plain": [
       "KNeighborsClassifier(algorithm='ball_tree', metric='mahalanobis',\n",
       "                     metric_params={'V': array([[ 6.37541806e-02,  3.04347826e-02,  4.76588629e-03,\n",
       "         2.43979933e-03,  3.72073579e-03, -4.18060201e-04,\n",
       "         7.24637681e-04, -6.22909699e-03, -5.47658863e-03,\n",
       "        -3.09364548e-03,  7.10702341e-04,  3.42809365e-03,\n",
       "         8.36120401e-04,  1.28901895e-02, -2.86708383e-03,\n",
       "         1.06888553e-02,  7.85953177e-03...\n",
       "        -1.37874548e-04,  2.56419357e-02,  1.79773849e-02],\n",
       "       [-1.93236715e-03,  5.57661340e-03,  8.51727982e-03,\n",
       "         3.42504645e-03,  5.43292456e-03, -2.73752013e-03,\n",
       "        -4.26111730e-04,  1.61080144e-02,  1.08336430e-02,\n",
       "         2.83958875e-02,  8.81704447e-03,  6.00520253e-03,\n",
       "        -2.50216772e-03, -1.64622817e-02, -8.11722068e-03,\n",
       "        -2.68252199e-02, -4.28341385e-03,  2.29604856e-02,\n",
       "        -9.11999434e-03,  1.79773849e-02,  1.29459791e-01]])})"
      ]
     },
     "execution_count": 117,
     "metadata": {},
     "output_type": "execute_result"
    }
   ],
   "source": [
    "knn_ball.fit(x_down,y_down)"
   ]
  },
  {
   "cell_type": "code",
   "execution_count": 118,
   "id": "2b883506",
   "metadata": {},
   "outputs": [
    {
     "name": "stdout",
     "output_type": "stream",
     "text": [
      "0.9366666666666666\n",
      "0.9366666666666666\n",
      "0.9366666666666666\n",
      "0.9366666666666666\n",
      "0.9366666666666666\n",
      "0.9366666666666666\n",
      "0.9366666666666666\n",
      "0.9366666666666666\n",
      "6.31 s ± 214 ms per loop (mean ± std. dev. of 7 runs, 1 loop each)\n"
     ]
    }
   ],
   "source": [
    "%%timeit\n",
    "score2 = knn_ball.score(x1.head(300),y1.head(300))\n",
    "print(score2)"
   ]
  },
  {
   "cell_type": "markdown",
   "id": "86ac51c6",
   "metadata": {},
   "source": [
    "# KD Tree"
   ]
  },
  {
   "cell_type": "markdown",
   "id": "e5e4ba63",
   "metadata": {},
   "source": [
    "A k-dimensional tree (k-d tree) is a spatial index that uses a binary tree to divide up real coordinate space. For M reference points, searching for the nearest neighbor of a query point takes, on average, O(log M) time. This is faster than the O(M) time of the brute force algorithm. Algorithm developed from - https://johnlekberg.com/blog/2020-04-17-kd-tree.html"
   ]
  },
  {
   "cell_type": "markdown",
   "id": "f929317a",
   "metadata": {},
   "source": [
    "Unfortunately, Mahalanobis distance is not compatible with KD Trees so we must use a different distance metric. Instead we will use the Euclidean distance, as this is compatible with KD Trees. Risks associated with using euclidean distance - the model cannot detect high correlation between variables."
   ]
  },
  {
   "cell_type": "code",
   "execution_count": 119,
   "id": "eccf54ef",
   "metadata": {},
   "outputs": [
    {
     "data": {
      "text/plain": [
       "['chebyshev',\n",
       " 'cityblock',\n",
       " 'euclidean',\n",
       " 'infinity',\n",
       " 'l1',\n",
       " 'l2',\n",
       " 'manhattan',\n",
       " 'minkowski',\n",
       " 'p']"
      ]
     },
     "execution_count": 119,
     "metadata": {},
     "output_type": "execute_result"
    }
   ],
   "source": [
    "import sklearn\n",
    "sorted(sklearn.neighbors.VALID_METRICS['kd_tree'])"
   ]
  },
  {
   "cell_type": "markdown",
   "id": "095c5c29",
   "metadata": {},
   "source": [
    "https://towardsdatascience.com/9-distance-measures-in-data-science-918109d069fa "
   ]
  },
  {
   "cell_type": "code",
   "execution_count": 120,
   "id": "857a5656",
   "metadata": {},
   "outputs": [],
   "source": [
    "knn_tree = KNeighborsClassifier(metric='euclidean', algorithm='kd_tree') "
   ]
  },
  {
   "cell_type": "code",
   "execution_count": 121,
   "id": "aef029c2",
   "metadata": {},
   "outputs": [
    {
     "data": {
      "text/plain": [
       "KNeighborsClassifier(algorithm='kd_tree', metric='euclidean')"
      ]
     },
     "execution_count": 121,
     "metadata": {},
     "output_type": "execute_result"
    }
   ],
   "source": [
    "knn_tree.fit(x_down,y_down)"
   ]
  },
  {
   "cell_type": "code",
   "execution_count": 122,
   "id": "6af9ec68",
   "metadata": {},
   "outputs": [
    {
     "name": "stdout",
     "output_type": "stream",
     "text": [
      "0.9366666666666666\n",
      "0.9366666666666666\n",
      "0.9366666666666666\n",
      "0.9366666666666666\n",
      "0.9366666666666666\n",
      "0.9366666666666666\n",
      "0.9366666666666666\n",
      "0.9366666666666666\n",
      "237 ms ± 9.16 ms per loop (mean ± std. dev. of 7 runs, 1 loop each)\n"
     ]
    }
   ],
   "source": [
    "%%timeit\n",
    "score3 = knn_tree.score(x1.head(300),y1.head(300))\n",
    "print(score3)"
   ]
  },
  {
   "cell_type": "markdown",
   "id": "81cdbaab",
   "metadata": {},
   "source": [
    "From the above tests, it looks as if KD Tree is the quickest search algorithm (and achieves the same accuracy, however I expect this to be slightly lower than brute force on full set as its approximate search) so this is the one we shall be using for our models. Although I only ran the searches on 300 data points, we shall assume that the algorithms scale linearly so KD Tree will be the quickest to run on the full set."
   ]
  },
  {
   "cell_type": "markdown",
   "id": "58f0bac2",
   "metadata": {},
   "source": [
    "# Testing"
   ]
  },
  {
   "cell_type": "markdown",
   "id": "53c26dd6",
   "metadata": {},
   "source": [
    "Here we shall import the test data and evaluate the 2 models (with different class ratios). Our output will be a csv file containing a probability for each datapoint. The probability represents how likely the model has deemed the data point to be classed as heart disease, given its K nearest neighbours. A probability of 1 means the model is very confident that the patient has heart disease."
   ]
  },
  {
   "cell_type": "code",
   "execution_count": null,
   "id": "ca610942",
   "metadata": {},
   "outputs": [],
   "source": [
    "#test_data = pd.read_csv('TrainingDataImputation.csv')\n",
    "#test_data.head()"
   ]
  },
  {
   "cell_type": "code",
   "execution_count": null,
   "id": "7d6bca2f",
   "metadata": {},
   "outputs": [],
   "source": [
    "#x_test = test_data.drop('HeartDiseaseorAttack',axis=1)\n",
    "#y_test = test_data['HeartDiseaseorAttack']"
   ]
  },
  {
   "cell_type": "markdown",
   "id": "451b99a7",
   "metadata": {},
   "source": [
    "## Model fitted with equal class ratios"
   ]
  },
  {
   "cell_type": "markdown",
   "id": "94fd5305",
   "metadata": {},
   "source": [
    "We shall first test the model which fits to the downsampled data with equal ratios of each class."
   ]
  },
  {
   "cell_type": "code",
   "execution_count": 120,
   "id": "c1edae35",
   "metadata": {},
   "outputs": [],
   "source": [
    "knn_tree_equal = KNeighborsClassifier(metric='euclidean', algorithm='kd_tree') "
   ]
  },
  {
   "cell_type": "code",
   "execution_count": 104,
   "id": "077dc2c8",
   "metadata": {},
   "outputs": [],
   "source": [
    "x = data_downsampled.drop('HeartDiseaseorAttack',axis=1)\n",
    "y = data_downsampled['HeartDiseaseorAttack']"
   ]
  },
  {
   "cell_type": "code",
   "execution_count": 121,
   "id": "a330ae74",
   "metadata": {},
   "outputs": [
    {
     "data": {
      "text/plain": [
       "KNeighborsClassifier(algorithm='kd_tree', metric='euclidean')"
      ]
     },
     "execution_count": 121,
     "metadata": {},
     "output_type": "execute_result"
    }
   ],
   "source": [
    "knn_tree_equal.fit(x,y)"
   ]
  },
  {
   "cell_type": "code",
   "execution_count": null,
   "id": "11918dd9",
   "metadata": {},
   "outputs": [],
   "source": [
    "#probability_equal = knn_tree_equal.predict_proba(x_test)"
   ]
  },
  {
   "cell_type": "markdown",
   "id": "9d91b5d4",
   "metadata": {},
   "source": [
    "Predict_proba(X) returns an ndarray of shape (n_queries, n_classes). We shall remove one of the columns of the ndarray. Classes are ordered by lexicographic order so we shall take the second column as the probability that a datapoint is positive for heart disease."
   ]
  },
  {
   "cell_type": "code",
   "execution_count": 123,
   "id": "0f9b75f4",
   "metadata": {},
   "outputs": [],
   "source": [
    "#C = np.delete(probability_equal, 0, 1)  # delete first column"
   ]
  },
  {
   "cell_type": "markdown",
   "id": "1a80b0a6",
   "metadata": {},
   "source": [
    "## Model fitted with preserved class ratios"
   ]
  },
  {
   "cell_type": "markdown",
   "id": "d0fc77c2",
   "metadata": {},
   "source": [
    "Here we run the model whilst fitting to the downsampled data where there are only 6.9% of patients with heart disease."
   ]
  },
  {
   "cell_type": "code",
   "execution_count": 124,
   "id": "dc132153",
   "metadata": {},
   "outputs": [],
   "source": [
    "knn_tree_preserve = KNeighborsClassifier(metric='euclidean', algorithm='kd_tree') "
   ]
  },
  {
   "cell_type": "code",
   "execution_count": 125,
   "id": "72e0759e",
   "metadata": {},
   "outputs": [],
   "source": [
    "x_down = data_downsampled2.drop('HeartDiseaseorAttack',axis=1)\n",
    "y_down = data_downsampled2['HeartDiseaseorAttack']"
   ]
  },
  {
   "cell_type": "code",
   "execution_count": 126,
   "id": "ab250a6c",
   "metadata": {},
   "outputs": [
    {
     "data": {
      "text/plain": [
       "KNeighborsClassifier(algorithm='kd_tree', metric='euclidean')"
      ]
     },
     "execution_count": 126,
     "metadata": {},
     "output_type": "execute_result"
    }
   ],
   "source": [
    "knn_tree_preserve.fit(x_down,y_down)"
   ]
  },
  {
   "cell_type": "code",
   "execution_count": 127,
   "id": "e9572090",
   "metadata": {},
   "outputs": [],
   "source": [
    "#probability_preserved = knn_tree_preserve.predict_proba(x_test)"
   ]
  },
  {
   "cell_type": "code",
   "execution_count": 128,
   "id": "9135782f",
   "metadata": {},
   "outputs": [],
   "source": [
    "#D = np.delete(probability_preserved, 0, 1)  # delete first column"
   ]
  },
  {
   "cell_type": "code",
   "execution_count": null,
   "id": "1ba5e786",
   "metadata": {},
   "outputs": [],
   "source": []
  }
 ],
 "metadata": {
  "kernelspec": {
   "display_name": "Python 3 (ipykernel)",
   "language": "python",
   "name": "python3"
  },
  "language_info": {
   "codemirror_mode": {
    "name": "ipython",
    "version": 3
   },
   "file_extension": ".py",
   "mimetype": "text/x-python",
   "name": "python",
   "nbconvert_exporter": "python",
   "pygments_lexer": "ipython3",
   "version": "3.9.12"
  }
 },
 "nbformat": 4,
 "nbformat_minor": 5
}
