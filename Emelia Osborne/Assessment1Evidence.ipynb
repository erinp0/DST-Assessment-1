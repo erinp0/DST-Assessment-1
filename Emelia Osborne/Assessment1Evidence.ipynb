{
 "cells": [
  {
   "cell_type": "markdown",
   "metadata": {},
   "source": [
    "Import pandas, import dataset from google drive."
   ]
  },
  {
   "cell_type": "code",
   "execution_count": 57,
   "metadata": {},
   "outputs": [],
   "source": [
    "import pandas as pd"
   ]
  },
  {
   "cell_type": "code",
   "execution_count": 58,
   "metadata": {},
   "outputs": [],
   "source": [
    "\n",
    "url='https://drive.google.com/file/d/1zmRKuhke2k8mMiUqJPGQpwmm2wGQ2i-b/view'\n",
    "url='https://drive.google.com/uc?id=' + url.split('/')[-2]\n",
    "df = pd.read_csv(url)"
   ]
  },
  {
   "cell_type": "markdown",
   "metadata": {},
   "source": [
    "Import sklearn packages that are needed."
   ]
  },
  {
   "cell_type": "code",
   "execution_count": 141,
   "metadata": {},
   "outputs": [],
   "source": [
    "from sklearn.ensemble import GradientBoostingClassifier\n",
    "from sklearn.metrics import accuracy_score\n",
    "from sklearn.model_selection import train_test_split\n",
    "from sklearn.model_selection import GridSearchCV"
   ]
  },
  {
   "cell_type": "markdown",
   "metadata": {},
   "source": [
    "Split dataset into the variable we are looking to predict, HeartDiseaseorAttack, and the rest which are to be used to predict it."
   ]
  },
  {
   "cell_type": "code",
   "execution_count": 60,
   "metadata": {
    "scrolled": true
   },
   "outputs": [
    {
     "data": {
      "text/plain": [
       "22"
      ]
     },
     "execution_count": 60,
     "metadata": {},
     "output_type": "execute_result"
    }
   ],
   "source": [
    "len(df.columns)"
   ]
  },
  {
   "cell_type": "code",
   "execution_count": 61,
   "metadata": {},
   "outputs": [],
   "source": [
    "y=df.iloc[:,0]\n",
    "X=df.iloc[:,1:22]"
   ]
  },
  {
   "cell_type": "markdown",
   "metadata": {},
   "source": [
    "Check I have the correct columns in each."
   ]
  },
  {
   "cell_type": "code",
   "execution_count": 62,
   "metadata": {
    "scrolled": true
   },
   "outputs": [
    {
     "data": {
      "text/plain": [
       "0         1.0\n",
       "1         1.0\n",
       "2         1.0\n",
       "3         1.0\n",
       "4         1.0\n",
       "         ... \n",
       "412509    0.0\n",
       "412510    0.0\n",
       "412511    0.0\n",
       "412512    0.0\n",
       "412513    0.0\n",
       "Name: HeartDiseaseorAttack, Length: 412514, dtype: float64"
      ]
     },
     "execution_count": 62,
     "metadata": {},
     "output_type": "execute_result"
    }
   ],
   "source": [
    "y"
   ]
  },
  {
   "cell_type": "code",
   "execution_count": 215,
   "metadata": {},
   "outputs": [
    {
     "data": {
      "text/html": [
       "<div>\n",
       "<style scoped>\n",
       "    .dataframe tbody tr th:only-of-type {\n",
       "        vertical-align: middle;\n",
       "    }\n",
       "\n",
       "    .dataframe tbody tr th {\n",
       "        vertical-align: top;\n",
       "    }\n",
       "\n",
       "    .dataframe thead th {\n",
       "        text-align: right;\n",
       "    }\n",
       "</style>\n",
       "<table border=\"1\" class=\"dataframe\">\n",
       "  <thead>\n",
       "    <tr style=\"text-align: right;\">\n",
       "      <th></th>\n",
       "      <th>HeartDiseaseorAttack</th>\n",
       "      <th>HighBP</th>\n",
       "      <th>HighChol</th>\n",
       "      <th>CholCheck</th>\n",
       "      <th>BMI</th>\n",
       "      <th>Smoker</th>\n",
       "      <th>Stroke</th>\n",
       "      <th>Diabetes</th>\n",
       "      <th>PhysActivity</th>\n",
       "      <th>Fruits</th>\n",
       "      <th>...</th>\n",
       "      <th>AnyHealthcare</th>\n",
       "      <th>NoDocbcCost</th>\n",
       "      <th>GenHlth</th>\n",
       "      <th>MentHlth</th>\n",
       "      <th>PhysHlth</th>\n",
       "      <th>DiffWalk</th>\n",
       "      <th>Sex</th>\n",
       "      <th>Age</th>\n",
       "      <th>Education</th>\n",
       "      <th>Income</th>\n",
       "    </tr>\n",
       "  </thead>\n",
       "  <tbody>\n",
       "    <tr>\n",
       "      <th>0</th>\n",
       "      <td>1.0</td>\n",
       "      <td>1.0</td>\n",
       "      <td>0.0</td>\n",
       "      <td>1.0</td>\n",
       "      <td>27.0</td>\n",
       "      <td>0.0</td>\n",
       "      <td>0.0</td>\n",
       "      <td>0.0</td>\n",
       "      <td>-1.0</td>\n",
       "      <td>-1.0</td>\n",
       "      <td>...</td>\n",
       "      <td>1.0</td>\n",
       "      <td>0.0</td>\n",
       "      <td>3.0</td>\n",
       "      <td>0.0</td>\n",
       "      <td>0.0</td>\n",
       "      <td>1.0</td>\n",
       "      <td>0.0</td>\n",
       "      <td>13.0</td>\n",
       "      <td>5.0</td>\n",
       "      <td>-1.0</td>\n",
       "    </tr>\n",
       "    <tr>\n",
       "      <th>1</th>\n",
       "      <td>1.0</td>\n",
       "      <td>1.0</td>\n",
       "      <td>1.0</td>\n",
       "      <td>1.0</td>\n",
       "      <td>30.0</td>\n",
       "      <td>1.0</td>\n",
       "      <td>0.0</td>\n",
       "      <td>0.0</td>\n",
       "      <td>0.0</td>\n",
       "      <td>1.0</td>\n",
       "      <td>...</td>\n",
       "      <td>1.0</td>\n",
       "      <td>0.0</td>\n",
       "      <td>5.0</td>\n",
       "      <td>30.0</td>\n",
       "      <td>30.0</td>\n",
       "      <td>1.0</td>\n",
       "      <td>0.0</td>\n",
       "      <td>9.0</td>\n",
       "      <td>5.0</td>\n",
       "      <td>1.0</td>\n",
       "    </tr>\n",
       "    <tr>\n",
       "      <th>2</th>\n",
       "      <td>1.0</td>\n",
       "      <td>1.0</td>\n",
       "      <td>1.0</td>\n",
       "      <td>1.0</td>\n",
       "      <td>27.0</td>\n",
       "      <td>1.0</td>\n",
       "      <td>0.0</td>\n",
       "      <td>0.0</td>\n",
       "      <td>0.0</td>\n",
       "      <td>1.0</td>\n",
       "      <td>...</td>\n",
       "      <td>1.0</td>\n",
       "      <td>-1.0</td>\n",
       "      <td>3.0</td>\n",
       "      <td>0.0</td>\n",
       "      <td>0.0</td>\n",
       "      <td>0.0</td>\n",
       "      <td>1.0</td>\n",
       "      <td>13.0</td>\n",
       "      <td>3.0</td>\n",
       "      <td>4.0</td>\n",
       "    </tr>\n",
       "    <tr>\n",
       "      <th>3</th>\n",
       "      <td>1.0</td>\n",
       "      <td>0.0</td>\n",
       "      <td>1.0</td>\n",
       "      <td>-1.0</td>\n",
       "      <td>31.0</td>\n",
       "      <td>1.0</td>\n",
       "      <td>0.0</td>\n",
       "      <td>0.0</td>\n",
       "      <td>0.0</td>\n",
       "      <td>0.0</td>\n",
       "      <td>...</td>\n",
       "      <td>1.0</td>\n",
       "      <td>0.0</td>\n",
       "      <td>3.0</td>\n",
       "      <td>0.0</td>\n",
       "      <td>-1.0</td>\n",
       "      <td>0.0</td>\n",
       "      <td>1.0</td>\n",
       "      <td>12.0</td>\n",
       "      <td>2.0</td>\n",
       "      <td>3.0</td>\n",
       "    </tr>\n",
       "    <tr>\n",
       "      <th>4</th>\n",
       "      <td>1.0</td>\n",
       "      <td>1.0</td>\n",
       "      <td>1.0</td>\n",
       "      <td>1.0</td>\n",
       "      <td>28.0</td>\n",
       "      <td>1.0</td>\n",
       "      <td>1.0</td>\n",
       "      <td>0.0</td>\n",
       "      <td>1.0</td>\n",
       "      <td>1.0</td>\n",
       "      <td>...</td>\n",
       "      <td>1.0</td>\n",
       "      <td>1.0</td>\n",
       "      <td>5.0</td>\n",
       "      <td>-1.0</td>\n",
       "      <td>-1.0</td>\n",
       "      <td>1.0</td>\n",
       "      <td>1.0</td>\n",
       "      <td>9.0</td>\n",
       "      <td>4.0</td>\n",
       "      <td>3.0</td>\n",
       "    </tr>\n",
       "    <tr>\n",
       "      <th>...</th>\n",
       "      <td>...</td>\n",
       "      <td>...</td>\n",
       "      <td>...</td>\n",
       "      <td>...</td>\n",
       "      <td>...</td>\n",
       "      <td>...</td>\n",
       "      <td>...</td>\n",
       "      <td>...</td>\n",
       "      <td>...</td>\n",
       "      <td>...</td>\n",
       "      <td>...</td>\n",
       "      <td>...</td>\n",
       "      <td>...</td>\n",
       "      <td>...</td>\n",
       "      <td>...</td>\n",
       "      <td>...</td>\n",
       "      <td>...</td>\n",
       "      <td>...</td>\n",
       "      <td>...</td>\n",
       "      <td>...</td>\n",
       "      <td>...</td>\n",
       "    </tr>\n",
       "    <tr>\n",
       "      <th>412509</th>\n",
       "      <td>0.0</td>\n",
       "      <td>1.0</td>\n",
       "      <td>1.0</td>\n",
       "      <td>1.0</td>\n",
       "      <td>45.0</td>\n",
       "      <td>0.0</td>\n",
       "      <td>0.0</td>\n",
       "      <td>0.0</td>\n",
       "      <td>0.0</td>\n",
       "      <td>1.0</td>\n",
       "      <td>...</td>\n",
       "      <td>1.0</td>\n",
       "      <td>0.0</td>\n",
       "      <td>3.0</td>\n",
       "      <td>0.0</td>\n",
       "      <td>5.0</td>\n",
       "      <td>0.0</td>\n",
       "      <td>1.0</td>\n",
       "      <td>5.0</td>\n",
       "      <td>6.0</td>\n",
       "      <td>7.0</td>\n",
       "    </tr>\n",
       "    <tr>\n",
       "      <th>412510</th>\n",
       "      <td>0.0</td>\n",
       "      <td>1.0</td>\n",
       "      <td>1.0</td>\n",
       "      <td>1.0</td>\n",
       "      <td>18.0</td>\n",
       "      <td>0.0</td>\n",
       "      <td>0.0</td>\n",
       "      <td>0.0</td>\n",
       "      <td>0.0</td>\n",
       "      <td>0.0</td>\n",
       "      <td>...</td>\n",
       "      <td>1.0</td>\n",
       "      <td>0.0</td>\n",
       "      <td>4.0</td>\n",
       "      <td>0.0</td>\n",
       "      <td>0.0</td>\n",
       "      <td>1.0</td>\n",
       "      <td>0.0</td>\n",
       "      <td>11.0</td>\n",
       "      <td>2.0</td>\n",
       "      <td>4.0</td>\n",
       "    </tr>\n",
       "    <tr>\n",
       "      <th>412511</th>\n",
       "      <td>0.0</td>\n",
       "      <td>0.0</td>\n",
       "      <td>0.0</td>\n",
       "      <td>1.0</td>\n",
       "      <td>28.0</td>\n",
       "      <td>0.0</td>\n",
       "      <td>0.0</td>\n",
       "      <td>0.0</td>\n",
       "      <td>1.0</td>\n",
       "      <td>1.0</td>\n",
       "      <td>...</td>\n",
       "      <td>1.0</td>\n",
       "      <td>0.0</td>\n",
       "      <td>1.0</td>\n",
       "      <td>0.0</td>\n",
       "      <td>0.0</td>\n",
       "      <td>0.0</td>\n",
       "      <td>0.0</td>\n",
       "      <td>2.0</td>\n",
       "      <td>5.0</td>\n",
       "      <td>2.0</td>\n",
       "    </tr>\n",
       "    <tr>\n",
       "      <th>412512</th>\n",
       "      <td>0.0</td>\n",
       "      <td>1.0</td>\n",
       "      <td>1.0</td>\n",
       "      <td>1.0</td>\n",
       "      <td>41.0</td>\n",
       "      <td>1.0</td>\n",
       "      <td>0.0</td>\n",
       "      <td>0.0</td>\n",
       "      <td>-1.0</td>\n",
       "      <td>-1.0</td>\n",
       "      <td>...</td>\n",
       "      <td>1.0</td>\n",
       "      <td>0.0</td>\n",
       "      <td>4.0</td>\n",
       "      <td>20.0</td>\n",
       "      <td>0.0</td>\n",
       "      <td>0.0</td>\n",
       "      <td>0.0</td>\n",
       "      <td>11.0</td>\n",
       "      <td>4.0</td>\n",
       "      <td>5.0</td>\n",
       "    </tr>\n",
       "    <tr>\n",
       "      <th>412513</th>\n",
       "      <td>0.0</td>\n",
       "      <td>1.0</td>\n",
       "      <td>0.0</td>\n",
       "      <td>1.0</td>\n",
       "      <td>23.0</td>\n",
       "      <td>0.0</td>\n",
       "      <td>0.0</td>\n",
       "      <td>0.0</td>\n",
       "      <td>0.0</td>\n",
       "      <td>1.0</td>\n",
       "      <td>...</td>\n",
       "      <td>1.0</td>\n",
       "      <td>0.0</td>\n",
       "      <td>3.0</td>\n",
       "      <td>0.0</td>\n",
       "      <td>0.0</td>\n",
       "      <td>0.0</td>\n",
       "      <td>1.0</td>\n",
       "      <td>7.0</td>\n",
       "      <td>5.0</td>\n",
       "      <td>1.0</td>\n",
       "    </tr>\n",
       "  </tbody>\n",
       "</table>\n",
       "<p>412514 rows × 22 columns</p>\n",
       "</div>"
      ],
      "text/plain": [
       "        HeartDiseaseorAttack  HighBP  HighChol  CholCheck   BMI  Smoker  \\\n",
       "0                        1.0     1.0       0.0        1.0  27.0     0.0   \n",
       "1                        1.0     1.0       1.0        1.0  30.0     1.0   \n",
       "2                        1.0     1.0       1.0        1.0  27.0     1.0   \n",
       "3                        1.0     0.0       1.0       -1.0  31.0     1.0   \n",
       "4                        1.0     1.0       1.0        1.0  28.0     1.0   \n",
       "...                      ...     ...       ...        ...   ...     ...   \n",
       "412509                   0.0     1.0       1.0        1.0  45.0     0.0   \n",
       "412510                   0.0     1.0       1.0        1.0  18.0     0.0   \n",
       "412511                   0.0     0.0       0.0        1.0  28.0     0.0   \n",
       "412512                   0.0     1.0       1.0        1.0  41.0     1.0   \n",
       "412513                   0.0     1.0       0.0        1.0  23.0     0.0   \n",
       "\n",
       "        Stroke  Diabetes  PhysActivity  Fruits  ...  AnyHealthcare  \\\n",
       "0          0.0       0.0          -1.0    -1.0  ...            1.0   \n",
       "1          0.0       0.0           0.0     1.0  ...            1.0   \n",
       "2          0.0       0.0           0.0     1.0  ...            1.0   \n",
       "3          0.0       0.0           0.0     0.0  ...            1.0   \n",
       "4          1.0       0.0           1.0     1.0  ...            1.0   \n",
       "...        ...       ...           ...     ...  ...            ...   \n",
       "412509     0.0       0.0           0.0     1.0  ...            1.0   \n",
       "412510     0.0       0.0           0.0     0.0  ...            1.0   \n",
       "412511     0.0       0.0           1.0     1.0  ...            1.0   \n",
       "412512     0.0       0.0          -1.0    -1.0  ...            1.0   \n",
       "412513     0.0       0.0           0.0     1.0  ...            1.0   \n",
       "\n",
       "        NoDocbcCost  GenHlth  MentHlth  PhysHlth  DiffWalk  Sex   Age  \\\n",
       "0               0.0      3.0       0.0       0.0       1.0  0.0  13.0   \n",
       "1               0.0      5.0      30.0      30.0       1.0  0.0   9.0   \n",
       "2              -1.0      3.0       0.0       0.0       0.0  1.0  13.0   \n",
       "3               0.0      3.0       0.0      -1.0       0.0  1.0  12.0   \n",
       "4               1.0      5.0      -1.0      -1.0       1.0  1.0   9.0   \n",
       "...             ...      ...       ...       ...       ...  ...   ...   \n",
       "412509          0.0      3.0       0.0       5.0       0.0  1.0   5.0   \n",
       "412510          0.0      4.0       0.0       0.0       1.0  0.0  11.0   \n",
       "412511          0.0      1.0       0.0       0.0       0.0  0.0   2.0   \n",
       "412512          0.0      4.0      20.0       0.0       0.0  0.0  11.0   \n",
       "412513          0.0      3.0       0.0       0.0       0.0  1.0   7.0   \n",
       "\n",
       "        Education  Income  \n",
       "0             5.0    -1.0  \n",
       "1             5.0     1.0  \n",
       "2             3.0     4.0  \n",
       "3             2.0     3.0  \n",
       "4             4.0     3.0  \n",
       "...           ...     ...  \n",
       "412509        6.0     7.0  \n",
       "412510        2.0     4.0  \n",
       "412511        5.0     2.0  \n",
       "412512        4.0     5.0  \n",
       "412513        5.0     1.0  \n",
       "\n",
       "[412514 rows x 22 columns]"
      ]
     },
     "execution_count": 215,
     "metadata": {},
     "output_type": "execute_result"
    }
   ],
   "source": [
    "df"
   ]
  },
  {
   "cell_type": "markdown",
   "metadata": {},
   "source": [
    "Now split it into test and train (i.e. validation for me)."
   ]
  },
  {
   "cell_type": "code",
   "execution_count": 64,
   "metadata": {},
   "outputs": [],
   "source": [
    "X_train, X_test, y_train, y_test = train_test_split(X,y,test_size=0.1,random_state=11)"
   ]
  },
  {
   "cell_type": "code",
   "execution_count": 65,
   "metadata": {},
   "outputs": [
    {
     "data": {
      "text/html": [
       "<div>\n",
       "<style scoped>\n",
       "    .dataframe tbody tr th:only-of-type {\n",
       "        vertical-align: middle;\n",
       "    }\n",
       "\n",
       "    .dataframe tbody tr th {\n",
       "        vertical-align: top;\n",
       "    }\n",
       "\n",
       "    .dataframe thead th {\n",
       "        text-align: right;\n",
       "    }\n",
       "</style>\n",
       "<table border=\"1\" class=\"dataframe\">\n",
       "  <thead>\n",
       "    <tr style=\"text-align: right;\">\n",
       "      <th></th>\n",
       "      <th>HighBP</th>\n",
       "      <th>HighChol</th>\n",
       "      <th>CholCheck</th>\n",
       "      <th>BMI</th>\n",
       "      <th>Smoker</th>\n",
       "      <th>Stroke</th>\n",
       "      <th>Diabetes</th>\n",
       "      <th>PhysActivity</th>\n",
       "      <th>Fruits</th>\n",
       "      <th>Veggies</th>\n",
       "      <th>...</th>\n",
       "      <th>AnyHealthcare</th>\n",
       "      <th>NoDocbcCost</th>\n",
       "      <th>GenHlth</th>\n",
       "      <th>MentHlth</th>\n",
       "      <th>PhysHlth</th>\n",
       "      <th>DiffWalk</th>\n",
       "      <th>Sex</th>\n",
       "      <th>Age</th>\n",
       "      <th>Education</th>\n",
       "      <th>Income</th>\n",
       "    </tr>\n",
       "  </thead>\n",
       "  <tbody>\n",
       "    <tr>\n",
       "      <th>327472</th>\n",
       "      <td>1.0</td>\n",
       "      <td>1.0</td>\n",
       "      <td>1.0</td>\n",
       "      <td>24.0</td>\n",
       "      <td>1.0</td>\n",
       "      <td>-1.0</td>\n",
       "      <td>0.0</td>\n",
       "      <td>0.0</td>\n",
       "      <td>1.0</td>\n",
       "      <td>0.0</td>\n",
       "      <td>...</td>\n",
       "      <td>1.0</td>\n",
       "      <td>1.0</td>\n",
       "      <td>3.0</td>\n",
       "      <td>3.0</td>\n",
       "      <td>0.0</td>\n",
       "      <td>1.0</td>\n",
       "      <td>0.0</td>\n",
       "      <td>8.0</td>\n",
       "      <td>4.0</td>\n",
       "      <td>-1.0</td>\n",
       "    </tr>\n",
       "    <tr>\n",
       "      <th>265478</th>\n",
       "      <td>1.0</td>\n",
       "      <td>0.0</td>\n",
       "      <td>0.0</td>\n",
       "      <td>20.0</td>\n",
       "      <td>1.0</td>\n",
       "      <td>0.0</td>\n",
       "      <td>0.0</td>\n",
       "      <td>1.0</td>\n",
       "      <td>1.0</td>\n",
       "      <td>1.0</td>\n",
       "      <td>...</td>\n",
       "      <td>0.0</td>\n",
       "      <td>1.0</td>\n",
       "      <td>1.0</td>\n",
       "      <td>0.0</td>\n",
       "      <td>0.0</td>\n",
       "      <td>0.0</td>\n",
       "      <td>0.0</td>\n",
       "      <td>6.0</td>\n",
       "      <td>6.0</td>\n",
       "      <td>1.0</td>\n",
       "    </tr>\n",
       "    <tr>\n",
       "      <th>84291</th>\n",
       "      <td>1.0</td>\n",
       "      <td>0.0</td>\n",
       "      <td>1.0</td>\n",
       "      <td>27.0</td>\n",
       "      <td>1.0</td>\n",
       "      <td>0.0</td>\n",
       "      <td>0.0</td>\n",
       "      <td>1.0</td>\n",
       "      <td>0.0</td>\n",
       "      <td>1.0</td>\n",
       "      <td>...</td>\n",
       "      <td>1.0</td>\n",
       "      <td>0.0</td>\n",
       "      <td>4.0</td>\n",
       "      <td>0.0</td>\n",
       "      <td>0.0</td>\n",
       "      <td>0.0</td>\n",
       "      <td>0.0</td>\n",
       "      <td>12.0</td>\n",
       "      <td>5.0</td>\n",
       "      <td>5.0</td>\n",
       "    </tr>\n",
       "    <tr>\n",
       "      <th>280903</th>\n",
       "      <td>1.0</td>\n",
       "      <td>0.0</td>\n",
       "      <td>1.0</td>\n",
       "      <td>-0.0</td>\n",
       "      <td>-1.0</td>\n",
       "      <td>0.0</td>\n",
       "      <td>0.0</td>\n",
       "      <td>1.0</td>\n",
       "      <td>0.0</td>\n",
       "      <td>0.0</td>\n",
       "      <td>...</td>\n",
       "      <td>1.0</td>\n",
       "      <td>1.0</td>\n",
       "      <td>3.0</td>\n",
       "      <td>4.0</td>\n",
       "      <td>3.0</td>\n",
       "      <td>0.0</td>\n",
       "      <td>1.0</td>\n",
       "      <td>-1.0</td>\n",
       "      <td>4.0</td>\n",
       "      <td>-1.0</td>\n",
       "    </tr>\n",
       "    <tr>\n",
       "      <th>363297</th>\n",
       "      <td>0.0</td>\n",
       "      <td>-1.0</td>\n",
       "      <td>0.0</td>\n",
       "      <td>29.0</td>\n",
       "      <td>1.0</td>\n",
       "      <td>0.0</td>\n",
       "      <td>0.0</td>\n",
       "      <td>0.0</td>\n",
       "      <td>0.0</td>\n",
       "      <td>0.0</td>\n",
       "      <td>...</td>\n",
       "      <td>1.0</td>\n",
       "      <td>0.0</td>\n",
       "      <td>3.0</td>\n",
       "      <td>0.0</td>\n",
       "      <td>0.0</td>\n",
       "      <td>0.0</td>\n",
       "      <td>0.0</td>\n",
       "      <td>1.0</td>\n",
       "      <td>4.0</td>\n",
       "      <td>-1.0</td>\n",
       "    </tr>\n",
       "    <tr>\n",
       "      <th>...</th>\n",
       "      <td>...</td>\n",
       "      <td>...</td>\n",
       "      <td>...</td>\n",
       "      <td>...</td>\n",
       "      <td>...</td>\n",
       "      <td>...</td>\n",
       "      <td>...</td>\n",
       "      <td>...</td>\n",
       "      <td>...</td>\n",
       "      <td>...</td>\n",
       "      <td>...</td>\n",
       "      <td>...</td>\n",
       "      <td>...</td>\n",
       "      <td>...</td>\n",
       "      <td>...</td>\n",
       "      <td>...</td>\n",
       "      <td>...</td>\n",
       "      <td>...</td>\n",
       "      <td>...</td>\n",
       "      <td>...</td>\n",
       "      <td>...</td>\n",
       "    </tr>\n",
       "    <tr>\n",
       "      <th>359761</th>\n",
       "      <td>0.0</td>\n",
       "      <td>0.0</td>\n",
       "      <td>0.0</td>\n",
       "      <td>20.0</td>\n",
       "      <td>0.0</td>\n",
       "      <td>0.0</td>\n",
       "      <td>0.0</td>\n",
       "      <td>1.0</td>\n",
       "      <td>0.0</td>\n",
       "      <td>0.0</td>\n",
       "      <td>...</td>\n",
       "      <td>1.0</td>\n",
       "      <td>0.0</td>\n",
       "      <td>2.0</td>\n",
       "      <td>0.0</td>\n",
       "      <td>0.0</td>\n",
       "      <td>0.0</td>\n",
       "      <td>0.0</td>\n",
       "      <td>10.0</td>\n",
       "      <td>4.0</td>\n",
       "      <td>-1.0</td>\n",
       "    </tr>\n",
       "    <tr>\n",
       "      <th>203867</th>\n",
       "      <td>0.0</td>\n",
       "      <td>-1.0</td>\n",
       "      <td>0.0</td>\n",
       "      <td>23.0</td>\n",
       "      <td>-1.0</td>\n",
       "      <td>0.0</td>\n",
       "      <td>0.0</td>\n",
       "      <td>-1.0</td>\n",
       "      <td>-1.0</td>\n",
       "      <td>-1.0</td>\n",
       "      <td>...</td>\n",
       "      <td>1.0</td>\n",
       "      <td>0.0</td>\n",
       "      <td>2.0</td>\n",
       "      <td>0.0</td>\n",
       "      <td>2.0</td>\n",
       "      <td>-1.0</td>\n",
       "      <td>0.0</td>\n",
       "      <td>1.0</td>\n",
       "      <td>6.0</td>\n",
       "      <td>3.0</td>\n",
       "    </tr>\n",
       "    <tr>\n",
       "      <th>283728</th>\n",
       "      <td>1.0</td>\n",
       "      <td>0.0</td>\n",
       "      <td>1.0</td>\n",
       "      <td>22.0</td>\n",
       "      <td>0.0</td>\n",
       "      <td>0.0</td>\n",
       "      <td>0.0</td>\n",
       "      <td>1.0</td>\n",
       "      <td>0.0</td>\n",
       "      <td>0.0</td>\n",
       "      <td>...</td>\n",
       "      <td>1.0</td>\n",
       "      <td>0.0</td>\n",
       "      <td>4.0</td>\n",
       "      <td>0.0</td>\n",
       "      <td>10.0</td>\n",
       "      <td>0.0</td>\n",
       "      <td>0.0</td>\n",
       "      <td>13.0</td>\n",
       "      <td>2.0</td>\n",
       "      <td>3.0</td>\n",
       "    </tr>\n",
       "    <tr>\n",
       "      <th>298687</th>\n",
       "      <td>0.0</td>\n",
       "      <td>0.0</td>\n",
       "      <td>1.0</td>\n",
       "      <td>27.0</td>\n",
       "      <td>1.0</td>\n",
       "      <td>0.0</td>\n",
       "      <td>0.0</td>\n",
       "      <td>0.0</td>\n",
       "      <td>0.0</td>\n",
       "      <td>0.0</td>\n",
       "      <td>...</td>\n",
       "      <td>1.0</td>\n",
       "      <td>0.0</td>\n",
       "      <td>2.0</td>\n",
       "      <td>0.0</td>\n",
       "      <td>1.0</td>\n",
       "      <td>0.0</td>\n",
       "      <td>1.0</td>\n",
       "      <td>3.0</td>\n",
       "      <td>6.0</td>\n",
       "      <td>8.0</td>\n",
       "    </tr>\n",
       "    <tr>\n",
       "      <th>403353</th>\n",
       "      <td>1.0</td>\n",
       "      <td>1.0</td>\n",
       "      <td>1.0</td>\n",
       "      <td>25.0</td>\n",
       "      <td>1.0</td>\n",
       "      <td>0.0</td>\n",
       "      <td>0.0</td>\n",
       "      <td>0.0</td>\n",
       "      <td>1.0</td>\n",
       "      <td>1.0</td>\n",
       "      <td>...</td>\n",
       "      <td>1.0</td>\n",
       "      <td>0.0</td>\n",
       "      <td>2.0</td>\n",
       "      <td>2.0</td>\n",
       "      <td>0.0</td>\n",
       "      <td>0.0</td>\n",
       "      <td>0.0</td>\n",
       "      <td>11.0</td>\n",
       "      <td>6.0</td>\n",
       "      <td>6.0</td>\n",
       "    </tr>\n",
       "  </tbody>\n",
       "</table>\n",
       "<p>371262 rows × 21 columns</p>\n",
       "</div>"
      ],
      "text/plain": [
       "        HighBP  HighChol  CholCheck   BMI  Smoker  Stroke  Diabetes  \\\n",
       "327472     1.0       1.0        1.0  24.0     1.0    -1.0       0.0   \n",
       "265478     1.0       0.0        0.0  20.0     1.0     0.0       0.0   \n",
       "84291      1.0       0.0        1.0  27.0     1.0     0.0       0.0   \n",
       "280903     1.0       0.0        1.0  -0.0    -1.0     0.0       0.0   \n",
       "363297     0.0      -1.0        0.0  29.0     1.0     0.0       0.0   \n",
       "...        ...       ...        ...   ...     ...     ...       ...   \n",
       "359761     0.0       0.0        0.0  20.0     0.0     0.0       0.0   \n",
       "203867     0.0      -1.0        0.0  23.0    -1.0     0.0       0.0   \n",
       "283728     1.0       0.0        1.0  22.0     0.0     0.0       0.0   \n",
       "298687     0.0       0.0        1.0  27.0     1.0     0.0       0.0   \n",
       "403353     1.0       1.0        1.0  25.0     1.0     0.0       0.0   \n",
       "\n",
       "        PhysActivity  Fruits  Veggies  ...  AnyHealthcare  NoDocbcCost  \\\n",
       "327472           0.0     1.0      0.0  ...            1.0          1.0   \n",
       "265478           1.0     1.0      1.0  ...            0.0          1.0   \n",
       "84291            1.0     0.0      1.0  ...            1.0          0.0   \n",
       "280903           1.0     0.0      0.0  ...            1.0          1.0   \n",
       "363297           0.0     0.0      0.0  ...            1.0          0.0   \n",
       "...              ...     ...      ...  ...            ...          ...   \n",
       "359761           1.0     0.0      0.0  ...            1.0          0.0   \n",
       "203867          -1.0    -1.0     -1.0  ...            1.0          0.0   \n",
       "283728           1.0     0.0      0.0  ...            1.0          0.0   \n",
       "298687           0.0     0.0      0.0  ...            1.0          0.0   \n",
       "403353           0.0     1.0      1.0  ...            1.0          0.0   \n",
       "\n",
       "        GenHlth  MentHlth  PhysHlth  DiffWalk  Sex   Age  Education  Income  \n",
       "327472      3.0       3.0       0.0       1.0  0.0   8.0        4.0    -1.0  \n",
       "265478      1.0       0.0       0.0       0.0  0.0   6.0        6.0     1.0  \n",
       "84291       4.0       0.0       0.0       0.0  0.0  12.0        5.0     5.0  \n",
       "280903      3.0       4.0       3.0       0.0  1.0  -1.0        4.0    -1.0  \n",
       "363297      3.0       0.0       0.0       0.0  0.0   1.0        4.0    -1.0  \n",
       "...         ...       ...       ...       ...  ...   ...        ...     ...  \n",
       "359761      2.0       0.0       0.0       0.0  0.0  10.0        4.0    -1.0  \n",
       "203867      2.0       0.0       2.0      -1.0  0.0   1.0        6.0     3.0  \n",
       "283728      4.0       0.0      10.0       0.0  0.0  13.0        2.0     3.0  \n",
       "298687      2.0       0.0       1.0       0.0  1.0   3.0        6.0     8.0  \n",
       "403353      2.0       2.0       0.0       0.0  0.0  11.0        6.0     6.0  \n",
       "\n",
       "[371262 rows x 21 columns]"
      ]
     },
     "execution_count": 65,
     "metadata": {},
     "output_type": "execute_result"
    }
   ],
   "source": [
    "X_train"
   ]
  },
  {
   "cell_type": "code",
   "execution_count": null,
   "metadata": {},
   "outputs": [],
   "source": []
  },
  {
   "cell_type": "markdown",
   "metadata": {},
   "source": [
    "Looking at how to deal with missing data, realised it might be better to use xgboost.\n",
    "\n",
    "Checking that there's no entries with missing heart disease data first."
   ]
  },
  {
   "cell_type": "code",
   "execution_count": 66,
   "metadata": {},
   "outputs": [
    {
     "data": {
      "text/plain": [
       "0"
      ]
     },
     "execution_count": 66,
     "metadata": {},
     "output_type": "execute_result"
    }
   ],
   "source": [
    "sum(entry == -1 for entry in y)"
   ]
  },
  {
   "cell_type": "markdown",
   "metadata": {},
   "source": [
    "To set up the base of the model, followed https://practicaldatascience.co.uk/machine-learning/how-to-create-a-classification-model-using-xgboost .\n",
    "\n",
    "Import xgboost"
   ]
  },
  {
   "cell_type": "code",
   "execution_count": 67,
   "metadata": {},
   "outputs": [],
   "source": [
    "from xgboost import XGBClassifier"
   ]
  },
  {
   "cell_type": "code",
   "execution_count": 68,
   "metadata": {},
   "outputs": [],
   "source": [
    "model = XGBClassifier(eval_metric='mlogloss', missing =-1)"
   ]
  },
  {
   "cell_type": "code",
   "execution_count": 69,
   "metadata": {
    "scrolled": true
   },
   "outputs": [
    {
     "data": {
      "text/html": [
       "<style>#sk-container-id-4 {color: black;background-color: white;}#sk-container-id-4 pre{padding: 0;}#sk-container-id-4 div.sk-toggleable {background-color: white;}#sk-container-id-4 label.sk-toggleable__label {cursor: pointer;display: block;width: 100%;margin-bottom: 0;padding: 0.3em;box-sizing: border-box;text-align: center;}#sk-container-id-4 label.sk-toggleable__label-arrow:before {content: \"▸\";float: left;margin-right: 0.25em;color: #696969;}#sk-container-id-4 label.sk-toggleable__label-arrow:hover:before {color: black;}#sk-container-id-4 div.sk-estimator:hover label.sk-toggleable__label-arrow:before {color: black;}#sk-container-id-4 div.sk-toggleable__content {max-height: 0;max-width: 0;overflow: hidden;text-align: left;background-color: #f0f8ff;}#sk-container-id-4 div.sk-toggleable__content pre {margin: 0.2em;color: black;border-radius: 0.25em;background-color: #f0f8ff;}#sk-container-id-4 input.sk-toggleable__control:checked~div.sk-toggleable__content {max-height: 200px;max-width: 100%;overflow: auto;}#sk-container-id-4 input.sk-toggleable__control:checked~label.sk-toggleable__label-arrow:before {content: \"▾\";}#sk-container-id-4 div.sk-estimator input.sk-toggleable__control:checked~label.sk-toggleable__label {background-color: #d4ebff;}#sk-container-id-4 div.sk-label input.sk-toggleable__control:checked~label.sk-toggleable__label {background-color: #d4ebff;}#sk-container-id-4 input.sk-hidden--visually {border: 0;clip: rect(1px 1px 1px 1px);clip: rect(1px, 1px, 1px, 1px);height: 1px;margin: -1px;overflow: hidden;padding: 0;position: absolute;width: 1px;}#sk-container-id-4 div.sk-estimator {font-family: monospace;background-color: #f0f8ff;border: 1px dotted black;border-radius: 0.25em;box-sizing: border-box;margin-bottom: 0.5em;}#sk-container-id-4 div.sk-estimator:hover {background-color: #d4ebff;}#sk-container-id-4 div.sk-parallel-item::after {content: \"\";width: 100%;border-bottom: 1px solid gray;flex-grow: 1;}#sk-container-id-4 div.sk-label:hover label.sk-toggleable__label {background-color: #d4ebff;}#sk-container-id-4 div.sk-serial::before {content: \"\";position: absolute;border-left: 1px solid gray;box-sizing: border-box;top: 0;bottom: 0;left: 50%;z-index: 0;}#sk-container-id-4 div.sk-serial {display: flex;flex-direction: column;align-items: center;background-color: white;padding-right: 0.2em;padding-left: 0.2em;position: relative;}#sk-container-id-4 div.sk-item {position: relative;z-index: 1;}#sk-container-id-4 div.sk-parallel {display: flex;align-items: stretch;justify-content: center;background-color: white;position: relative;}#sk-container-id-4 div.sk-item::before, #sk-container-id-4 div.sk-parallel-item::before {content: \"\";position: absolute;border-left: 1px solid gray;box-sizing: border-box;top: 0;bottom: 0;left: 50%;z-index: -1;}#sk-container-id-4 div.sk-parallel-item {display: flex;flex-direction: column;z-index: 1;position: relative;background-color: white;}#sk-container-id-4 div.sk-parallel-item:first-child::after {align-self: flex-end;width: 50%;}#sk-container-id-4 div.sk-parallel-item:last-child::after {align-self: flex-start;width: 50%;}#sk-container-id-4 div.sk-parallel-item:only-child::after {width: 0;}#sk-container-id-4 div.sk-dashed-wrapped {border: 1px dashed gray;margin: 0 0.4em 0.5em 0.4em;box-sizing: border-box;padding-bottom: 0.4em;background-color: white;}#sk-container-id-4 div.sk-label label {font-family: monospace;font-weight: bold;display: inline-block;line-height: 1.2em;}#sk-container-id-4 div.sk-label-container {text-align: center;}#sk-container-id-4 div.sk-container {/* jupyter's `normalize.less` sets `[hidden] { display: none; }` but bootstrap.min.css set `[hidden] { display: none !important; }` so we also need the `!important` here to be able to override the default hidden behavior on the sphinx rendered scikit-learn.org. See: https://github.com/scikit-learn/scikit-learn/issues/21755 */display: inline-block !important;position: relative;}#sk-container-id-4 div.sk-text-repr-fallback {display: none;}</style><div id=\"sk-container-id-4\" class=\"sk-top-container\"><div class=\"sk-text-repr-fallback\"><pre>XGBClassifier(base_score=0.5, booster=&#x27;gbtree&#x27;, callbacks=None,\n",
       "              colsample_bylevel=1, colsample_bynode=1, colsample_bytree=1,\n",
       "              early_stopping_rounds=None, enable_categorical=False,\n",
       "              eval_metric=&#x27;mlogloss&#x27;, feature_types=None, gamma=0, gpu_id=-1,\n",
       "              grow_policy=&#x27;depthwise&#x27;, importance_type=None,\n",
       "              interaction_constraints=&#x27;&#x27;, learning_rate=0.300000012,\n",
       "              max_bin=256, max_cat_threshold=64, max_cat_to_onehot=4,\n",
       "              max_delta_step=0, max_depth=6, max_leaves=0, min_child_weight=1,\n",
       "              missing=-1, monotone_constraints=&#x27;()&#x27;, n_estimators=100, n_jobs=0,\n",
       "              num_parallel_tree=1, predictor=&#x27;auto&#x27;, random_state=0, ...)</pre><b>In a Jupyter environment, please rerun this cell to show the HTML representation or trust the notebook. <br />On GitHub, the HTML representation is unable to render, please try loading this page with nbviewer.org.</b></div><div class=\"sk-container\" hidden><div class=\"sk-item\"><div class=\"sk-estimator sk-toggleable\"><input class=\"sk-toggleable__control sk-hidden--visually\" id=\"sk-estimator-id-4\" type=\"checkbox\" checked><label for=\"sk-estimator-id-4\" class=\"sk-toggleable__label sk-toggleable__label-arrow\">XGBClassifier</label><div class=\"sk-toggleable__content\"><pre>XGBClassifier(base_score=0.5, booster=&#x27;gbtree&#x27;, callbacks=None,\n",
       "              colsample_bylevel=1, colsample_bynode=1, colsample_bytree=1,\n",
       "              early_stopping_rounds=None, enable_categorical=False,\n",
       "              eval_metric=&#x27;mlogloss&#x27;, feature_types=None, gamma=0, gpu_id=-1,\n",
       "              grow_policy=&#x27;depthwise&#x27;, importance_type=None,\n",
       "              interaction_constraints=&#x27;&#x27;, learning_rate=0.300000012,\n",
       "              max_bin=256, max_cat_threshold=64, max_cat_to_onehot=4,\n",
       "              max_delta_step=0, max_depth=6, max_leaves=0, min_child_weight=1,\n",
       "              missing=-1, monotone_constraints=&#x27;()&#x27;, n_estimators=100, n_jobs=0,\n",
       "              num_parallel_tree=1, predictor=&#x27;auto&#x27;, random_state=0, ...)</pre></div></div></div></div></div>"
      ],
      "text/plain": [
       "XGBClassifier(base_score=0.5, booster='gbtree', callbacks=None,\n",
       "              colsample_bylevel=1, colsample_bynode=1, colsample_bytree=1,\n",
       "              early_stopping_rounds=None, enable_categorical=False,\n",
       "              eval_metric='mlogloss', feature_types=None, gamma=0, gpu_id=-1,\n",
       "              grow_policy='depthwise', importance_type=None,\n",
       "              interaction_constraints='', learning_rate=0.300000012,\n",
       "              max_bin=256, max_cat_threshold=64, max_cat_to_onehot=4,\n",
       "              max_delta_step=0, max_depth=6, max_leaves=0, min_child_weight=1,\n",
       "              missing=-1, monotone_constraints='()', n_estimators=100, n_jobs=0,\n",
       "              num_parallel_tree=1, predictor='auto', random_state=0, ...)"
      ]
     },
     "execution_count": 69,
     "metadata": {},
     "output_type": "execute_result"
    }
   ],
   "source": [
    "model.fit(X_train, y_train)"
   ]
  },
  {
   "cell_type": "code",
   "execution_count": 70,
   "metadata": {},
   "outputs": [],
   "source": [
    "y_pred = model.predict(X_test)"
   ]
  },
  {
   "cell_type": "code",
   "execution_count": 71,
   "metadata": {},
   "outputs": [
    {
     "data": {
      "text/plain": [
       "0.930209444390575"
      ]
     },
     "execution_count": 71,
     "metadata": {},
     "output_type": "execute_result"
    }
   ],
   "source": [
    "accuracy = accuracy_score(y_test, y_pred)\n",
    "accuracy"
   ]
  },
  {
   "cell_type": "markdown",
   "metadata": {},
   "source": [
    "Now need to tune the hyperparameters, some through cross validation. Use https://www.analyticsvidhya.com/blog/2016/03/complete-guide-parameter-tuning-xgboost-with-codes-python/#h2_9 ."
   ]
  },
  {
   "cell_type": "code",
   "execution_count": 72,
   "metadata": {},
   "outputs": [],
   "source": [
    "model2 = XGBClassifier(objective = 'binary:logistic' , eval_metric='mlogloss', missing =-1)"
   ]
  },
  {
   "cell_type": "code",
   "execution_count": 73,
   "metadata": {},
   "outputs": [
    {
     "data": {
      "text/html": [
       "<style>#sk-container-id-5 {color: black;background-color: white;}#sk-container-id-5 pre{padding: 0;}#sk-container-id-5 div.sk-toggleable {background-color: white;}#sk-container-id-5 label.sk-toggleable__label {cursor: pointer;display: block;width: 100%;margin-bottom: 0;padding: 0.3em;box-sizing: border-box;text-align: center;}#sk-container-id-5 label.sk-toggleable__label-arrow:before {content: \"▸\";float: left;margin-right: 0.25em;color: #696969;}#sk-container-id-5 label.sk-toggleable__label-arrow:hover:before {color: black;}#sk-container-id-5 div.sk-estimator:hover label.sk-toggleable__label-arrow:before {color: black;}#sk-container-id-5 div.sk-toggleable__content {max-height: 0;max-width: 0;overflow: hidden;text-align: left;background-color: #f0f8ff;}#sk-container-id-5 div.sk-toggleable__content pre {margin: 0.2em;color: black;border-radius: 0.25em;background-color: #f0f8ff;}#sk-container-id-5 input.sk-toggleable__control:checked~div.sk-toggleable__content {max-height: 200px;max-width: 100%;overflow: auto;}#sk-container-id-5 input.sk-toggleable__control:checked~label.sk-toggleable__label-arrow:before {content: \"▾\";}#sk-container-id-5 div.sk-estimator input.sk-toggleable__control:checked~label.sk-toggleable__label {background-color: #d4ebff;}#sk-container-id-5 div.sk-label input.sk-toggleable__control:checked~label.sk-toggleable__label {background-color: #d4ebff;}#sk-container-id-5 input.sk-hidden--visually {border: 0;clip: rect(1px 1px 1px 1px);clip: rect(1px, 1px, 1px, 1px);height: 1px;margin: -1px;overflow: hidden;padding: 0;position: absolute;width: 1px;}#sk-container-id-5 div.sk-estimator {font-family: monospace;background-color: #f0f8ff;border: 1px dotted black;border-radius: 0.25em;box-sizing: border-box;margin-bottom: 0.5em;}#sk-container-id-5 div.sk-estimator:hover {background-color: #d4ebff;}#sk-container-id-5 div.sk-parallel-item::after {content: \"\";width: 100%;border-bottom: 1px solid gray;flex-grow: 1;}#sk-container-id-5 div.sk-label:hover label.sk-toggleable__label {background-color: #d4ebff;}#sk-container-id-5 div.sk-serial::before {content: \"\";position: absolute;border-left: 1px solid gray;box-sizing: border-box;top: 0;bottom: 0;left: 50%;z-index: 0;}#sk-container-id-5 div.sk-serial {display: flex;flex-direction: column;align-items: center;background-color: white;padding-right: 0.2em;padding-left: 0.2em;position: relative;}#sk-container-id-5 div.sk-item {position: relative;z-index: 1;}#sk-container-id-5 div.sk-parallel {display: flex;align-items: stretch;justify-content: center;background-color: white;position: relative;}#sk-container-id-5 div.sk-item::before, #sk-container-id-5 div.sk-parallel-item::before {content: \"\";position: absolute;border-left: 1px solid gray;box-sizing: border-box;top: 0;bottom: 0;left: 50%;z-index: -1;}#sk-container-id-5 div.sk-parallel-item {display: flex;flex-direction: column;z-index: 1;position: relative;background-color: white;}#sk-container-id-5 div.sk-parallel-item:first-child::after {align-self: flex-end;width: 50%;}#sk-container-id-5 div.sk-parallel-item:last-child::after {align-self: flex-start;width: 50%;}#sk-container-id-5 div.sk-parallel-item:only-child::after {width: 0;}#sk-container-id-5 div.sk-dashed-wrapped {border: 1px dashed gray;margin: 0 0.4em 0.5em 0.4em;box-sizing: border-box;padding-bottom: 0.4em;background-color: white;}#sk-container-id-5 div.sk-label label {font-family: monospace;font-weight: bold;display: inline-block;line-height: 1.2em;}#sk-container-id-5 div.sk-label-container {text-align: center;}#sk-container-id-5 div.sk-container {/* jupyter's `normalize.less` sets `[hidden] { display: none; }` but bootstrap.min.css set `[hidden] { display: none !important; }` so we also need the `!important` here to be able to override the default hidden behavior on the sphinx rendered scikit-learn.org. See: https://github.com/scikit-learn/scikit-learn/issues/21755 */display: inline-block !important;position: relative;}#sk-container-id-5 div.sk-text-repr-fallback {display: none;}</style><div id=\"sk-container-id-5\" class=\"sk-top-container\"><div class=\"sk-text-repr-fallback\"><pre>XGBClassifier(base_score=0.5, booster=&#x27;gbtree&#x27;, callbacks=None,\n",
       "              colsample_bylevel=1, colsample_bynode=1, colsample_bytree=1,\n",
       "              early_stopping_rounds=None, enable_categorical=False,\n",
       "              eval_metric=&#x27;mlogloss&#x27;, feature_types=None, gamma=0, gpu_id=-1,\n",
       "              grow_policy=&#x27;depthwise&#x27;, importance_type=None,\n",
       "              interaction_constraints=&#x27;&#x27;, learning_rate=0.300000012,\n",
       "              max_bin=256, max_cat_threshold=64, max_cat_to_onehot=4,\n",
       "              max_delta_step=0, max_depth=6, max_leaves=0, min_child_weight=1,\n",
       "              missing=-1, monotone_constraints=&#x27;()&#x27;, n_estimators=100, n_jobs=0,\n",
       "              num_parallel_tree=1, predictor=&#x27;auto&#x27;, random_state=0, ...)</pre><b>In a Jupyter environment, please rerun this cell to show the HTML representation or trust the notebook. <br />On GitHub, the HTML representation is unable to render, please try loading this page with nbviewer.org.</b></div><div class=\"sk-container\" hidden><div class=\"sk-item\"><div class=\"sk-estimator sk-toggleable\"><input class=\"sk-toggleable__control sk-hidden--visually\" id=\"sk-estimator-id-5\" type=\"checkbox\" checked><label for=\"sk-estimator-id-5\" class=\"sk-toggleable__label sk-toggleable__label-arrow\">XGBClassifier</label><div class=\"sk-toggleable__content\"><pre>XGBClassifier(base_score=0.5, booster=&#x27;gbtree&#x27;, callbacks=None,\n",
       "              colsample_bylevel=1, colsample_bynode=1, colsample_bytree=1,\n",
       "              early_stopping_rounds=None, enable_categorical=False,\n",
       "              eval_metric=&#x27;mlogloss&#x27;, feature_types=None, gamma=0, gpu_id=-1,\n",
       "              grow_policy=&#x27;depthwise&#x27;, importance_type=None,\n",
       "              interaction_constraints=&#x27;&#x27;, learning_rate=0.300000012,\n",
       "              max_bin=256, max_cat_threshold=64, max_cat_to_onehot=4,\n",
       "              max_delta_step=0, max_depth=6, max_leaves=0, min_child_weight=1,\n",
       "              missing=-1, monotone_constraints=&#x27;()&#x27;, n_estimators=100, n_jobs=0,\n",
       "              num_parallel_tree=1, predictor=&#x27;auto&#x27;, random_state=0, ...)</pre></div></div></div></div></div>"
      ],
      "text/plain": [
       "XGBClassifier(base_score=0.5, booster='gbtree', callbacks=None,\n",
       "              colsample_bylevel=1, colsample_bynode=1, colsample_bytree=1,\n",
       "              early_stopping_rounds=None, enable_categorical=False,\n",
       "              eval_metric='mlogloss', feature_types=None, gamma=0, gpu_id=-1,\n",
       "              grow_policy='depthwise', importance_type=None,\n",
       "              interaction_constraints='', learning_rate=0.300000012,\n",
       "              max_bin=256, max_cat_threshold=64, max_cat_to_onehot=4,\n",
       "              max_delta_step=0, max_depth=6, max_leaves=0, min_child_weight=1,\n",
       "              missing=-1, monotone_constraints='()', n_estimators=100, n_jobs=0,\n",
       "              num_parallel_tree=1, predictor='auto', random_state=0, ...)"
      ]
     },
     "execution_count": 73,
     "metadata": {},
     "output_type": "execute_result"
    }
   ],
   "source": [
    "model2.fit(X_train, y_train)"
   ]
  },
  {
   "cell_type": "code",
   "execution_count": 74,
   "metadata": {},
   "outputs": [],
   "source": [
    "y_pred2 = model2.predict(X_test)"
   ]
  },
  {
   "cell_type": "code",
   "execution_count": 75,
   "metadata": {},
   "outputs": [
    {
     "data": {
      "text/plain": [
       "0.930209444390575"
      ]
     },
     "execution_count": 75,
     "metadata": {},
     "output_type": "execute_result"
    }
   ],
   "source": [
    "accuracy2 = accuracy_score(y_test, y_pred2)\n",
    "accuracy2"
   ]
  },
  {
   "cell_type": "markdown",
   "metadata": {},
   "source": [
    "Detour: Testing accuracy on dataset with missing values removed - should we even bother including them?"
   ]
  },
  {
   "cell_type": "code",
   "execution_count": 76,
   "metadata": {},
   "outputs": [],
   "source": [
    "url='https://drive.google.com/file/d/1wJb9GHpCihtcJQyfi-y3YUEFrClL6zIc/view?pli=1'\n",
    "url='https://drive.google.com/uc?id=' + url.split('/')[-2]\n",
    "dfNoMissing = pd.read_csv(url)\n",
    "yNoMissing=dfNoMissing.iloc[:,0]\n",
    "XNoMissing=dfNoMissing.iloc[:,1:22]\n",
    "\n",
    "\n"
   ]
  },
  {
   "cell_type": "code",
   "execution_count": 77,
   "metadata": {},
   "outputs": [
    {
     "data": {
      "text/plain": [
       "0.9276686523909193"
      ]
     },
     "execution_count": 77,
     "metadata": {},
     "output_type": "execute_result"
    }
   ],
   "source": [
    "X_trainNoMissing, X_testNoMissing, y_trainNoMissing, y_testNoMissing = train_test_split(XNoMissing,yNoMissing,test_size=0.1)\n",
    "modelNoMissing = XGBClassifier(eval_metric='mlogloss', missing =-1)\n",
    "modelNoMissing.fit(X_trainNoMissing, y_trainNoMissing)\n",
    "y_predNoMissing = modelNoMissing.predict(X_testNoMissing)\n",
    "accuracyNoMissing = accuracy_score(y_testNoMissing, y_predNoMissing)\n",
    "accuracyNoMissing"
   ]
  },
  {
   "cell_type": "markdown",
   "metadata": {},
   "source": [
    "Answer: there is a slight difference so we can do some simple imputation so that the boosted decision tree model and the oother models can be run on the same test dataset.\n",
    "\n",
    "Now going to impute missing data by knn imputation. https://medium.com/@kyawsawhtoon/a-guide-to-knn-imputation-95e2dc496e"
   ]
  },
  {
   "cell_type": "code",
   "execution_count": 78,
   "metadata": {},
   "outputs": [],
   "source": [
    "from sklearn.impute import KNNImputer\n",
    "from sklearn.preprocessing import MinMaxScaler"
   ]
  },
  {
   "cell_type": "code",
   "execution_count": 79,
   "metadata": {},
   "outputs": [],
   "source": [
    "scaler = MinMaxScaler()\n",
    "dfImputed = pd.DataFrame(scaler.fit_transform(df), columns = df.columns)"
   ]
  },
  {
   "cell_type": "code",
   "execution_count": 80,
   "metadata": {},
   "outputs": [],
   "source": [
    "imputer = KNNImputer(n_neighbors=5)\n",
    "dfImputed = pd.DataFrame(imputer.fit_transform(dfImputed),columns = dfImputed.columns)"
   ]
  },
  {
   "cell_type": "code",
   "execution_count": 81,
   "metadata": {
    "scrolled": true
   },
   "outputs": [
    {
     "data": {
      "text/plain": [
       "False"
      ]
     },
     "execution_count": 81,
     "metadata": {},
     "output_type": "execute_result"
    }
   ],
   "source": [
    "-1 in dfImputed.values"
   ]
  },
  {
   "cell_type": "markdown",
   "metadata": {},
   "source": [
    "Back to hyperparameter tuning. First these are fixed as initial estimates."
   ]
  },
  {
   "cell_type": "code",
   "execution_count": 82,
   "metadata": {},
   "outputs": [],
   "source": [
    "import xgboost as xgb"
   ]
  },
  {
   "cell_type": "markdown",
   "metadata": {},
   "source": [
    "This is a function which runs the fit function of the model, with cross validation as default. Early stopping rounds is after how many rounds it will stop in (prior to n_estimators) if there is no improvement in the metric."
   ]
  },
  {
   "cell_type": "code",
   "execution_count": 137,
   "metadata": {},
   "outputs": [],
   "source": [
    "def modelfit(alg, xTrain, yTrain, useTrainCV=True, cv_folds=5, early_stopping_rounds=50):\n",
    "    \n",
    "    if useTrainCV:\n",
    "        xgb_param = alg.get_xgb_params()\n",
    "        xgtrain = xgb.DMatrix(xTrain.values, label=yTrain.values, missing = -1)\n",
    "        cvresult = xgb.cv(xgb_param, xgtrain, num_boost_round=alg.get_params()['n_estimators'], nfold=cv_folds,\n",
    "            metrics='auc', early_stopping_rounds=early_stopping_rounds)\n",
    "        alg.set_params(n_estimators=cvresult.shape[0])\n",
    "        return cvresult.shape[0]\n",
    "    \n",
    "    #Fit the algorithm on the data\n",
    "    alg.fit(xTrain, yTrain)"
   ]
  },
  {
   "cell_type": "code",
   "execution_count": 138,
   "metadata": {},
   "outputs": [],
   "source": [
    "y_train=pd.DataFrame(y_train, columns=['HeartDiseaseorAttack'])\n",
    "target = ['HeartDiseaseorAttack']\n",
    "predictors = [x for x in df.columns if x not in target]\n",
    "model2 = XGBClassifier(objective = 'binary:logistic' , eval_metric='mlogloss', missing =-1,\n",
    "                       max_depth = 5, min_child_weight = 1, gamma = 0, subsample=0.8, colsample_bytree = 0.8,\n",
    "                      scale_pos_weight = 1, learning_rate =0.1,n_estimators=1000)\n",
    "\n",
    "y_pred_cv=modelfit(model2, X_train, y_train)"
   ]
  },
  {
   "cell_type": "code",
   "execution_count": 139,
   "metadata": {},
   "outputs": [
    {
     "data": {
      "text/plain": [
       "0.9314215068360322"
      ]
     },
     "execution_count": 139,
     "metadata": {},
     "output_type": "execute_result"
    }
   ],
   "source": [
    "y_pred_cv = model2.predict(X_test)\n",
    "accuracy2 = accuracy_score(y_test, y_pred_cv)\n",
    "accuracy2"
   ]
  },
  {
   "cell_type": "code",
   "execution_count": 143,
   "metadata": {},
   "outputs": [
    {
     "ename": "AttributeError",
     "evalue": "'GridSearchCV' object has no attribute 'grid_scores_'",
     "output_type": "error",
     "traceback": [
      "\u001b[1;31m---------------------------------------------------------------------------\u001b[0m",
      "\u001b[1;31mAttributeError\u001b[0m                            Traceback (most recent call last)",
      "\u001b[1;32m<ipython-input-143-9ad013a283ba>\u001b[0m in \u001b[0;36m<module>\u001b[1;34m\u001b[0m\n\u001b[0;32m      8\u001b[0m  param_grid = param_test1, scoring='roc_auc',n_jobs=4, cv=5)\n\u001b[0;32m      9\u001b[0m \u001b[0mgsearch1\u001b[0m\u001b[1;33m.\u001b[0m\u001b[0mfit\u001b[0m\u001b[1;33m(\u001b[0m\u001b[0mX_train\u001b[0m\u001b[1;33m,\u001b[0m\u001b[0my_train\u001b[0m\u001b[1;33m)\u001b[0m\u001b[1;33m\u001b[0m\u001b[1;33m\u001b[0m\u001b[0m\n\u001b[1;32m---> 10\u001b[1;33m \u001b[0mgsearch1\u001b[0m\u001b[1;33m.\u001b[0m\u001b[0mgrid_scores_\u001b[0m\u001b[1;33m,\u001b[0m \u001b[0mgsearch1\u001b[0m\u001b[1;33m.\u001b[0m\u001b[0mbest_params_\u001b[0m\u001b[1;33m,\u001b[0m \u001b[0mgsearch1\u001b[0m\u001b[1;33m.\u001b[0m\u001b[0mbest_score_\u001b[0m\u001b[1;33m\u001b[0m\u001b[1;33m\u001b[0m\u001b[0m\n\u001b[0m",
      "\u001b[1;31mAttributeError\u001b[0m: 'GridSearchCV' object has no attribute 'grid_scores_'"
     ]
    }
   ],
   "source": [
    "param_test1 = {\n",
    " 'max_depth':range(3,10,2),\n",
    " 'min_child_weight':range(1,6,2)\n",
    "}\n",
    "gsearch1 = GridSearchCV(estimator = XGBClassifier( learning_rate =0.1, n_estimators=140, max_depth=5,\n",
    " min_child_weight=1, gamma=0, subsample=0.8, colsample_bytree=0.8,\n",
    " objective= 'binary:logistic', scale_pos_weight=1, eval_metric='mlogloss', missing =-1), \n",
    " param_grid = param_test1, scoring='roc_auc',n_jobs=4, cv=5)\n",
    "gsearch1.fit(X_train,y_train)\n"
   ]
  },
  {
   "cell_type": "code",
   "execution_count": 145,
   "metadata": {},
   "outputs": [
    {
     "data": {
      "text/plain": [
       "({'mean_fit_time': array([171.96559916, 176.7707993 , 205.05735564, 365.64485641,\n",
       "         366.17819533, 330.59699531, 414.45980048, 410.84347281,\n",
       "         404.96460648, 552.86259727, 544.93788056, 513.25547657]),\n",
       "  'std_fit_time': array([ 2.30395632,  0.78865806, 22.69087672,  1.87589965,  0.80189379,\n",
       "         35.98976335,  2.68089292,  3.04108783,  0.58159558,  1.9693129 ,\n",
       "          3.5060552 , 27.80048006]),\n",
       "  'mean_score_time': array([1.31200137, 1.32380075, 1.52720237, 2.18239956, 2.24580421,\n",
       "         1.80820265, 2.57040033, 2.39339924, 2.58960223, 4.09120216,\n",
       "         3.78179913, 3.24360776]),\n",
       "  'std_score_time': array([0.13802475, 0.16530135, 0.03582232, 0.06503463, 0.19020504,\n",
       "         0.20697565, 0.11214225, 0.12668479, 0.15490054, 0.07414639,\n",
       "         0.14765465, 0.70679145]),\n",
       "  'param_max_depth': masked_array(data=[3, 3, 3, 5, 5, 5, 7, 7, 7, 9, 9, 9],\n",
       "               mask=[False, False, False, False, False, False, False, False,\n",
       "                     False, False, False, False],\n",
       "         fill_value='?',\n",
       "              dtype=object),\n",
       "  'param_min_child_weight': masked_array(data=[1, 3, 5, 1, 3, 5, 1, 3, 5, 1, 3, 5],\n",
       "               mask=[False, False, False, False, False, False, False, False,\n",
       "                     False, False, False, False],\n",
       "         fill_value='?',\n",
       "              dtype=object),\n",
       "  'params': [{'max_depth': 3, 'min_child_weight': 1},\n",
       "   {'max_depth': 3, 'min_child_weight': 3},\n",
       "   {'max_depth': 3, 'min_child_weight': 5},\n",
       "   {'max_depth': 5, 'min_child_weight': 1},\n",
       "   {'max_depth': 5, 'min_child_weight': 3},\n",
       "   {'max_depth': 5, 'min_child_weight': 5},\n",
       "   {'max_depth': 7, 'min_child_weight': 1},\n",
       "   {'max_depth': 7, 'min_child_weight': 3},\n",
       "   {'max_depth': 7, 'min_child_weight': 5},\n",
       "   {'max_depth': 9, 'min_child_weight': 1},\n",
       "   {'max_depth': 9, 'min_child_weight': 3},\n",
       "   {'max_depth': 9, 'min_child_weight': 5}],\n",
       "  'split0_test_score': array([0.85143321, 0.85145239, 0.85149141, 0.85223753, 0.85210963,\n",
       "         0.85206539, 0.85057249, 0.85088822, 0.85084434, 0.84727562,\n",
       "         0.84785035, 0.84799775]),\n",
       "  'split1_test_score': array([0.85378546, 0.85370325, 0.85383224, 0.85393008, 0.85380192,\n",
       "         0.85381458, 0.85198351, 0.85186791, 0.85220925, 0.8476909 ,\n",
       "         0.84814265, 0.84921343]),\n",
       "  'split2_test_score': array([0.85669103, 0.85668967, 0.85671408, 0.85647275, 0.85641102,\n",
       "         0.85632054, 0.85435578, 0.85427334, 0.85503551, 0.85064483,\n",
       "         0.8507383 , 0.85203031]),\n",
       "  'split3_test_score': array([0.85385611, 0.85388345, 0.85383457, 0.85394698, 0.85373803,\n",
       "         0.85381176, 0.85173634, 0.85196411, 0.85221876, 0.84781175,\n",
       "         0.84954911, 0.850014  ]),\n",
       "  'split4_test_score': array([0.85494796, 0.85496257, 0.85498628, 0.85446057, 0.8542869 ,\n",
       "         0.85469   , 0.85327221, 0.85282751, 0.85285217, 0.84921683,\n",
       "         0.8505104 , 0.85011648]),\n",
       "  'mean_test_score': array([0.85414275, 0.85413826, 0.85417172, 0.85420958, 0.8540695 ,\n",
       "         0.85414045, 0.85238407, 0.85236422, 0.85263201, 0.84852798,\n",
       "         0.84935816, 0.8498744 ]),\n",
       "  'std_test_score': array([0.00171427, 0.00171215, 0.00170529, 0.00135801, 0.00138221,\n",
       "         0.00138383, 0.00130677, 0.00113529, 0.00136898, 0.001244  ,\n",
       "         0.00118489, 0.00131793]),\n",
       "  'rank_test_score': array([ 3,  5,  2,  1,  6,  4,  8,  9,  7, 12, 11, 10])},\n",
       " {'max_depth': 5, 'min_child_weight': 1},\n",
       " 0.8542095833249684)"
      ]
     },
     "execution_count": 145,
     "metadata": {},
     "output_type": "execute_result"
    }
   ],
   "source": [
    "gsearch1.cv_results_, gsearch1.best_params_, gsearch1.best_score_"
   ]
  },
  {
   "cell_type": "code",
   "execution_count": 148,
   "metadata": {},
   "outputs": [
    {
     "data": {
      "text/plain": [
       "({'mean_fit_time': array([222.76479878, 224.3435997 , 280.73399768, 279.9967968 ,\n",
       "         344.50844383, 323.23473287]),\n",
       "  'std_fit_time': array([ 0.63124814,  0.23763555,  0.75620894,  0.89492435,  0.4251395 ,\n",
       "         25.06757955]),\n",
       "  'mean_score_time': array([1.38240461, 1.45300155, 1.61040301, 1.7124011 , 2.04400024,\n",
       "         1.80719757]),\n",
       "  'std_score_time': array([0.06753445, 0.07033749, 0.07457122, 0.0761391 , 0.05133345,\n",
       "         0.16835744]),\n",
       "  'param_max_depth': masked_array(data=[4, 4, 5, 5, 6, 6],\n",
       "               mask=[False, False, False, False, False, False],\n",
       "         fill_value='?',\n",
       "              dtype=object),\n",
       "  'param_min_child_weight': masked_array(data=[1, 2, 1, 2, 1, 2],\n",
       "               mask=[False, False, False, False, False, False],\n",
       "         fill_value='?',\n",
       "              dtype=object),\n",
       "  'params': [{'max_depth': 4, 'min_child_weight': 1},\n",
       "   {'max_depth': 4, 'min_child_weight': 2},\n",
       "   {'max_depth': 5, 'min_child_weight': 1},\n",
       "   {'max_depth': 5, 'min_child_weight': 2},\n",
       "   {'max_depth': 6, 'min_child_weight': 1},\n",
       "   {'max_depth': 6, 'min_child_weight': 2}],\n",
       "  'split0_test_score': array([0.85225905, 0.85223212, 0.85223753, 0.85206554, 0.85157153,\n",
       "         0.85197871]),\n",
       "  'split1_test_score': array([0.85394471, 0.85385216, 0.85393008, 0.85383172, 0.85269725,\n",
       "         0.85294918]),\n",
       "  'split2_test_score': array([0.85664204, 0.85667887, 0.85647275, 0.85652124, 0.85571985,\n",
       "         0.85575892]),\n",
       "  'split3_test_score': array([0.85405054, 0.85401227, 0.85394698, 0.85369962, 0.85321974,\n",
       "         0.8535515 ]),\n",
       "  'split4_test_score': array([0.85502635, 0.85503737, 0.85446057, 0.85428149, 0.85405279,\n",
       "         0.85427185]),\n",
       "  'mean_test_score': array([0.85438454, 0.85436256, 0.85420958, 0.85407992, 0.85345223,\n",
       "         0.85370203]),\n",
       "  'std_test_score': array([0.00143742, 0.00146579, 0.00135801, 0.0014328 , 0.00139024,\n",
       "         0.00127395]),\n",
       "  'rank_test_score': array([1, 2, 3, 4, 6, 5])},\n",
       " {'max_depth': 4, 'min_child_weight': 1},\n",
       " 0.8543845380295559)"
      ]
     },
     "execution_count": 148,
     "metadata": {},
     "output_type": "execute_result"
    }
   ],
   "source": [
    "param_test2 = {\n",
    " 'max_depth':[4,5,6],\n",
    " 'min_child_weight':[1,2]\n",
    "}\n",
    "gsearch2 = GridSearchCV(estimator = XGBClassifier( learning_rate =0.1, n_estimators=140, max_depth=5,\n",
    " min_child_weight=1, gamma=0, subsample=0.8, colsample_bytree=0.8,\n",
    " objective= 'binary:logistic', scale_pos_weight=1, eval_metric='mlogloss', missing =-1), \n",
    " param_grid = param_test2, scoring='roc_auc',n_jobs=4, cv=5)\n",
    "gsearch2.fit(X_train,y_train)\n",
    "gsearch2.cv_results_, gsearch2.best_params_, gsearch2.best_score_"
   ]
  },
  {
   "cell_type": "code",
   "execution_count": 151,
   "metadata": {},
   "outputs": [
    {
     "data": {
      "text/plain": [
       "({'mean_fit_time': array([221.31543913, 224.8217154 , 223.71359868, 222.08419571,\n",
       "         206.53069544]),\n",
       "  'std_fit_time': array([ 0.80626382,  1.70158384,  3.16074759,  0.43099222, 29.92874641]),\n",
       "  'mean_score_time': array([1.29059963, 1.37060075, 1.46839838, 1.44240098, 1.21699991]),\n",
       "  'std_score_time': array([0.02118843, 0.11382071, 0.02889249, 0.03263446, 0.17302694]),\n",
       "  'param_gamma': masked_array(data=[0.0, 0.1, 0.2, 0.3, 0.4],\n",
       "               mask=[False, False, False, False, False],\n",
       "         fill_value='?',\n",
       "              dtype=object),\n",
       "  'params': [{'gamma': 0.0},\n",
       "   {'gamma': 0.1},\n",
       "   {'gamma': 0.2},\n",
       "   {'gamma': 0.3},\n",
       "   {'gamma': 0.4}],\n",
       "  'split0_test_score': array([0.85225905, 0.85226397, 0.85226594, 0.85226528, 0.85226528]),\n",
       "  'split1_test_score': array([0.85394471, 0.85394471, 0.85392634, 0.85394632, 0.85394711]),\n",
       "  'split2_test_score': array([0.85664204, 0.85664204, 0.85664204, 0.85664204, 0.85657546]),\n",
       "  'split3_test_score': array([0.85405054, 0.85405087, 0.85405087, 0.85405995, 0.85406378]),\n",
       "  'split4_test_score': array([0.85502635, 0.85502635, 0.85502635, 0.85502719, 0.85502477]),\n",
       "  'mean_test_score': array([0.85438454, 0.85438559, 0.85438231, 0.85438816, 0.85437528]),\n",
       "  'std_test_score': array([0.00143742, 0.00143595, 0.00143652, 0.00143512, 0.00141387]),\n",
       "  'rank_test_score': array([3, 2, 4, 1, 5])},\n",
       " {'gamma': 0.3},\n",
       " 0.8543881561995667)"
      ]
     },
     "execution_count": 151,
     "metadata": {},
     "output_type": "execute_result"
    }
   ],
   "source": [
    "param_test3 = {\n",
    " 'gamma':[i/10.0 for i in range(0,5)]\n",
    "}\n",
    "gsearch3 = GridSearchCV(estimator = XGBClassifier( learning_rate =0.1, n_estimators=140, max_depth=4,\n",
    " min_child_weight=1, gamma=0, subsample=0.8, colsample_bytree=0.8,\n",
    " objective= 'binary:logistic', scale_pos_weight=1, eval_metric='mlogloss', missing =-1), \n",
    " param_grid = param_test3, scoring='roc_auc',n_jobs=4, cv=5)\n",
    "gsearch3.fit(X_train,y_train)\n",
    "gsearch3.cv_results_, gsearch3.best_params_, gsearch3.best_score_"
   ]
  },
  {
   "cell_type": "markdown",
   "metadata": {},
   "source": [
    "Can check around gamma further.\n",
    "\n",
    "For now re-calibrate the number of boosting rounds for the updated parameters."
   ]
  },
  {
   "cell_type": "code",
   "execution_count": 152,
   "metadata": {},
   "outputs": [],
   "source": [
    "\n",
    "model3 = XGBClassifier(objective = 'binary:logistic' , eval_metric='mlogloss', missing =-1,\n",
    "                       max_depth = 4, min_child_weight = 1, gamma = 0.3, subsample=0.8, colsample_bytree = 0.8,\n",
    "                      scale_pos_weight = 1, learning_rate =0.1,n_estimators=1000)\n",
    "\n",
    "y_pred_cv2=modelfit(model3, X_train, y_train)"
   ]
  },
  {
   "cell_type": "code",
   "execution_count": 154,
   "metadata": {},
   "outputs": [
    {
     "data": {
      "text/plain": [
       "0.9314699893338505"
      ]
     },
     "execution_count": 154,
     "metadata": {},
     "output_type": "execute_result"
    }
   ],
   "source": [
    "y_pred_cv2 = model3.predict(X_test)\n",
    "accuracy3 = accuracy_score(y_test, y_pred_cv2)\n",
    "accuracy3"
   ]
  },
  {
   "cell_type": "markdown",
   "metadata": {},
   "source": [
    "Now back to hyperparameter tuning."
   ]
  },
  {
   "cell_type": "markdown",
   "metadata": {},
   "source": [
    "I forgot to update the number of boosting rounds so I'll do that now. Actually I need to go back and do that from the beginning as I accidentally used the example value of 140."
   ]
  },
  {
   "cell_type": "code",
   "execution_count": 155,
   "metadata": {},
   "outputs": [
    {
     "data": {
      "text/plain": [
       "163"
      ]
     },
     "execution_count": 155,
     "metadata": {},
     "output_type": "execute_result"
    }
   ],
   "source": [
    "model3.n_estimators"
   ]
  },
  {
   "cell_type": "code",
   "execution_count": 157,
   "metadata": {},
   "outputs": [
    {
     "data": {
      "text/plain": [
       "({'mean_fit_time': array([267.44295697, 268.77826676, 264.60900617, 293.92510467,\n",
       "         280.81679902, 297.97619858, 294.78219976, 263.03331928,\n",
       "         370.75742569, 280.90227127, 270.82466779, 343.08237929,\n",
       "         388.55828428, 410.08711023, 359.95804887, 319.90287948]),\n",
       "  'std_fit_time': array([ 4.70242642,  6.21660813,  3.80353569, 19.21977326,  4.2254716 ,\n",
       "         39.15489454, 35.56551395,  3.51846277, 38.89604986,  1.86227926,\n",
       "          0.7652527 , 39.83191339, 14.42217516,  6.33587911, 40.1493318 ,\n",
       "          0.86006698]),\n",
       "  'mean_score_time': array([1.80160232, 2.08280044, 1.92560062, 1.7038003 , 1.68820057,\n",
       "         2.01700068, 1.67119956, 2.29780016, 2.04861174, 1.6008028 ,\n",
       "         1.64380288, 1.76920156, 2.9109921 , 1.82660155, 1.58901477,\n",
       "         1.60759101]),\n",
       "  'std_score_time': array([0.10030266, 0.07267446, 0.0240525 , 0.13756106, 0.12661105,\n",
       "         0.11833336, 0.03853684, 0.37853156, 0.34825314, 0.06871226,\n",
       "         0.12393259, 0.09419268, 0.83124458, 0.16632461, 0.04541777,\n",
       "         0.15674022]),\n",
       "  'param_colsample_bytree': masked_array(data=[0.6, 0.6, 0.6, 0.6, 0.7, 0.7, 0.7, 0.7, 0.8, 0.8, 0.8,\n",
       "                     0.8, 0.9, 0.9, 0.9, 0.9],\n",
       "               mask=[False, False, False, False, False, False, False, False,\n",
       "                     False, False, False, False, False, False, False, False],\n",
       "         fill_value='?',\n",
       "              dtype=object),\n",
       "  'param_subsample': masked_array(data=[0.6, 0.7, 0.8, 0.9, 0.6, 0.7, 0.8, 0.9, 0.6, 0.7, 0.8,\n",
       "                     0.9, 0.6, 0.7, 0.8, 0.9],\n",
       "               mask=[False, False, False, False, False, False, False, False,\n",
       "                     False, False, False, False, False, False, False, False],\n",
       "         fill_value='?',\n",
       "              dtype=object),\n",
       "  'params': [{'colsample_bytree': 0.6, 'subsample': 0.6},\n",
       "   {'colsample_bytree': 0.6, 'subsample': 0.7},\n",
       "   {'colsample_bytree': 0.6, 'subsample': 0.8},\n",
       "   {'colsample_bytree': 0.6, 'subsample': 0.9},\n",
       "   {'colsample_bytree': 0.7, 'subsample': 0.6},\n",
       "   {'colsample_bytree': 0.7, 'subsample': 0.7},\n",
       "   {'colsample_bytree': 0.7, 'subsample': 0.8},\n",
       "   {'colsample_bytree': 0.7, 'subsample': 0.9},\n",
       "   {'colsample_bytree': 0.8, 'subsample': 0.6},\n",
       "   {'colsample_bytree': 0.8, 'subsample': 0.7},\n",
       "   {'colsample_bytree': 0.8, 'subsample': 0.8},\n",
       "   {'colsample_bytree': 0.8, 'subsample': 0.9},\n",
       "   {'colsample_bytree': 0.9, 'subsample': 0.6},\n",
       "   {'colsample_bytree': 0.9, 'subsample': 0.7},\n",
       "   {'colsample_bytree': 0.9, 'subsample': 0.8},\n",
       "   {'colsample_bytree': 0.9, 'subsample': 0.9}],\n",
       "  'split0_test_score': array([0.85246232, 0.85222804, 0.85249174, 0.85212409, 0.85223127,\n",
       "         0.85226991, 0.8522311 , 0.85240916, 0.85240037, 0.85224702,\n",
       "         0.85237748, 0.85219064, 0.85227106, 0.85223638, 0.85219253,\n",
       "         0.85210634]),\n",
       "  'split1_test_score': array([0.85401074, 0.8542516 , 0.85412596, 0.85407879, 0.85392655,\n",
       "         0.85390123, 0.85402652, 0.85394519, 0.85363509, 0.85380107,\n",
       "         0.85395209, 0.854241  , 0.85384453, 0.85360546, 0.8537774 ,\n",
       "         0.85374533]),\n",
       "  'split2_test_score': array([0.85655   , 0.85675022, 0.85678138, 0.85666324, 0.85656165,\n",
       "         0.85666523, 0.85658485, 0.85667321, 0.85651517, 0.85656338,\n",
       "         0.85663407, 0.85665516, 0.85651177, 0.85656716, 0.85654514,\n",
       "         0.85650053]),\n",
       "  'split3_test_score': array([0.85407737, 0.85434276, 0.85446387, 0.85438525, 0.85432724,\n",
       "         0.85431731, 0.85423563, 0.85431847, 0.85398641, 0.85412937,\n",
       "         0.85396707, 0.85426408, 0.85401129, 0.85378563, 0.85374572,\n",
       "         0.85404224]),\n",
       "  'split4_test_score': array([0.85511329, 0.85476336, 0.85489941, 0.85495754, 0.85494073,\n",
       "         0.85503169, 0.85468209, 0.85484933, 0.85483163, 0.8548722 ,\n",
       "         0.85502876, 0.85509083, 0.8550536 , 0.85487329, 0.85515417,\n",
       "         0.85500402]),\n",
       "  'mean_test_score': array([0.85444274, 0.85446719, 0.85455247, 0.85444178, 0.85439749,\n",
       "         0.85443707, 0.85435204, 0.85443907, 0.85427373, 0.85432261,\n",
       "         0.85439189, 0.85448834, 0.85433845, 0.85421358, 0.85428299,\n",
       "         0.85427969]),\n",
       "  'std_test_score': array([0.00135147, 0.00144054, 0.0013802 , 0.00146339, 0.00140698,\n",
       "         0.00143641, 0.00139372, 0.00138121, 0.0013664 , 0.00141   ,\n",
       "         0.00140462, 0.00144561, 0.00140427, 0.00144477, 0.00146905,\n",
       "         0.00145067]),\n",
       "  'rank_test_score': array([ 4,  3,  1,  5,  8,  7, 10,  6, 15, 12,  9,  2, 11, 16, 13, 14])},\n",
       " {'colsample_bytree': 0.6, 'subsample': 0.8},\n",
       " 0.8545524702799829)"
      ]
     },
     "execution_count": 157,
     "metadata": {},
     "output_type": "execute_result"
    }
   ],
   "source": [
    "param_test4 = {\n",
    " 'subsample':[i/10.0 for i in range(6,10)],\n",
    " 'colsample_bytree':[i/10.0 for i in range(6,10)]\n",
    "}\n",
    "gsearch4 = GridSearchCV(estimator = XGBClassifier( learning_rate =0.1, n_estimators=163, max_depth=4,\n",
    " min_child_weight=1, gamma=0.3, subsample=0.8, colsample_bytree=0.8,\n",
    " objective= 'binary:logistic', scale_pos_weight=1, eval_metric='mlogloss', missing =-1), \n",
    " param_grid = param_test4, scoring='roc_auc',n_jobs=4, cv=5)\n",
    "gsearch4.fit(X_train,y_train)\n",
    "gsearch4.cv_results_, gsearch4.best_params_, gsearch4.best_score_"
   ]
  },
  {
   "cell_type": "code",
   "execution_count": 158,
   "metadata": {},
   "outputs": [
    {
     "data": {
      "text/plain": [
       "({'mean_fit_time': array([283.2832592 , 274.95429616, 273.36449857, 288.6879487 ,\n",
       "         276.53242235, 273.60679817, 296.01868305, 292.71354504,\n",
       "         261.91419463]),\n",
       "  'std_fit_time': array([ 2.52989188,  0.98094958,  2.08660599,  4.98087768,  0.39015884,\n",
       "          0.58428104,  1.26456512,  1.05805703, 43.30381795]),\n",
       "  'mean_score_time': array([2.02840004, 1.92340159, 2.04579983, 1.99520016, 2.00200152,\n",
       "         2.03181944, 2.06560302, 2.03500109, 1.63442116]),\n",
       "  'std_score_time': array([0.10779609, 0.06296695, 0.05968498, 0.05311081, 0.1156605 ,\n",
       "         0.03249188, 0.08858722, 0.06117179, 0.34295618]),\n",
       "  'param_colsample_bytree': masked_array(data=[0.55, 0.55, 0.55, 0.6, 0.6, 0.6, 0.65, 0.65, 0.65],\n",
       "               mask=[False, False, False, False, False, False, False, False,\n",
       "                     False],\n",
       "         fill_value='?',\n",
       "              dtype=object),\n",
       "  'param_subsample': masked_array(data=[0.75, 0.8, 0.85, 0.75, 0.8, 0.85, 0.75, 0.8, 0.85],\n",
       "               mask=[False, False, False, False, False, False, False, False,\n",
       "                     False],\n",
       "         fill_value='?',\n",
       "              dtype=object),\n",
       "  'params': [{'colsample_bytree': 0.55, 'subsample': 0.75},\n",
       "   {'colsample_bytree': 0.55, 'subsample': 0.8},\n",
       "   {'colsample_bytree': 0.55, 'subsample': 0.85},\n",
       "   {'colsample_bytree': 0.6, 'subsample': 0.75},\n",
       "   {'colsample_bytree': 0.6, 'subsample': 0.8},\n",
       "   {'colsample_bytree': 0.6, 'subsample': 0.85},\n",
       "   {'colsample_bytree': 0.65, 'subsample': 0.75},\n",
       "   {'colsample_bytree': 0.65, 'subsample': 0.8},\n",
       "   {'colsample_bytree': 0.65, 'subsample': 0.85}],\n",
       "  'split0_test_score': array([0.85182859, 0.8523357 , 0.85242934, 0.85230346, 0.85249174,\n",
       "         0.85246056, 0.85226047, 0.85225009, 0.85222825]),\n",
       "  'split1_test_score': array([0.85417264, 0.8541306 , 0.85408647, 0.85394135, 0.85412596,\n",
       "         0.85423178, 0.85400717, 0.85387239, 0.85399185]),\n",
       "  'split2_test_score': array([0.85673397, 0.85692584, 0.85656149, 0.85680674, 0.85678138,\n",
       "         0.85651712, 0.85685009, 0.85660443, 0.85652861]),\n",
       "  'split3_test_score': array([0.85436964, 0.85425054, 0.85443142, 0.8544433 , 0.85446387,\n",
       "         0.85450391, 0.85430549, 0.85409773, 0.85445984]),\n",
       "  'split4_test_score': array([0.85504293, 0.85506398, 0.85514785, 0.85512469, 0.85489941,\n",
       "         0.85513025, 0.85502629, 0.8545897 , 0.85505681]),\n",
       "  'mean_test_score': array([0.85442955, 0.85454133, 0.85453131, 0.85452391, 0.85455247,\n",
       "         0.85456872, 0.8544899 , 0.85428287, 0.85445307]),\n",
       "  'std_test_score': array([0.00158248, 0.00148843, 0.00135114, 0.00147299, 0.0013802 ,\n",
       "         0.00131709, 0.00148967, 0.00140134, 0.0014025 ]),\n",
       "  'rank_test_score': array([8, 3, 4, 5, 2, 1, 6, 9, 7])},\n",
       " {'colsample_bytree': 0.6, 'subsample': 0.85},\n",
       " 0.8545687238003856)"
      ]
     },
     "execution_count": 158,
     "metadata": {},
     "output_type": "execute_result"
    }
   ],
   "source": [
    "param_test5 = {\n",
    " 'subsample':[i/100.0 for i in range(75,90,5)],\n",
    " 'colsample_bytree':[i/100.0 for i in range(55,70,5)]\n",
    "}\n",
    "gsearch5 = GridSearchCV(estimator = XGBClassifier( learning_rate =0.1, n_estimators=163, max_depth=4,\n",
    " min_child_weight=1, gamma=0.3, subsample=0.8, colsample_bytree=0.8,\n",
    " objective= 'binary:logistic', scale_pos_weight=1, eval_metric='mlogloss', missing =-1), \n",
    " param_grid = param_test5, scoring='roc_auc',n_jobs=4, cv=5)\n",
    "gsearch5.fit(X_train,y_train)\n",
    "gsearch5.cv_results_, gsearch5.best_params_, gsearch5.best_score_"
   ]
  },
  {
   "cell_type": "code",
   "execution_count": 159,
   "metadata": {},
   "outputs": [
    {
     "data": {
      "text/plain": [
       "({'mean_fit_time': array([303.99750929, 305.0350913 , 305.85978417, 307.520996  ,\n",
       "         276.98723812]),\n",
       "  'std_fit_time': array([ 0.76607632,  0.98435763,  0.37190454,  1.06287872, 38.90619936]),\n",
       "  'mean_score_time': array([1.49219985, 1.65140595, 1.68939924, 1.52160163, 1.54959583]),\n",
       "  'std_score_time': array([0.13189109, 0.20670392, 0.07417847, 0.07129438, 0.15582953]),\n",
       "  'param_reg_alpha': masked_array(data=[1e-05, 0.01, 0.1, 1, 100],\n",
       "               mask=[False, False, False, False, False],\n",
       "         fill_value='?',\n",
       "              dtype=object),\n",
       "  'params': [{'reg_alpha': 1e-05},\n",
       "   {'reg_alpha': 0.01},\n",
       "   {'reg_alpha': 0.1},\n",
       "   {'reg_alpha': 1},\n",
       "   {'reg_alpha': 100}],\n",
       "  'split0_test_score': array([0.8522069 , 0.85221119, 0.85253167, 0.85215827, 0.85114217]),\n",
       "  'split1_test_score': array([0.85365485, 0.85357704, 0.85372825, 0.85378297, 0.85318407]),\n",
       "  'split2_test_score': array([0.85661169, 0.8565587 , 0.85662702, 0.85688781, 0.85560142]),\n",
       "  'split3_test_score': array([0.85398148, 0.85409157, 0.85429991, 0.85420761, 0.85347222]),\n",
       "  'split4_test_score': array([0.85481235, 0.85481731, 0.85494322, 0.85482019, 0.85422067]),\n",
       "  'mean_test_score': array([0.85425345, 0.85425116, 0.85442602, 0.85437137, 0.85352411]),\n",
       "  'std_test_score': array([0.00144875, 0.00143434, 0.00135671, 0.00153654, 0.0014555 ]),\n",
       "  'rank_test_score': array([3, 4, 1, 2, 5])},\n",
       " {'reg_alpha': 0.1},\n",
       " 0.8544260161396606)"
      ]
     },
     "execution_count": 159,
     "metadata": {},
     "output_type": "execute_result"
    }
   ],
   "source": [
    "param_test6 = {\n",
    " 'reg_alpha':[1e-5, 1e-2, 0.1, 1, 100]\n",
    "}\n",
    "gsearch6 = GridSearchCV(estimator = XGBClassifier(learning_rate =0.1, n_estimators=163, max_depth=4,\n",
    " min_child_weight=1, gamma=0.3, subsample=0.6, colsample_bytree=0.85,\n",
    " objective= 'binary:logistic', scale_pos_weight=1, eval_metric='mlogloss', missing =-1), \n",
    " param_grid = param_test6, scoring='roc_auc',n_jobs=4, cv=5)\n",
    "gsearch6.fit(X_train,y_train)\n",
    "gsearch6.cv_results_, gsearch6.best_params_, gsearch6.best_score_"
   ]
  },
  {
   "cell_type": "code",
   "execution_count": 160,
   "metadata": {},
   "outputs": [
    {
     "data": {
      "text/plain": [
       "({'mean_fit_time': array([296.14467616, 307.816998  , 307.78576841, 296.60370197]),\n",
       "  'std_fit_time': array([3.67331462, 3.64963895, 3.73900612, 4.26740986]),\n",
       "  'mean_score_time': array([1.8041995 , 1.57180414, 1.5379992 , 1.52615952]),\n",
       "  'std_score_time': array([0.04626216, 0.04433817, 0.07900562, 0.1312274 ]),\n",
       "  'param_reg_alpha': masked_array(data=[0.05, 0.1, 0.25, 0.5],\n",
       "               mask=[False, False, False, False],\n",
       "         fill_value='?',\n",
       "              dtype=object),\n",
       "  'params': [{'reg_alpha': 0.05},\n",
       "   {'reg_alpha': 0.1},\n",
       "   {'reg_alpha': 0.25},\n",
       "   {'reg_alpha': 0.5}],\n",
       "  'split0_test_score': array([0.85236514, 0.85253167, 0.85232232, 0.85223169]),\n",
       "  'split1_test_score': array([0.85365346, 0.85372825, 0.85359855, 0.85385731]),\n",
       "  'split2_test_score': array([0.85639159, 0.85662702, 0.85641383, 0.85651334]),\n",
       "  'split3_test_score': array([0.85408132, 0.85429991, 0.85418498, 0.85417816]),\n",
       "  'split4_test_score': array([0.85504622, 0.85494322, 0.85476241, 0.85493044]),\n",
       "  'mean_test_score': array([0.85430755, 0.85442602, 0.85425642, 0.85434219]),\n",
       "  'std_test_score': array([0.0013521 , 0.00135671, 0.00134826, 0.0013983 ]),\n",
       "  'rank_test_score': array([3, 1, 4, 2])},\n",
       " {'reg_alpha': 0.1},\n",
       " 0.8544260161396606)"
      ]
     },
     "execution_count": 160,
     "metadata": {},
     "output_type": "execute_result"
    }
   ],
   "source": [
    "param_test7 = {\n",
    " 'reg_alpha':[0.05, 0.1, 0.25, 0.5]\n",
    "}\n",
    "gsearch7 = GridSearchCV(estimator = XGBClassifier(learning_rate =0.1, n_estimators=163, max_depth=4,\n",
    " min_child_weight=1, gamma=0.3, subsample=0.6, colsample_bytree=0.85,\n",
    " objective= 'binary:logistic', scale_pos_weight=1, eval_metric='mlogloss', missing =-1), \n",
    " param_grid = param_test7, scoring='roc_auc',n_jobs=4, cv=5)\n",
    "gsearch7.fit(X_train,y_train)\n",
    "gsearch7.cv_results_, gsearch6.best_params_, gsearch6.best_score_"
   ]
  },
  {
   "cell_type": "markdown",
   "metadata": {},
   "source": [
    "cv score is not improved so won't apply this regularisation."
   ]
  },
  {
   "cell_type": "code",
   "execution_count": 162,
   "metadata": {},
   "outputs": [
    {
     "data": {
      "text/plain": [
       "({'mean_fit_time': array([296.46684299, 305.14397392, 304.71232429, 301.47249355,\n",
       "         275.15270381]),\n",
       "  'std_fit_time': array([ 4.56687076,  0.67161815,  0.57745083,  1.92502487, 43.19985229]),\n",
       "  'mean_score_time': array([1.74840136, 1.40160141, 1.53041849, 1.50040064, 1.4268012 ]),\n",
       "  'std_score_time': array([0.14965507, 0.0394006 , 0.11461286, 0.07575444, 0.18820062]),\n",
       "  'param_reg_lambda': masked_array(data=[1e-05, 0.01, 0.1, 1, 100],\n",
       "               mask=[False, False, False, False, False],\n",
       "         fill_value='?',\n",
       "              dtype=object),\n",
       "  'params': [{'reg_lambda': 1e-05},\n",
       "   {'reg_lambda': 0.01},\n",
       "   {'reg_lambda': 0.1},\n",
       "   {'reg_lambda': 1},\n",
       "   {'reg_lambda': 100}],\n",
       "  'split0_test_score': array([0.85223071, 0.8522208 , 0.85222462, 0.85220689, 0.8527499 ]),\n",
       "  'split1_test_score': array([0.85340666, 0.85333641, 0.853693  , 0.85365484, 0.8538245 ]),\n",
       "  'split2_test_score': array([0.85622791, 0.8563863 , 0.85629033, 0.85661168, 0.85690867]),\n",
       "  'split3_test_score': array([0.85380249, 0.85396885, 0.85394981, 0.85398148, 0.8542743 ]),\n",
       "  'split4_test_score': array([0.85476865, 0.85506056, 0.85503596, 0.85481237, 0.8551354 ]),\n",
       "  'mean_test_score': array([0.85408728, 0.85419458, 0.85423874, 0.85425345, 0.85457856]),\n",
       "  'std_test_score': array([0.00134445, 0.00143086, 0.00136254, 0.00144875, 0.00139604]),\n",
       "  'rank_test_score': array([5, 4, 3, 2, 1])},\n",
       " {'reg_lambda': 100},\n",
       " 0.8545785557419869)"
      ]
     },
     "execution_count": 162,
     "metadata": {},
     "output_type": "execute_result"
    }
   ],
   "source": [
    "param_test8 = {\n",
    " 'reg_lambda':[1e-5, 1e-2, 0.1, 1, 100]\n",
    "}\n",
    "gsearch8 = GridSearchCV(estimator = XGBClassifier(learning_rate =0.1, n_estimators=163, max_depth=4,\n",
    " min_child_weight=1, gamma=0.3, subsample=0.6, colsample_bytree=0.85,\n",
    " objective= 'binary:logistic', scale_pos_weight=1, eval_metric='mlogloss', missing =-1), \n",
    " param_grid = param_test8, scoring='roc_auc',n_jobs=4, cv=5)\n",
    "gsearch8.fit(X_train,y_train)\n",
    "gsearch8.cv_results_, gsearch8.best_params_, gsearch8.best_score_"
   ]
  },
  {
   "cell_type": "code",
   "execution_count": 163,
   "metadata": {},
   "outputs": [
    {
     "data": {
      "text/plain": [
       "({'mean_fit_time': array([334.64059935, 333.38664098, 310.80044074, 338.40381627,\n",
       "         346.05817442]),\n",
       "  'std_fit_time': array([ 5.7603045 , 17.44809943,  1.75579329, 14.98391282, 61.43274646]),\n",
       "  'mean_score_time': array([1.74499946, 1.65340118, 1.61101761, 2.1367847 , 1.83780074]),\n",
       "  'std_score_time': array([0.10550585, 0.09675661, 0.08139927, 0.33521006, 0.42111002]),\n",
       "  'param_reg_lambda': masked_array(data=[50, 75, 100, 200, 500],\n",
       "               mask=[False, False, False, False, False],\n",
       "         fill_value='?',\n",
       "              dtype=object),\n",
       "  'params': [{'reg_lambda': 50},\n",
       "   {'reg_lambda': 75},\n",
       "   {'reg_lambda': 100},\n",
       "   {'reg_lambda': 200},\n",
       "   {'reg_lambda': 500}],\n",
       "  'split0_test_score': array([0.85264395, 0.85271531, 0.8527499 , 0.85252486, 0.85215029]),\n",
       "  'split1_test_score': array([0.85383905, 0.85387203, 0.8538245 , 0.85370785, 0.85383717]),\n",
       "  'split2_test_score': array([0.85693324, 0.85684688, 0.85690867, 0.85686939, 0.85646294]),\n",
       "  'split3_test_score': array([0.85416112, 0.85420065, 0.8542743 , 0.85403796, 0.85373752]),\n",
       "  'split4_test_score': array([0.85530562, 0.85487248, 0.8551354 , 0.85522373, 0.85496986]),\n",
       "  'mean_test_score': array([0.8545766 , 0.85450147, 0.85457856, 0.85447276, 0.85423155]),\n",
       "  'std_test_score': array([0.00145169, 0.00136497, 0.00139604, 0.00147487, 0.00143216]),\n",
       "  'rank_test_score': array([2, 3, 1, 4, 5])},\n",
       " {'reg_lambda': 100},\n",
       " 0.8545785557419869)"
      ]
     },
     "execution_count": 163,
     "metadata": {},
     "output_type": "execute_result"
    }
   ],
   "source": [
    "param_test9 = {\n",
    " 'reg_lambda':[50, 75, 100, 200, 500]\n",
    "}\n",
    "gsearch9 = GridSearchCV(estimator = XGBClassifier(learning_rate =0.1, n_estimators=163, max_depth=4,\n",
    " min_child_weight=1, gamma=0.3, subsample=0.6, colsample_bytree=0.85,\n",
    " objective= 'binary:logistic', scale_pos_weight=1, eval_metric='mlogloss', missing =-1), \n",
    " param_grid = param_test9, scoring='roc_auc',n_jobs=4, cv=5)\n",
    "gsearch9.fit(X_train,y_train)\n",
    "gsearch9.cv_results_, gsearch9.best_params_, gsearch9.best_score_"
   ]
  },
  {
   "cell_type": "code",
   "execution_count": 164,
   "metadata": {},
   "outputs": [],
   "source": [
    "\n",
    "model4 = XGBClassifier(objective = 'binary:logistic' , eval_metric='mlogloss', missing =-1,\n",
    "                       max_depth = 4, min_child_weight = 1, gamma = 0.3, subsample=0.6, colsample_bytree = 0.85,\n",
    "                      scale_pos_weight = 1, learning_rate =0.1,n_estimators=1000,reg_lambda=100)\n",
    "\n",
    "modelfit(model4, X_train, y_train)"
   ]
  },
  {
   "cell_type": "code",
   "execution_count": 165,
   "metadata": {},
   "outputs": [
    {
     "data": {
      "text/plain": [
       "0.9310821293513042"
      ]
     },
     "execution_count": 165,
     "metadata": {},
     "output_type": "execute_result"
    }
   ],
   "source": [
    "y_pred_cv3 = model4.predict(X_test)\n",
    "accuracy4 = accuracy_score(y_test, y_pred_cv3)\n",
    "accuracy4"
   ]
  },
  {
   "cell_type": "markdown",
   "metadata": {},
   "source": [
    "This has actually gone down, so I went back and looked at the cv results and thought some of them might be unstable: for example it ranked reg_lambda as best to worst: 100, 50, 75, 200, 500, but it would be expected that if 100 was optimal, then 75 would  be better than 50. So I'll try it again with a larger cv parameter."
   ]
  },
  {
   "cell_type": "code",
   "execution_count": 167,
   "metadata": {},
   "outputs": [
    {
     "data": {
      "text/plain": [
       "({'mean_fit_time': array([370.0268841 , 371.31485567, 379.39587789, 356.75380404,\n",
       "         383.55498695, 351.08532212]),\n",
       "  'std_fit_time': array([13.8010052 ,  8.6086745 , 12.54499193,  7.5386101 , 10.01126055,\n",
       "         24.9056615 ]),\n",
       "  'mean_score_time': array([0.84720259, 0.87450004, 0.85880198, 0.87770402, 0.90560143,\n",
       "         0.7490948 ]),\n",
       "  'std_score_time': array([0.04038072, 0.0517654 , 0.06597924, 0.08728727, 0.11606882,\n",
       "         0.08665607]),\n",
       "  'param_reg_lambda': masked_array(data=[50, 62.5, 75, 100, 112.5, 125],\n",
       "               mask=[False, False, False, False, False, False],\n",
       "         fill_value='?',\n",
       "              dtype=object),\n",
       "  'params': [{'reg_lambda': 50},\n",
       "   {'reg_lambda': 62.5},\n",
       "   {'reg_lambda': 75},\n",
       "   {'reg_lambda': 100},\n",
       "   {'reg_lambda': 112.5},\n",
       "   {'reg_lambda': 125}],\n",
       "  'split0_test_score': array([0.85354393, 0.85375084, 0.85376652, 0.85372553, 0.85364564,\n",
       "         0.85376181]),\n",
       "  'split1_test_score': array([0.85139395, 0.85138198, 0.85154676, 0.85150811, 0.8511154 ,\n",
       "         0.85140129]),\n",
       "  'split2_test_score': array([0.85369346, 0.85367597, 0.8534656 , 0.85329186, 0.85333906,\n",
       "         0.8532475 ]),\n",
       "  'split3_test_score': array([0.85448766, 0.854618  , 0.85426443, 0.85434514, 0.85441247,\n",
       "         0.85429814]),\n",
       "  'split4_test_score': array([0.85778351, 0.85817788, 0.85806666, 0.85801614, 0.85795237,\n",
       "         0.85813499]),\n",
       "  'split5_test_score': array([0.85527591, 0.85533666, 0.85532714, 0.85540074, 0.85527023,\n",
       "         0.85554419]),\n",
       "  'split6_test_score': array([0.85634109, 0.85629596, 0.85630136, 0.85617692, 0.85616232,\n",
       "         0.85612427]),\n",
       "  'split7_test_score': array([0.85208912, 0.85168532, 0.85196032, 0.85223441, 0.85206003,\n",
       "         0.85193354]),\n",
       "  'split8_test_score': array([0.85305782, 0.85309324, 0.85335233, 0.85334618, 0.85341965,\n",
       "         0.85317683]),\n",
       "  'split9_test_score': array([0.85736902, 0.85737283, 0.85744659, 0.85719874, 0.85709576,\n",
       "         0.85712516]),\n",
       "  'mean_test_score': array([0.85450355, 0.85453887, 0.85454977, 0.85452438, 0.85444729,\n",
       "         0.85447477]),\n",
       "  'std_test_score': array([0.00205204, 0.00215796, 0.00208471, 0.00201898, 0.00206512,\n",
       "         0.00209573]),\n",
       "  'rank_test_score': array([4, 2, 1, 3, 6, 5])},\n",
       " {'reg_lambda': 75},\n",
       " 0.8545497725329504)"
      ]
     },
     "execution_count": 167,
     "metadata": {},
     "output_type": "execute_result"
    }
   ],
   "source": [
    "param_test10 = {\n",
    " 'reg_lambda':[50, 62.5, 75, 100, 112.5, 125]\n",
    "}\n",
    "gsearch10 = GridSearchCV(estimator = XGBClassifier(learning_rate =0.1, n_estimators=163, max_depth=4,\n",
    " min_child_weight=1, gamma=0.3, subsample=0.6, colsample_bytree=0.85,\n",
    " objective= 'binary:logistic', scale_pos_weight=1, eval_metric='mlogloss', missing =-1), \n",
    " param_grid = param_test10, scoring='roc_auc',n_jobs=4, cv=10)\n",
    "gsearch10.fit(X_train,y_train)\n",
    "gsearch10.cv_results_, gsearch10.best_params_, gsearch10.best_score_"
   ]
  },
  {
   "cell_type": "markdown",
   "metadata": {},
   "source": [
    "So this has given a lower cross validation score than before we adjusted reg_lambda at all. I will take these inconclusive results to mean that changing this parameter does not have an effect really and leave it as the default."
   ]
  },
  {
   "cell_type": "code",
   "execution_count": 168,
   "metadata": {},
   "outputs": [],
   "source": [
    "model5 = XGBClassifier(objective = 'binary:logistic' , eval_metric='mlogloss', missing =-1,\n",
    "                       max_depth = 4, min_child_weight = 1, gamma = 0.3, subsample=0.6, colsample_bytree = 0.85,\n",
    "                      scale_pos_weight = 1, learning_rate =0.1,n_estimators=1000)\n",
    "\n",
    "modelfit(model5, X_train, y_train)"
   ]
  },
  {
   "cell_type": "code",
   "execution_count": 169,
   "metadata": {},
   "outputs": [
    {
     "data": {
      "text/plain": [
       "0.9313245418403956"
      ]
     },
     "execution_count": 169,
     "metadata": {},
     "output_type": "execute_result"
    }
   ],
   "source": [
    "y_pred_cv4 = model5.predict(X_test)\n",
    "accuracy5 = accuracy_score(y_test, y_pred_cv4)\n",
    "accuracy5"
   ]
  },
  {
   "cell_type": "markdown",
   "metadata": {},
   "source": [
    "It seems that this has gone down also. Looking back to where it has gone down from, this was before the tuning of subsample and colsample_bytree. Studying the results of the cross validation there, it does seem that the results are very unstable. So we will revert to the default and assume it has negligible impact."
   ]
  },
  {
   "cell_type": "markdown",
   "metadata": {},
   "source": [
    "Finally we can reduce the learning rate to 0.01. Increase n_estimators to 5000 as it will take many more trees to reach the same level of accuracy."
   ]
  },
  {
   "cell_type": "code",
   "execution_count": 179,
   "metadata": {},
   "outputs": [],
   "source": [
    "model6 = XGBClassifier(objective = 'binary:logistic' , eval_metric='mlogloss', missing =-1,\n",
    "                       max_depth = 4, min_child_weight = 1, gamma = 0.3, subsample=0.8, colsample_bytree = 0.8,\n",
    "                      scale_pos_weight = 1, learning_rate =0.01,n_estimators=5000)\n",
    "modelfit(model6, X_train, y_train)\n",
    "#print(cvResults)"
   ]
  },
  {
   "cell_type": "code",
   "execution_count": 180,
   "metadata": {},
   "outputs": [
    {
     "data": {
      "text/plain": [
       "0.9314699893338505"
      ]
     },
     "execution_count": 180,
     "metadata": {},
     "output_type": "execute_result"
    }
   ],
   "source": [
    "y_pred_cv5 = model6.predict(X_test)\n",
    "accuracy5 = accuracy_score(y_test, y_pred_cv5)\n",
    "accuracy5\n"
   ]
  },
  {
   "cell_type": "code",
   "execution_count": 182,
   "metadata": {},
   "outputs": [
    {
     "data": {
      "text/plain": [
       "1737"
      ]
     },
     "execution_count": 182,
     "metadata": {},
     "output_type": "execute_result"
    }
   ],
   "source": [
    "model6.n_estimators"
   ]
  },
  {
   "cell_type": "markdown",
   "metadata": {},
   "source": [
    "So this is the exact same accuaracy as before, and the n_estimators is about 10x larger. We can probably take that to mean that the learning rate of 0.1 was not causing overfitting and is fine to use."
   ]
  },
  {
   "cell_type": "markdown",
   "metadata": {},
   "source": [
    "Get the outputs to be probabilities."
   ]
  },
  {
   "cell_type": "code",
   "execution_count": 40,
   "metadata": {},
   "outputs": [
    {
     "data": {
      "text/plain": [
       "array([0.00721703, 0.00404171, 0.00091507, 0.00444278, 0.00090463,\n",
       "       0.04995826, 0.0212238 , 0.03283969, 0.00693654, 0.12696229,\n",
       "       0.04354052, 0.2327221 , 0.4171732 , 0.01003352, 0.02107565,\n",
       "       0.011341  , 0.01071794, 0.0189147 , 0.00084551, 0.12491187,\n",
       "       0.08633393, 0.2069896 , 0.6004049 , 0.01988385, 0.23639268,\n",
       "       0.00541393, 0.00123228, 0.00297707, 0.00380701, 0.00197374],\n",
       "      dtype=float32)"
      ]
     },
     "execution_count": 40,
     "metadata": {},
     "output_type": "execute_result"
    }
   ],
   "source": [
    "y_pred_probs = model2.predict_proba(X_test)[:,1]\n",
    "y_pred_probs[10:40]"
   ]
  },
  {
   "cell_type": "code",
   "execution_count": 41,
   "metadata": {},
   "outputs": [
    {
     "data": {
      "text/plain": [
       "array([0, 0, 0, 0, 0, 0, 0, 0, 0, 0, 0, 0, 0, 0, 0, 0, 0, 0, 0, 0, 0, 0,\n",
       "       1, 0, 0, 0, 0, 0, 0, 0])"
      ]
     },
     "execution_count": 41,
     "metadata": {},
     "output_type": "execute_result"
    }
   ],
   "source": [
    "y_pred[10:40]"
   ]
  },
  {
   "cell_type": "markdown",
   "metadata": {},
   "source": [
    "We see here that it looks like it all matches as it should: the prediction that came out as having heart disease is the only probability over 0.5."
   ]
  },
  {
   "cell_type": "markdown",
   "metadata": {},
   "source": [
    "Ok, now I think I am clear on what I am doing so I will generate a final model. The purpose of the validation set was for me to check over what was happening so I won't need that now. I will assume when certain hyperparameters produced different results through cross validation and validation, this was because the improvement was neglible or even there was no improvement - it was only due to randomness, so I will choose to not include those."
   ]
  },
  {
   "cell_type": "code",
   "execution_count": 194,
   "metadata": {},
   "outputs": [],
   "source": [
    "#This function is for training the model, and it also outputs \n",
    "def myModelfit(alg, xTrain, yTrain, useTrainCV=True, cv_folds=5, early_stopping_rounds=50):\n",
    "    \n",
    "    if useTrainCV:\n",
    "        xgb_param = alg.get_xgb_params()\n",
    "        xgtrain = xgb.DMatrix(xTrain.values, label=yTrain.values, missing = -1)\n",
    "        cvresult = xgb.cv(xgb_param, xgtrain, num_boost_round=alg.get_params()['n_estimators'], nfold=cv_folds,\n",
    "                          metrics='auc', early_stopping_rounds=early_stopping_rounds)\n",
    "        alg.set_params(n_estimators=cvresult.shape[0])\n",
    "        print(cvresult)\n",
    "    \n",
    "    #Fit the algorithm on the data\n",
    "    alg.fit(xTrain, yTrain)\n",
    "    "
   ]
  },
  {
   "cell_type": "code",
   "execution_count": 175,
   "metadata": {},
   "outputs": [
    {
     "data": {
      "text/plain": [
       "0         1.0\n",
       "1         1.0\n",
       "2         1.0\n",
       "3         1.0\n",
       "4         1.0\n",
       "         ... \n",
       "412509    0.0\n",
       "412510    0.0\n",
       "412511    0.0\n",
       "412512    0.0\n",
       "412513    0.0\n",
       "Name: HeartDiseaseorAttack, Length: 412514, dtype: float64"
      ]
     },
     "execution_count": 175,
     "metadata": {},
     "output_type": "execute_result"
    }
   ],
   "source": [
    "y"
   ]
  },
  {
   "cell_type": "code",
   "execution_count": 176,
   "metadata": {},
   "outputs": [],
   "source": [
    "y=pd.DataFrame(y, columns=['HeartDiseaseorAttack'])"
   ]
  },
  {
   "cell_type": "code",
   "execution_count": 177,
   "metadata": {},
   "outputs": [
    {
     "data": {
      "text/html": [
       "<div>\n",
       "<style scoped>\n",
       "    .dataframe tbody tr th:only-of-type {\n",
       "        vertical-align: middle;\n",
       "    }\n",
       "\n",
       "    .dataframe tbody tr th {\n",
       "        vertical-align: top;\n",
       "    }\n",
       "\n",
       "    .dataframe thead th {\n",
       "        text-align: right;\n",
       "    }\n",
       "</style>\n",
       "<table border=\"1\" class=\"dataframe\">\n",
       "  <thead>\n",
       "    <tr style=\"text-align: right;\">\n",
       "      <th></th>\n",
       "      <th>HeartDiseaseorAttack</th>\n",
       "    </tr>\n",
       "  </thead>\n",
       "  <tbody>\n",
       "    <tr>\n",
       "      <th>0</th>\n",
       "      <td>1.0</td>\n",
       "    </tr>\n",
       "    <tr>\n",
       "      <th>1</th>\n",
       "      <td>1.0</td>\n",
       "    </tr>\n",
       "    <tr>\n",
       "      <th>2</th>\n",
       "      <td>1.0</td>\n",
       "    </tr>\n",
       "    <tr>\n",
       "      <th>3</th>\n",
       "      <td>1.0</td>\n",
       "    </tr>\n",
       "    <tr>\n",
       "      <th>4</th>\n",
       "      <td>1.0</td>\n",
       "    </tr>\n",
       "    <tr>\n",
       "      <th>...</th>\n",
       "      <td>...</td>\n",
       "    </tr>\n",
       "    <tr>\n",
       "      <th>412509</th>\n",
       "      <td>0.0</td>\n",
       "    </tr>\n",
       "    <tr>\n",
       "      <th>412510</th>\n",
       "      <td>0.0</td>\n",
       "    </tr>\n",
       "    <tr>\n",
       "      <th>412511</th>\n",
       "      <td>0.0</td>\n",
       "    </tr>\n",
       "    <tr>\n",
       "      <th>412512</th>\n",
       "      <td>0.0</td>\n",
       "    </tr>\n",
       "    <tr>\n",
       "      <th>412513</th>\n",
       "      <td>0.0</td>\n",
       "    </tr>\n",
       "  </tbody>\n",
       "</table>\n",
       "<p>412514 rows × 1 columns</p>\n",
       "</div>"
      ],
      "text/plain": [
       "        HeartDiseaseorAttack\n",
       "0                        1.0\n",
       "1                        1.0\n",
       "2                        1.0\n",
       "3                        1.0\n",
       "4                        1.0\n",
       "...                      ...\n",
       "412509                   0.0\n",
       "412510                   0.0\n",
       "412511                   0.0\n",
       "412512                   0.0\n",
       "412513                   0.0\n",
       "\n",
       "[412514 rows x 1 columns]"
      ]
     },
     "execution_count": 177,
     "metadata": {},
     "output_type": "execute_result"
    }
   ],
   "source": [
    "y"
   ]
  },
  {
   "cell_type": "code",
   "execution_count": 219,
   "metadata": {},
   "outputs": [
    {
     "data": {
      "text/plain": [
       "28633.0"
      ]
     },
     "execution_count": 219,
     "metadata": {},
     "output_type": "execute_result"
    }
   ],
   "source": [
    "sum(y['HeartDiseaseorAttack'])"
   ]
  },
  {
   "cell_type": "code",
   "execution_count": 178,
   "metadata": {},
   "outputs": [
    {
     "data": {
      "text/html": [
       "<div>\n",
       "<style scoped>\n",
       "    .dataframe tbody tr th:only-of-type {\n",
       "        vertical-align: middle;\n",
       "    }\n",
       "\n",
       "    .dataframe tbody tr th {\n",
       "        vertical-align: top;\n",
       "    }\n",
       "\n",
       "    .dataframe thead th {\n",
       "        text-align: right;\n",
       "    }\n",
       "</style>\n",
       "<table border=\"1\" class=\"dataframe\">\n",
       "  <thead>\n",
       "    <tr style=\"text-align: right;\">\n",
       "      <th></th>\n",
       "      <th>HighBP</th>\n",
       "      <th>HighChol</th>\n",
       "      <th>CholCheck</th>\n",
       "      <th>BMI</th>\n",
       "      <th>Smoker</th>\n",
       "      <th>Stroke</th>\n",
       "      <th>Diabetes</th>\n",
       "      <th>PhysActivity</th>\n",
       "      <th>Fruits</th>\n",
       "      <th>Veggies</th>\n",
       "      <th>...</th>\n",
       "      <th>AnyHealthcare</th>\n",
       "      <th>NoDocbcCost</th>\n",
       "      <th>GenHlth</th>\n",
       "      <th>MentHlth</th>\n",
       "      <th>PhysHlth</th>\n",
       "      <th>DiffWalk</th>\n",
       "      <th>Sex</th>\n",
       "      <th>Age</th>\n",
       "      <th>Education</th>\n",
       "      <th>Income</th>\n",
       "    </tr>\n",
       "  </thead>\n",
       "  <tbody>\n",
       "    <tr>\n",
       "      <th>0</th>\n",
       "      <td>1.0</td>\n",
       "      <td>0.0</td>\n",
       "      <td>1.0</td>\n",
       "      <td>27.0</td>\n",
       "      <td>0.0</td>\n",
       "      <td>0.0</td>\n",
       "      <td>0.0</td>\n",
       "      <td>-1.0</td>\n",
       "      <td>-1.0</td>\n",
       "      <td>-1.0</td>\n",
       "      <td>...</td>\n",
       "      <td>1.0</td>\n",
       "      <td>0.0</td>\n",
       "      <td>3.0</td>\n",
       "      <td>0.0</td>\n",
       "      <td>0.0</td>\n",
       "      <td>1.0</td>\n",
       "      <td>0.0</td>\n",
       "      <td>13.0</td>\n",
       "      <td>5.0</td>\n",
       "      <td>-1.0</td>\n",
       "    </tr>\n",
       "    <tr>\n",
       "      <th>1</th>\n",
       "      <td>1.0</td>\n",
       "      <td>1.0</td>\n",
       "      <td>1.0</td>\n",
       "      <td>30.0</td>\n",
       "      <td>1.0</td>\n",
       "      <td>0.0</td>\n",
       "      <td>0.0</td>\n",
       "      <td>0.0</td>\n",
       "      <td>1.0</td>\n",
       "      <td>1.0</td>\n",
       "      <td>...</td>\n",
       "      <td>1.0</td>\n",
       "      <td>0.0</td>\n",
       "      <td>5.0</td>\n",
       "      <td>30.0</td>\n",
       "      <td>30.0</td>\n",
       "      <td>1.0</td>\n",
       "      <td>0.0</td>\n",
       "      <td>9.0</td>\n",
       "      <td>5.0</td>\n",
       "      <td>1.0</td>\n",
       "    </tr>\n",
       "    <tr>\n",
       "      <th>2</th>\n",
       "      <td>1.0</td>\n",
       "      <td>1.0</td>\n",
       "      <td>1.0</td>\n",
       "      <td>27.0</td>\n",
       "      <td>1.0</td>\n",
       "      <td>0.0</td>\n",
       "      <td>0.0</td>\n",
       "      <td>0.0</td>\n",
       "      <td>1.0</td>\n",
       "      <td>1.0</td>\n",
       "      <td>...</td>\n",
       "      <td>1.0</td>\n",
       "      <td>-1.0</td>\n",
       "      <td>3.0</td>\n",
       "      <td>0.0</td>\n",
       "      <td>0.0</td>\n",
       "      <td>0.0</td>\n",
       "      <td>1.0</td>\n",
       "      <td>13.0</td>\n",
       "      <td>3.0</td>\n",
       "      <td>4.0</td>\n",
       "    </tr>\n",
       "    <tr>\n",
       "      <th>3</th>\n",
       "      <td>0.0</td>\n",
       "      <td>1.0</td>\n",
       "      <td>-1.0</td>\n",
       "      <td>31.0</td>\n",
       "      <td>1.0</td>\n",
       "      <td>0.0</td>\n",
       "      <td>0.0</td>\n",
       "      <td>0.0</td>\n",
       "      <td>0.0</td>\n",
       "      <td>0.0</td>\n",
       "      <td>...</td>\n",
       "      <td>1.0</td>\n",
       "      <td>0.0</td>\n",
       "      <td>3.0</td>\n",
       "      <td>0.0</td>\n",
       "      <td>-1.0</td>\n",
       "      <td>0.0</td>\n",
       "      <td>1.0</td>\n",
       "      <td>12.0</td>\n",
       "      <td>2.0</td>\n",
       "      <td>3.0</td>\n",
       "    </tr>\n",
       "    <tr>\n",
       "      <th>4</th>\n",
       "      <td>1.0</td>\n",
       "      <td>1.0</td>\n",
       "      <td>1.0</td>\n",
       "      <td>28.0</td>\n",
       "      <td>1.0</td>\n",
       "      <td>1.0</td>\n",
       "      <td>0.0</td>\n",
       "      <td>1.0</td>\n",
       "      <td>1.0</td>\n",
       "      <td>1.0</td>\n",
       "      <td>...</td>\n",
       "      <td>1.0</td>\n",
       "      <td>1.0</td>\n",
       "      <td>5.0</td>\n",
       "      <td>-1.0</td>\n",
       "      <td>-1.0</td>\n",
       "      <td>1.0</td>\n",
       "      <td>1.0</td>\n",
       "      <td>9.0</td>\n",
       "      <td>4.0</td>\n",
       "      <td>3.0</td>\n",
       "    </tr>\n",
       "    <tr>\n",
       "      <th>...</th>\n",
       "      <td>...</td>\n",
       "      <td>...</td>\n",
       "      <td>...</td>\n",
       "      <td>...</td>\n",
       "      <td>...</td>\n",
       "      <td>...</td>\n",
       "      <td>...</td>\n",
       "      <td>...</td>\n",
       "      <td>...</td>\n",
       "      <td>...</td>\n",
       "      <td>...</td>\n",
       "      <td>...</td>\n",
       "      <td>...</td>\n",
       "      <td>...</td>\n",
       "      <td>...</td>\n",
       "      <td>...</td>\n",
       "      <td>...</td>\n",
       "      <td>...</td>\n",
       "      <td>...</td>\n",
       "      <td>...</td>\n",
       "      <td>...</td>\n",
       "    </tr>\n",
       "    <tr>\n",
       "      <th>412509</th>\n",
       "      <td>1.0</td>\n",
       "      <td>1.0</td>\n",
       "      <td>1.0</td>\n",
       "      <td>45.0</td>\n",
       "      <td>0.0</td>\n",
       "      <td>0.0</td>\n",
       "      <td>0.0</td>\n",
       "      <td>0.0</td>\n",
       "      <td>1.0</td>\n",
       "      <td>1.0</td>\n",
       "      <td>...</td>\n",
       "      <td>1.0</td>\n",
       "      <td>0.0</td>\n",
       "      <td>3.0</td>\n",
       "      <td>0.0</td>\n",
       "      <td>5.0</td>\n",
       "      <td>0.0</td>\n",
       "      <td>1.0</td>\n",
       "      <td>5.0</td>\n",
       "      <td>6.0</td>\n",
       "      <td>7.0</td>\n",
       "    </tr>\n",
       "    <tr>\n",
       "      <th>412510</th>\n",
       "      <td>1.0</td>\n",
       "      <td>1.0</td>\n",
       "      <td>1.0</td>\n",
       "      <td>18.0</td>\n",
       "      <td>0.0</td>\n",
       "      <td>0.0</td>\n",
       "      <td>0.0</td>\n",
       "      <td>0.0</td>\n",
       "      <td>0.0</td>\n",
       "      <td>0.0</td>\n",
       "      <td>...</td>\n",
       "      <td>1.0</td>\n",
       "      <td>0.0</td>\n",
       "      <td>4.0</td>\n",
       "      <td>0.0</td>\n",
       "      <td>0.0</td>\n",
       "      <td>1.0</td>\n",
       "      <td>0.0</td>\n",
       "      <td>11.0</td>\n",
       "      <td>2.0</td>\n",
       "      <td>4.0</td>\n",
       "    </tr>\n",
       "    <tr>\n",
       "      <th>412511</th>\n",
       "      <td>0.0</td>\n",
       "      <td>0.0</td>\n",
       "      <td>1.0</td>\n",
       "      <td>28.0</td>\n",
       "      <td>0.0</td>\n",
       "      <td>0.0</td>\n",
       "      <td>0.0</td>\n",
       "      <td>1.0</td>\n",
       "      <td>1.0</td>\n",
       "      <td>0.0</td>\n",
       "      <td>...</td>\n",
       "      <td>1.0</td>\n",
       "      <td>0.0</td>\n",
       "      <td>1.0</td>\n",
       "      <td>0.0</td>\n",
       "      <td>0.0</td>\n",
       "      <td>0.0</td>\n",
       "      <td>0.0</td>\n",
       "      <td>2.0</td>\n",
       "      <td>5.0</td>\n",
       "      <td>2.0</td>\n",
       "    </tr>\n",
       "    <tr>\n",
       "      <th>412512</th>\n",
       "      <td>1.0</td>\n",
       "      <td>1.0</td>\n",
       "      <td>1.0</td>\n",
       "      <td>41.0</td>\n",
       "      <td>1.0</td>\n",
       "      <td>0.0</td>\n",
       "      <td>0.0</td>\n",
       "      <td>-1.0</td>\n",
       "      <td>-1.0</td>\n",
       "      <td>-1.0</td>\n",
       "      <td>...</td>\n",
       "      <td>1.0</td>\n",
       "      <td>0.0</td>\n",
       "      <td>4.0</td>\n",
       "      <td>20.0</td>\n",
       "      <td>0.0</td>\n",
       "      <td>0.0</td>\n",
       "      <td>0.0</td>\n",
       "      <td>11.0</td>\n",
       "      <td>4.0</td>\n",
       "      <td>5.0</td>\n",
       "    </tr>\n",
       "    <tr>\n",
       "      <th>412513</th>\n",
       "      <td>1.0</td>\n",
       "      <td>0.0</td>\n",
       "      <td>1.0</td>\n",
       "      <td>23.0</td>\n",
       "      <td>0.0</td>\n",
       "      <td>0.0</td>\n",
       "      <td>0.0</td>\n",
       "      <td>0.0</td>\n",
       "      <td>1.0</td>\n",
       "      <td>1.0</td>\n",
       "      <td>...</td>\n",
       "      <td>1.0</td>\n",
       "      <td>0.0</td>\n",
       "      <td>3.0</td>\n",
       "      <td>0.0</td>\n",
       "      <td>0.0</td>\n",
       "      <td>0.0</td>\n",
       "      <td>1.0</td>\n",
       "      <td>7.0</td>\n",
       "      <td>5.0</td>\n",
       "      <td>1.0</td>\n",
       "    </tr>\n",
       "  </tbody>\n",
       "</table>\n",
       "<p>412514 rows × 21 columns</p>\n",
       "</div>"
      ],
      "text/plain": [
       "        HighBP  HighChol  CholCheck   BMI  Smoker  Stroke  Diabetes  \\\n",
       "0          1.0       0.0        1.0  27.0     0.0     0.0       0.0   \n",
       "1          1.0       1.0        1.0  30.0     1.0     0.0       0.0   \n",
       "2          1.0       1.0        1.0  27.0     1.0     0.0       0.0   \n",
       "3          0.0       1.0       -1.0  31.0     1.0     0.0       0.0   \n",
       "4          1.0       1.0        1.0  28.0     1.0     1.0       0.0   \n",
       "...        ...       ...        ...   ...     ...     ...       ...   \n",
       "412509     1.0       1.0        1.0  45.0     0.0     0.0       0.0   \n",
       "412510     1.0       1.0        1.0  18.0     0.0     0.0       0.0   \n",
       "412511     0.0       0.0        1.0  28.0     0.0     0.0       0.0   \n",
       "412512     1.0       1.0        1.0  41.0     1.0     0.0       0.0   \n",
       "412513     1.0       0.0        1.0  23.0     0.0     0.0       0.0   \n",
       "\n",
       "        PhysActivity  Fruits  Veggies  ...  AnyHealthcare  NoDocbcCost  \\\n",
       "0               -1.0    -1.0     -1.0  ...            1.0          0.0   \n",
       "1                0.0     1.0      1.0  ...            1.0          0.0   \n",
       "2                0.0     1.0      1.0  ...            1.0         -1.0   \n",
       "3                0.0     0.0      0.0  ...            1.0          0.0   \n",
       "4                1.0     1.0      1.0  ...            1.0          1.0   \n",
       "...              ...     ...      ...  ...            ...          ...   \n",
       "412509           0.0     1.0      1.0  ...            1.0          0.0   \n",
       "412510           0.0     0.0      0.0  ...            1.0          0.0   \n",
       "412511           1.0     1.0      0.0  ...            1.0          0.0   \n",
       "412512          -1.0    -1.0     -1.0  ...            1.0          0.0   \n",
       "412513           0.0     1.0      1.0  ...            1.0          0.0   \n",
       "\n",
       "        GenHlth  MentHlth  PhysHlth  DiffWalk  Sex   Age  Education  Income  \n",
       "0           3.0       0.0       0.0       1.0  0.0  13.0        5.0    -1.0  \n",
       "1           5.0      30.0      30.0       1.0  0.0   9.0        5.0     1.0  \n",
       "2           3.0       0.0       0.0       0.0  1.0  13.0        3.0     4.0  \n",
       "3           3.0       0.0      -1.0       0.0  1.0  12.0        2.0     3.0  \n",
       "4           5.0      -1.0      -1.0       1.0  1.0   9.0        4.0     3.0  \n",
       "...         ...       ...       ...       ...  ...   ...        ...     ...  \n",
       "412509      3.0       0.0       5.0       0.0  1.0   5.0        6.0     7.0  \n",
       "412510      4.0       0.0       0.0       1.0  0.0  11.0        2.0     4.0  \n",
       "412511      1.0       0.0       0.0       0.0  0.0   2.0        5.0     2.0  \n",
       "412512      4.0      20.0       0.0       0.0  0.0  11.0        4.0     5.0  \n",
       "412513      3.0       0.0       0.0       0.0  1.0   7.0        5.0     1.0  \n",
       "\n",
       "[412514 rows x 21 columns]"
      ]
     },
     "execution_count": 178,
     "metadata": {},
     "output_type": "execute_result"
    }
   ],
   "source": [
    "X"
   ]
  },
  {
   "cell_type": "code",
   "execution_count": 195,
   "metadata": {},
   "outputs": [
    {
     "name": "stdout",
     "output_type": "stream",
     "text": [
      "     train-auc-mean  train-auc-std  test-auc-mean  test-auc-std\n",
      "0          0.795489       0.000144       0.795103      0.003481\n",
      "1          0.823999       0.007752       0.822923      0.007147\n",
      "2          0.830679       0.005935       0.830175      0.004407\n",
      "3          0.836538       0.001630       0.835920      0.000790\n",
      "4          0.838654       0.001876       0.837960      0.002372\n",
      "..              ...            ...            ...           ...\n",
      "173        0.860587       0.000548       0.855224      0.001945\n",
      "174        0.860622       0.000550       0.855237      0.001937\n",
      "175        0.860651       0.000548       0.855230      0.001933\n",
      "176        0.860681       0.000553       0.855235      0.001931\n",
      "177        0.860707       0.000554       0.855239      0.001936\n",
      "\n",
      "[178 rows x 4 columns]\n"
     ]
    }
   ],
   "source": [
    "finalModel = XGBClassifier(\n",
    " eval_metric='mlogloss', \n",
    " missing =-1,\n",
    " learning_rate =0.1,\n",
    " n_estimators=1000,\n",
    " max_depth=4,\n",
    " min_child_weight=1,\n",
    " gamma=0.3,\n",
    " subsample=0.8,\n",
    " colsample_bytree=0.8,\n",
    " objective= 'binary:logistic',\n",
    " scale_pos_weight=1)\n",
    "myModelfit(finalModel, X, y)"
   ]
  },
  {
   "cell_type": "code",
   "execution_count": 205,
   "metadata": {},
   "outputs": [],
   "source": [
    "finalTestModel = XGBClassifier(\n",
    " eval_metric='mlogloss', \n",
    " missing =-1,\n",
    " learning_rate =0.1,\n",
    " n_estimators=177,\n",
    " max_depth=4,\n",
    " min_child_weight=1,\n",
    " gamma=0.3,\n",
    " subsample=0.8,\n",
    " colsample_bytree=0.8,\n",
    " objective= 'binary:logistic',\n",
    " scale_pos_weight=1)"
   ]
  },
  {
   "cell_type": "code",
   "execution_count": 236,
   "metadata": {},
   "outputs": [],
   "source": [
    "url='https://drive.google.com/file/d/1TnNHo5fFqEGFES_gts-txGtUrmzsJ1Uc/view?pli=1'\n",
    "url='https://drive.google.com/uc?id=' + url.split('/')[-2]\n",
    "testdf = pd.read_csv(url)"
   ]
  },
  {
   "cell_type": "code",
   "execution_count": 237,
   "metadata": {},
   "outputs": [],
   "source": [
    "y_test=testdf.iloc[:,0]\n",
    "y_test=pd.DataFrame(y_test, columns=['HeartDiseaseorAttack'])\n",
    "X_test=testdf.iloc[:,1:22]"
   ]
  },
  {
   "cell_type": "code",
   "execution_count": 238,
   "metadata": {},
   "outputs": [],
   "source": [
    "y_pred_probs = finalModel.predict_proba(X_test)\n",
    "y_pred = finalModel.predict(X_test)"
   ]
  },
  {
   "cell_type": "code",
   "execution_count": 239,
   "metadata": {},
   "outputs": [
    {
     "data": {
      "text/plain": [
       "0.62164"
      ]
     },
     "execution_count": 239,
     "metadata": {},
     "output_type": "execute_result"
    }
   ],
   "source": [
    "accuracy5 = accuracy_score(y_test, y_pred)\n",
    "accuracy5"
   ]
  },
  {
   "cell_type": "code",
   "execution_count": 242,
   "metadata": {},
   "outputs": [
    {
     "data": {
      "text/plain": [
       "array([0.0924055 , 0.18027793, 0.28348762, 0.02643523, 0.16069852,\n",
       "       0.01337816, 0.1255887 , 0.2642309 , 0.23614189, 0.37638155,\n",
       "       0.05489105, 0.53562427, 0.11960854, 0.40542695, 0.03588442,\n",
       "       0.02915804, 0.29892814, 0.14425808, 0.45206794, 0.36408958,\n",
       "       0.08913892, 0.2788241 , 0.08472198, 0.34269893, 0.02681517,\n",
       "       0.18459988, 0.15098344, 0.31908417, 0.34901503, 0.5471329 ,\n",
       "       0.18292744, 0.04202278, 0.41606084, 0.27836236, 0.12380952,\n",
       "       0.18514575, 0.17744961, 0.05623258, 0.24947248, 0.21826038,\n",
       "       0.05043402, 0.33285987, 0.07646564, 0.37642607, 0.26003385,\n",
       "       0.10747278, 0.30623072, 0.01796231, 0.06465653], dtype=float32)"
      ]
     },
     "execution_count": 242,
     "metadata": {},
     "output_type": "execute_result"
    }
   ],
   "source": [
    "y_pred_probs[:,1][1:50]"
   ]
  },
  {
   "cell_type": "code",
   "execution_count": 243,
   "metadata": {},
   "outputs": [
    {
     "data": {
      "text/plain": [
       "array([0, 0, 0, 0, 0, 0, 0, 0, 0, 0, 0, 1, 0, 0, 0, 0, 0, 0, 0, 0, 0, 0,\n",
       "       0, 0, 0, 0, 0, 0, 0, 1, 0, 0, 0, 0, 0, 0, 0, 0, 0, 0, 0, 0, 0, 0,\n",
       "       0, 0, 0, 0, 0])"
      ]
     },
     "execution_count": 243,
     "metadata": {},
     "output_type": "execute_result"
    }
   ],
   "source": [
    "y_pred[1:50]"
   ]
  },
  {
   "cell_type": "code",
   "execution_count": 244,
   "metadata": {},
   "outputs": [
    {
     "data": {
      "text/plain": [
       "598"
      ]
     },
     "execution_count": 244,
     "metadata": {},
     "output_type": "execute_result"
    }
   ],
   "source": [
    "sum(y_pred[1:10000])"
   ]
  },
  {
   "cell_type": "code",
   "execution_count": null,
   "metadata": {},
   "outputs": [],
   "source": []
  }
 ],
 "metadata": {
  "kernelspec": {
   "display_name": "Python 3",
   "language": "python",
   "name": "python3"
  },
  "language_info": {
   "codemirror_mode": {
    "name": "ipython",
    "version": 3
   },
   "file_extension": ".py",
   "mimetype": "text/x-python",
   "name": "python",
   "nbconvert_exporter": "python",
   "pygments_lexer": "ipython3",
   "version": "3.8.5"
  }
 },
 "nbformat": 4,
 "nbformat_minor": 4
}
