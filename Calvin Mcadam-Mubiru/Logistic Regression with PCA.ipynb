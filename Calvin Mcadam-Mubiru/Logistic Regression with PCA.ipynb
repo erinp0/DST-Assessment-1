{
 "cells": [
  {
   "cell_type": "markdown",
   "id": "c89cc5f6",
   "metadata": {},
   "source": [
    "# Introduction"
   ]
  },
  {
   "cell_type": "markdown",
   "id": "6e3044b1",
   "metadata": {},
   "source": [
    "We need to first import the necessary packages and files:"
   ]
  },
  {
   "cell_type": "code",
   "execution_count": 1,
   "id": "17301dff",
   "metadata": {},
   "outputs": [],
   "source": [
    "import pandas as pd\n",
    "import numpy as np\n",
    "import time\n",
    "import matplotlib.pyplot as plt\n",
    "from numpy import exp\n",
    "from sklearn.preprocessing import StandardScaler"
   ]
  },
  {
   "cell_type": "code",
   "execution_count": 2,
   "id": "70867fb5",
   "metadata": {},
   "outputs": [],
   "source": [
    "url1 = 'https://drive.google.com/file/d/1S7em_UuD7yOiN4JMq__mlNDfcwV6NCYU/view'\n",
    "url2 = 'https://drive.google.com/file/d/1qkbZ7ZctdRZXez9FPPHNavVRfXGD8PSf/view'"
   ]
  },
  {
   "cell_type": "code",
   "execution_count": 3,
   "id": "9d85697e",
   "metadata": {},
   "outputs": [],
   "source": [
    "url1 = 'https://drive.google.com/uc?id=' + url1.split('/')[-2]\n",
    "url2 = 'https://drive.google.com/uc?id=' + url2.split('/')[-2]"
   ]
  },
  {
   "cell_type": "code",
   "execution_count": 4,
   "id": "b69aee0d",
   "metadata": {},
   "outputs": [],
   "source": [
    "heart_disease_training= pd.read_csv(url1)\n",
    "heart_disease_test = pd.read_csv(url2)"
   ]
  },
  {
   "cell_type": "markdown",
   "id": "67d759f3",
   "metadata": {},
   "source": [
    "We then separate the features and target variables:"
   ]
  },
  {
   "cell_type": "code",
   "execution_count": 5,
   "id": "b5e63e9d",
   "metadata": {},
   "outputs": [],
   "source": [
    "y_train = np.array(heart_disease_training.iloc[:, 0]).astype(int)[np.newaxis,:].T\n",
    "y_test = np.array(heart_disease_test.iloc[:, 0]).astype(int)[np.newaxis,:].T\n",
    "del heart_disease_training['HeartDiseaseorAttack']\n",
    "del heart_disease_test['HeartDiseaseorAttack']"
   ]
  },
  {
   "cell_type": "code",
   "execution_count": 6,
   "id": "dbe8db1d",
   "metadata": {},
   "outputs": [],
   "source": [
    "x_train = heart_disease_training.to_numpy()\n",
    "x_test = heart_disease_test.to_numpy()"
   ]
  },
  {
   "cell_type": "markdown",
   "id": "8dce805a",
   "metadata": {},
   "source": [
    "The center function is a simple standardising function"
   ]
  },
  {
   "cell_type": "code",
   "execution_count": 7,
   "id": "7ae00625",
   "metadata": {},
   "outputs": [],
   "source": [
    "def center_function(data):\n",
    "    mean = data.mean(axis=1)\n",
    "    std = data.std(axis=1)\n",
    "    for i in range(data.shape[1]):\n",
    "        data[i] -= mean[i]\n",
    "        data[i] /= std[i]\n",
    "    return data,mean,std # data is just the standardised dataset"
   ]
  },
  {
   "cell_type": "code",
   "execution_count": 8,
   "id": "bf966264",
   "metadata": {},
   "outputs": [],
   "source": [
    "cf = center_function(x_train)\n",
    "x_train_centered = cf[0]"
   ]
  },
  {
   "cell_type": "code",
   "execution_count": 9,
   "id": "cd95c4e4",
   "metadata": {},
   "outputs": [
    {
     "name": "stdout",
     "output_type": "stream",
     "text": [
      "Standardised Training Data:\n",
      "         0         1         2         3         4         5         6   \\\n",
      "0 -0.651402 -0.432579 -1.016107 -0.264223 -0.140816 -1.016107 -0.432579   \n",
      "1 -1.000264 -0.527308 -1.338089 -0.617828 -0.527308 -1.000264 -0.257048   \n",
      "2 -0.475150 -0.175281 -0.974933  0.241825 -0.175281 -0.475150 -0.175281   \n",
      "3 -0.503916 -0.264668 -0.902664 -0.052513 -0.264668 -0.503916  0.373328   \n",
      "4 -0.973606 -0.323072  2.279063  0.024712 -0.323072 -0.567023  0.327461   \n",
      "\n",
      "         7         8         9   ...        11        12        13        14  \\\n",
      "0 -0.651402 -0.651402 -1.016107  ... -1.016107 -0.432579  0.734476  1.574041   \n",
      "1  1.364513  1.364513  1.364513  ... -1.338089 -0.527308 -0.257048  1.061160   \n",
      "2 -0.475150 -0.974933 -0.974933  ... -0.974933  0.224545  1.424023  0.208226   \n",
      "3 -0.503916 -0.902664 -0.902664  ... -0.902664  1.649320  0.373328  1.929257   \n",
      "4 -0.567023 -0.567023 -0.567023  ... -0.973606  0.002195  0.327461  1.913968   \n",
      "\n",
      "         15        16        17        18        19        20  \n",
      "0  1.580591 -0.432579  1.901531  1.677097  0.442712  1.259651  \n",
      "1  1.067227 -0.797568  1.364513  1.156620  0.013212  0.769940  \n",
      "2  0.264528 -0.175281  3.023327  1.485535  1.024197 -0.894967  \n",
      "3  1.936418  0.054330 -0.902664  2.041932 -0.105169 -0.743165  \n",
      "4  1.563476  0.002195 -0.973606  1.778653 -0.567023 -0.843500  \n",
      "\n",
      "[5 rows x 21 columns]\n"
     ]
    }
   ],
   "source": [
    "print(\"Standardised Training Data:\")\n",
    "print(pd.DataFrame(x_train_centered).head())"
   ]
  },
  {
   "cell_type": "markdown",
   "id": "52434620",
   "metadata": {},
   "source": [
    "# PCA"
   ]
  },
  {
   "cell_type": "code",
   "execution_count": 10,
   "id": "d3b003df",
   "metadata": {},
   "outputs": [],
   "source": [
    "percentage = 99 # This is the amount of explained variance we desire"
   ]
  },
  {
   "cell_type": "markdown",
   "id": "da2565d6",
   "metadata": {},
   "source": [
    "The function below retrieves and orders the eigenvectors and values of the covariance matrix of the data:"
   ]
  },
  {
   "cell_type": "code",
   "execution_count": 11,
   "id": "e487720d",
   "metadata": {},
   "outputs": [],
   "source": [
    "def cov_eigen(data):\n",
    "    hd_scaled = StandardScaler().fit_transform(data)\n",
    "    features = hd_scaled.T\n",
    "    cov_matrix = np.cov(features)\n",
    "    values, vectors = np.linalg.eig(cov_matrix)\n",
    "    idx = values.argsort()[::-1]\n",
    "    vectors = vectors.T[:,idx]\n",
    "    return values,vectors"
   ]
  },
  {
   "cell_type": "markdown",
   "id": "adac8091",
   "metadata": {},
   "source": [
    "The pcafeatures function calculates the amount of components to have a certain amount of explained variance and outputs that,the explained variances and a list of the principle component names"
   ]
  },
  {
   "cell_type": "code",
   "execution_count": 12,
   "id": "480df06d",
   "metadata": {},
   "outputs": [],
   "source": [
    "def pcafeatures(data,percentage):\n",
    "    hd_scaled = StandardScaler().fit_transform(data)\n",
    "    features = hd_scaled.T\n",
    "    cov_matrix = np.cov(features)\n",
    "    values, vectors = np.linalg.eig(cov_matrix)\n",
    "    explained_variances = []\n",
    "    a = 0\n",
    "    num = 0\n",
    "    for i in range(len(values)):\n",
    "        explained_variances.append(values[i] / np.sum(values))\n",
    "    for i in range(len(explained_variances)):\n",
    "        while a < percentage:\n",
    "            a += explained_variances[i]*100\n",
    "            num += 1\n",
    "    pc_feat = ['PC{}'.format(i+1) for i in range(num)]\n",
    "    return pc_feat,num,explained_variances"
   ]
  },
  {
   "cell_type": "code",
   "execution_count": 13,
   "id": "3fed4cb1",
   "metadata": {},
   "outputs": [
    {
     "name": "stdout",
     "output_type": "stream",
     "text": [
      "Checking explained variance:\n",
      "[0.16122278582291324, 0.09510976592156575, 0.08456620021837538, 0.0631080886938527, 0.010723483763500222, 0.013672319292575816, 0.058487376083265666, 0.052650017348242664, 0.023511413396570636, 0.02442033367876146, 0.025066557121238016, 0.027023407068114933, 0.028790295133363734, 0.04878497348939676, 0.0465852122081128, 0.03498757617545907, 0.0360589025049132, 0.043672669967562514, 0.042011987503775265, 0.03935953642493362, 0.04018709818350655]\n",
      "Sum of explained variance is 0.9999999999999998\n"
     ]
    }
   ],
   "source": [
    "print(\"Checking explained variance:\")\n",
    "print(str(pcafeatures(x_train_centered,percentage)[2]))\n",
    "a = np.sum(pcafeatures(x_train_centered,percentage)[2])\n",
    "print(\"Sum of explained variance is\",a)"
   ]
  },
  {
   "cell_type": "code",
   "execution_count": 14,
   "id": "5b5abde9",
   "metadata": {},
   "outputs": [],
   "source": [
    "num_of_comps = pcafeatures(x_train_centered,percentage)[1]\n",
    "cov_evecs = cov_eigen(x_train_centered)[1][:,:num_of_comps]"
   ]
  },
  {
   "cell_type": "code",
   "execution_count": 15,
   "id": "621d72ee",
   "metadata": {},
   "outputs": [
    {
     "name": "stdout",
     "output_type": "stream",
     "text": [
      "Covariance Eigenvectors:\n",
      "          0         1         2         3         4         5         6\n",
      "0 -0.033591  0.033439 -0.057418  0.156377  0.020322 -0.465769 -0.080302\n",
      "1 -0.381940 -0.167564  0.229326 -0.211940  0.362439  0.060261 -0.465829\n",
      "2  0.071377  0.480687 -0.427200 -0.109507  0.027244  0.034382 -0.260186\n",
      "3 -0.281266  0.297176 -0.331177  0.026670  0.165648  0.024536 -0.069326\n",
      "4  0.004051  0.020925  0.046103 -0.009962  0.006449  0.754926  0.005408\n"
     ]
    }
   ],
   "source": [
    "print(\"Covariance Eigenvectors:\")\n",
    "print(pd.DataFrame(cov_evecs).head())"
   ]
  },
  {
   "cell_type": "code",
   "execution_count": 16,
   "id": "8797dcdf",
   "metadata": {},
   "outputs": [],
   "source": [
    "x_train_pca = np.dot(x_train_centered,cov_evecs)"
   ]
  },
  {
   "cell_type": "code",
   "execution_count": 17,
   "id": "96b8e181",
   "metadata": {
    "scrolled": true
   },
   "outputs": [
    {
     "name": "stdout",
     "output_type": "stream",
     "text": [
      "        PC1       PC2       PC3       PC4       PC5       PC6       PC7\n",
      "0 -0.378901  0.287580  0.675054 -0.965061  0.188464  0.011829 -0.063014\n",
      "1  0.493631  0.640975  0.619701 -0.674361 -0.183889  0.775866 -0.136453\n",
      "2 -0.966937  0.084204  1.075097 -0.126546 -0.927389 -0.208541 -0.152739\n",
      "3 -1.238593  0.121333  0.834861 -1.199362 -0.640495  0.015828  0.350526\n",
      "4 -0.009036  1.664690 -0.598359 -1.412363 -0.562404  0.353474 -1.193509\n"
     ]
    }
   ],
   "source": [
    "print(pd.DataFrame(x_train_pca[:5,:], columns = pcafeatures(x_train_centered,percentage)[0]))"
   ]
  },
  {
   "cell_type": "markdown",
   "id": "1752f592",
   "metadata": {},
   "source": [
    "# Logistic Regression"
   ]
  },
  {
   "cell_type": "markdown",
   "id": "4e655d31",
   "metadata": {},
   "source": [
    "With a number of adjustments my code gained inspiration from one found on [Kaggle](https://www.kaggle.com/code/sagira/logistic-regression-math-behind-without-sklearn/notebook) exploring the maths behind Logistic Regression."
   ]
  },
  {
   "cell_type": "markdown",
   "id": "05899ae7",
   "metadata": {},
   "source": [
    "#### Parameter initialise and sigmoid function"
   ]
  },
  {
   "cell_type": "code",
   "execution_count": 18,
   "id": "cbdc78a6",
   "metadata": {},
   "outputs": [],
   "source": [
    "def initialise_weights_and_bias(dimension):\n",
    "    w = np.full((dimension,1),0.01)\n",
    "    b = 0.0\n",
    "    return w,b\n",
    "\n",
    "def sigmoid(z):\n",
    "    y_head = 1 / (1+exp(-z))\n",
    "    return y_head"
   ]
  },
  {
   "cell_type": "markdown",
   "id": "6658c29b",
   "metadata": {},
   "source": [
    "The sigmoid function is used for deciding the probability. It's clear from the graph below that the the higher the input it, the closer it tends to 1 and the lower it is, the closer it tends to 0. As we are working with binary classification, the only outcomes we desire are 1 or 0."
   ]
  },
  {
   "cell_type": "code",
   "execution_count": 19,
   "id": "719eda4d",
   "metadata": {},
   "outputs": [
    {
     "data": {
      "image/png": "[encoded data removed]",
      "text/plain": [
       "<Figure size 640x480 with 1 Axes>"
      ]
     },
     "metadata": {},
     "output_type": "display_data"
    }
   ],
   "source": [
    "x_axis = np.linspace(-10,10,20)\n",
    "plt.plot(x_axis,sigmoid(x_axis))\n",
    "plt.axhline(y=1,color = 'r',linestyle = '-')\n",
    "plt.axhline(y=0,color = 'r',linestyle = '-')\n",
    "plt.axhline(y=0.5,color = 'b', linestyle = ':')\n",
    "plt.axvline(x=0,color = 'r', linestyle = ':')\n",
    "plt.title(\"Sigmoid Function\")\n",
    "\n",
    "plt.show()"
   ]
  },
  {
   "cell_type": "markdown",
   "id": "a4e3390e",
   "metadata": {},
   "source": [
    "#### Log Loss Function"
   ]
  },
  {
   "cell_type": "code",
   "execution_count": 20,
   "id": "a57ec070",
   "metadata": {},
   "outputs": [],
   "source": [
    "def logloss(y_hat,y):\n",
    "    a = np.log(y_hat)\n",
    "    b = np.log(1-y_hat)\n",
    "    loss = (-1/x_train.shape[0]) * np.sum(y*a + (1-y)*b)\n",
    "    return loss"
   ]
  },
  {
   "cell_type": "markdown",
   "id": "0a70c983",
   "metadata": {},
   "source": [
    "#### Forward and Backward Propagation"
   ]
  },
  {
   "cell_type": "code",
   "execution_count": 21,
   "id": "2817256c",
   "metadata": {},
   "outputs": [],
   "source": [
    "def forward_backward_propagation(w,b,x_train,y_hat):\n",
    "    \n",
    "    z = np.dot(x_train,w) + b\n",
    "    y_hat = sigmoid(z)\n",
    "    cost = logloss(y_hat,y_train)\n",
    "    \n",
    "    #backward propogation\n",
    "    derivative_weight = np.dot((y_hat-y_train).T,x_train)/x_train.shape[0]\n",
    "    derivative_bias = np.sum(y_hat-y_train)/x_train.shape[0]\n",
    "    gradients = {\"derivative_weight\": derivative_weight,\"derivative_bias\": derivative_bias}\n",
    "    return cost,gradients"
   ]
  },
  {
   "cell_type": "markdown",
   "id": "d4787813",
   "metadata": {},
   "source": [
    "#### Updating (Learning) Parameters\n",
    "This function outputs the weight and bias vector constants needed for predicting, with the log loss after each iteration "
   ]
  },
  {
   "cell_type": "code",
   "execution_count": 22,
   "id": "bc303eba",
   "metadata": {},
   "outputs": [],
   "source": [
    "def update(w, b, x_train, y_train, learning_rate,number_of_iteration):\n",
    "    cost_list = []\n",
    "    index = []\n",
    "    # updating(learning) parameters is number_of_iteration times\n",
    "    for i in range(number_of_iteration):\n",
    "        # make forward and backward propagation and find cost and gradients\n",
    "        cost,gradients = forward_backward_propagation(w,b,x_train,y_train)\n",
    "        cost_list.append(cost)\n",
    "        # lets update\n",
    "        w = w - learning_rate * (gradients[\"derivative_weight\"].T)\n",
    "        b = b - learning_rate * gradients[\"derivative_bias\"]\n",
    "        if i % 50 == 0:\n",
    "            index.append(i)\n",
    "            print (\"Cost after iteration %i: %f\" %(i, cost)) #if section defined to print our cost values in every 10 iteration. We do not need to do that. It's optional.\n",
    "     # we update(learn) parameters weights and bias\n",
    "    parameters = {\"weight\": w,\"bias\": b}\n",
    "    plt.plot(range(len(cost_list)),cost_list)\n",
    "    plt.xticks(index,rotation = \"vertical\")\n",
    "    plt.xlabel(\"Number of Iteration\")\n",
    "    plt.ylabel(\"Cost\")\n",
    "    plt.show()\n",
    "    return parameters, cost_list "
   ]
  },
  {
   "cell_type": "code",
   "execution_count": 23,
   "id": "bbe6d1f1",
   "metadata": {},
   "outputs": [],
   "source": [
    "#### Prediction"
   ]
  },
  {
   "cell_type": "code",
   "execution_count": 24,
   "id": "3eda5fca",
   "metadata": {},
   "outputs": [],
   "source": [
    "def predict(w,b,x_test):\n",
    "    # x_test is a input for forward propagation\n",
    "    z = sigmoid(np.dot(x_test,w)+b)\n",
    "    Y_prediction = np.zeros((x_test.shape[0],1))\n",
    "    # if z is bigger than 0.5, our prediction is one means has diabete (y_head=1),\n",
    "    # if z is smaller than 0.5, our prediction is zero means does not have diabete (y_head=0),\n",
    "    for i in range(len(z)):\n",
    "        if z[i] < 0.5:\n",
    "            Y_prediction[i] = 0\n",
    "        else:\n",
    "            Y_prediction[i] = 1\n",
    "\n",
    "    return Y_prediction\n",
    "\n",
    "#predict(parameters[\"weight\"],parameters[\"bias\"],x_test)"
   ]
  },
  {
   "cell_type": "code",
   "execution_count": 25,
   "id": "bb5a2834",
   "metadata": {},
   "outputs": [],
   "source": [
    "def logistic_regression(x_train, y_train, x_test, y_test, learning_rate ,  num_iterations):\n",
    "    # initialise\n",
    "    dimension =  x_train.shape[1]\n",
    "    w,b = initialise_weights_and_bias(dimension)\n",
    "    \n",
    "    parameters, cost_list = update(w, b, x_train, y_train, learning_rate,num_iterations)\n",
    "    \n",
    "    y_prediction_test = predict(parameters[\"weight\"],parameters[\"bias\"],x_test)\n",
    "\n",
    "    # Print train/test Errors\n",
    "    \n",
    "    print(\"test accuracy: {} %\".format(100 - np.mean(np.abs(y_prediction_test - y_test)) * 100))"
   ]
  },
  {
   "cell_type": "markdown",
   "id": "8bf75503",
   "metadata": {},
   "source": [
    "The probabilities funtion outputs the probabilities of each case testing positive or negative"
   ]
  },
  {
   "cell_type": "code",
   "execution_count": 26,
   "id": "e372535d",
   "metadata": {},
   "outputs": [],
   "source": [
    "def probabilities(x_train, x_test, y_train, learning_rate,number_of_iteration):\n",
    "    # initialise\n",
    "    dimension =  x_train.shape[1]\n",
    "    w,b = initialise_weights_and_bias(dimension)\n",
    "    # updating(learning) parameters is number_of_iteration times\n",
    "    for i in range(number_of_iteration):\n",
    "        # make forward and backward propagation and find cost and gradients\n",
    "        cost,gradients = forward_backward_propagation(w,b,x_train,y_train)\n",
    "        # lets update\n",
    "        w = w - learning_rate * (gradients[\"derivative_weight\"].T)\n",
    "        b = b - learning_rate * gradients[\"derivative_bias\"]\n",
    "    probability = sigmoid(np.dot(x_test,w)+b)\n",
    "    results = predict(w,b,x_test)\n",
    "    return probability, results"
   ]
  },
  {
   "cell_type": "markdown",
   "id": "8511b6e8",
   "metadata": {},
   "source": [
    "We need to project the test data into the same space as the training dataset before finding pred. So we follow the standardising method but use the mean and standard deviation from the training data"
   ]
  },
  {
   "cell_type": "code",
   "execution_count": 27,
   "id": "39ffcc77",
   "metadata": {},
   "outputs": [],
   "source": [
    "for i in range(x_test.shape[1]):\n",
    "    x_test[:,i] -= cf[1][i]     \n",
    "    x_test[:,i] /= cf[2][i]"
   ]
  },
  {
   "cell_type": "code",
   "execution_count": 28,
   "id": "3580d5d6",
   "metadata": {},
   "outputs": [],
   "source": [
    "x_test_pca = np.dot(x_test,cov_evecs)"
   ]
  },
  {
   "cell_type": "markdown",
   "id": "b94b822d",
   "metadata": {},
   "source": [
    "# With and without PCA Comparison"
   ]
  },
  {
   "cell_type": "markdown",
   "id": "82f464db",
   "metadata": {},
   "source": [
    "## Without PCA:"
   ]
  },
  {
   "cell_type": "code",
   "execution_count": 29,
   "id": "5806b548",
   "metadata": {},
   "outputs": [
    {
     "name": "stdout",
     "output_type": "stream",
     "text": [
      "Cost after iteration 0: 0.717596\n",
      "Cost after iteration 50: 0.269387\n",
      "Cost after iteration 100: 0.257548\n",
      "Cost after iteration 150: 0.251523\n",
      "Cost after iteration 200: 0.247923\n"
     ]
    },
    {
     "data": {
      "image/png": "[encoded data removed]",
      "text/plain": [
       "<Figure size 640x480 with 1 Axes>"
      ]
     },
     "metadata": {},
     "output_type": "display_data"
    },
    {
     "name": "stdout",
     "output_type": "stream",
     "text": [
      "test accuracy: 86.90772782336404 %\n"
     ]
    }
   ],
   "source": [
    "start = time.time()\n",
    "logistic_regression(x_train, y_train, x_test, y_test,learning_rate = 2, num_iterations = 235)\n",
    "end = time.time()"
   ]
  },
  {
   "cell_type": "code",
   "execution_count": 30,
   "id": "838b48b8",
   "metadata": {},
   "outputs": [
    {
     "name": "stdout",
     "output_type": "stream",
     "text": [
      "Without PCA, execution time of the Logistic Regression is: 19.370003700256348\n"
     ]
    }
   ],
   "source": [
    "print(\"Without PCA, execution time of the Logistic Regression is: \" + str(end-start))"
   ]
  },
  {
   "cell_type": "markdown",
   "id": "cfb3c786",
   "metadata": {},
   "source": [
    "## With PCA:"
   ]
  },
  {
   "cell_type": "code",
   "execution_count": 31,
   "id": "80536a58",
   "metadata": {},
   "outputs": [
    {
     "name": "stdout",
     "output_type": "stream",
     "text": [
      "Cost after iteration 0: 0.689547\n",
      "Cost after iteration 50: 0.288070\n",
      "Cost after iteration 100: 0.286913\n",
      "Cost after iteration 150: 0.286422\n",
      "Cost after iteration 200: 0.286149\n"
     ]
    },
    {
     "data": {
      "image/png": "[encoded data removed]",
      "text/plain": [
       "<Figure size 640x480 with 1 Axes>"
      ]
     },
     "metadata": {},
     "output_type": "display_data"
    },
    {
     "name": "stdout",
     "output_type": "stream",
     "text": [
      "test accuracy: 88.73625745697241 %\n"
     ]
    }
   ],
   "source": [
    "start=time.time()\n",
    "logistic_regression(x_train_pca, y_train, x_test_pca, y_test,learning_rate =4 , num_iterations = 246)\n",
    "end=time.time()"
   ]
  },
  {
   "cell_type": "code",
   "execution_count": 32,
   "id": "25abe89c",
   "metadata": {},
   "outputs": [
    {
     "name": "stdout",
     "output_type": "stream",
     "text": [
      "With PCA, execution time of Logistic Regression is: 16.63201379776001\n"
     ]
    }
   ],
   "source": [
    "print(\"With PCA, execution time of Logistic Regression is: \" + str(end-start))"
   ]
  },
  {
   "cell_type": "markdown",
   "id": "eb97a516",
   "metadata": {},
   "source": [
    "We can look at the probabilities of a case being at risk of heart disease or an attack using our model:"
   ]
  },
  {
   "cell_type": "code",
   "execution_count": 33,
   "id": "a338f131",
   "metadata": {},
   "outputs": [],
   "source": [
    "y_hat = probabilities(x_train_pca, x_test_pca, y_train, learning_rate = 4,number_of_iteration = 246)[0]"
   ]
  },
  {
   "cell_type": "code",
   "execution_count": 34,
   "id": "b140ddce",
   "metadata": {},
   "outputs": [],
   "source": [
    "y_hat = pd.DataFrame(y_hat, columns = ['Probabilities'])"
   ]
  },
  {
   "cell_type": "code",
   "execution_count": 35,
   "id": "6330fe50",
   "metadata": {},
   "outputs": [
    {
     "name": "stdout",
     "output_type": "stream",
     "text": [
      "       Probabilities\n",
      "0           0.100849\n",
      "1           0.013108\n",
      "2           0.254811\n",
      "3           0.026743\n",
      "4           0.057471\n",
      "...              ...\n",
      "43746       0.003797\n",
      "43747       0.017263\n",
      "43748       0.000270\n",
      "43749       0.022872\n",
      "43750       0.006297\n",
      "\n",
      "[43751 rows x 1 columns]\n"
     ]
    }
   ],
   "source": [
    "print(y_hat)"
   ]
  }
 ],
 "metadata": {
  "kernelspec": {
   "display_name": "Python 3 (ipykernel)",
   "language": "python",
   "name": "python3"
  },
  "language_info": {
   "codemirror_mode": {
    "name": "ipython",
    "version": 3
   },
   "file_extension": ".py",
   "mimetype": "text/x-python",
   "name": "python",
   "nbconvert_exporter": "python",
   "pygments_lexer": "ipython3",
   "version": "3.9.7"
  }
 },
 "nbformat": 4,
 "nbformat_minor": 5
}
