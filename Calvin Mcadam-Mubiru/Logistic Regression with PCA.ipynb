{
 "cells": [
  {
   "cell_type": "code",
   "execution_count": 1,
   "id": "7c828f4e",
   "metadata": {},
   "outputs": [],
   "source": [
    "# Introduction"
   ]
  },
  {
   "cell_type": "code",
   "execution_count": 2,
   "id": "b363c0b7",
   "metadata": {},
   "outputs": [],
   "source": [
    "## We need to first import the necessary packages and files"
   ]
  },
  {
   "cell_type": "code",
   "execution_count": 3,
   "id": "17301dff",
   "metadata": {},
   "outputs": [],
   "source": [
    "import pandas as pd\n",
    "import numpy as np\n",
    "import matplotlib.pyplot as plt\n",
    "from sklearn import preprocessing\n",
    "from sklearn.preprocessing import StandardScaler, MinMaxScaler\n",
    "from sklearn.decomposition import PCA"
   ]
  },
  {
   "cell_type": "code",
   "execution_count": 4,
   "id": "b69aee0d",
   "metadata": {},
   "outputs": [],
   "source": [
    "heart_disease_training= pd.read_csv(\"C:/Users/Calvi/Documents/Data Science Toolbox/Assessment 1/data/TrainingDataImputation.csv\")\n",
    "heart_disease_test = pd.read_csv(\"https://raw.githubusercontent.com/erinp0/DST-Assessment-1/main/Erin%20Pollard/test_imputed.csv\")"
   ]
  },
  {
   "cell_type": "code",
   "execution_count": 5,
   "id": "e1357f02",
   "metadata": {},
   "outputs": [],
   "source": [
    "## We then separate the features and target variables"
   ]
  },
  {
   "cell_type": "code",
   "execution_count": 6,
   "id": "b5e63e9d",
   "metadata": {},
   "outputs": [],
   "source": [
    "y_train = np.array(heart_disease_training.iloc[:, 0]).astype(int)[np.newaxis,:].T\n",
    "y_test = np.array(heart_disease_test.iloc[:, 0]).astype(int)[np.newaxis,:].T\n",
    "del heart_disease_training['HeartDiseaseorAttack']\n",
    "del heart_disease_test['HeartDiseaseorAttack']"
   ]
  },
  {
   "cell_type": "code",
   "execution_count": 7,
   "id": "dbe8db1d",
   "metadata": {},
   "outputs": [],
   "source": [
    "x_train = heart_disease_training.to_numpy()\n",
    "x_test = heart_disease_test.to_numpy()"
   ]
  },
  {
   "cell_type": "code",
   "execution_count": 8,
   "id": "7ae00625",
   "metadata": {},
   "outputs": [],
   "source": [
    "def center_function(data):\n",
    "    mean = data.mean(axis=1)\n",
    "    std = data.std(axis=1)\n",
    "    for i in range(data.shape[1]):\n",
    "        data[i] -= mean[i]\n",
    "        data[i] /= std[i]\n",
    "    return data,mean,std"
   ]
  },
  {
   "cell_type": "code",
   "execution_count": 9,
   "id": "bf966264",
   "metadata": {},
   "outputs": [],
   "source": [
    "cf = center_function(x_train)\n",
    "x_train_centered = cf[0]"
   ]
  },
  {
   "cell_type": "code",
   "execution_count": 10,
   "id": "cf00729b",
   "metadata": {},
   "outputs": [
    {
     "name": "stdout",
     "output_type": "stream",
     "text": [
      "         0         1         2         3         4         5         6   \\\n",
      "0  1.392049  0.099506  1.392049 -0.495064  0.099506  0.099506 -0.331341   \n",
      "1  0.827005  0.827005  0.827005 -1.354394  0.827005 -0.731137 -1.250518   \n",
      "2  1.013108  1.013108  1.013108 -1.047109  1.013108 -0.398000 -0.868369   \n",
      "3 -0.099784  1.527512 -1.727079 -0.718156  1.527512 -0.099784 -0.642215   \n",
      "4  0.693649  0.693649  0.693649 -1.398234  0.693649  0.693649 -1.243280   \n",
      "\n",
      "         7         8         9   ...        11        12        13        14  \\\n",
      "0 -1.193037 -1.193037 -1.193037  ...  1.392049  0.099506  0.530354 -1.109647   \n",
      "1 -0.731137  0.827005  0.827005  ...  0.827005 -0.731137  0.827005  0.827005   \n",
      "2 -0.398000  1.013108  1.013108  ...  1.013108 -1.809108  0.072370 -1.718068   \n",
      "3 -0.099784 -0.099784 -0.099784  ...  1.527512 -0.099784  0.442648 -1.622092   \n",
      "4  0.693649  0.693649  0.693649  ...  0.693649  0.693649  0.693649 -2.211744   \n",
      "\n",
      "         15        16        17        18        19        20  \n",
      "0 -1.109647  1.392049 -1.193037  1.392049  1.022751 -1.193037  \n",
      "1  0.827005  0.827005 -2.289279 -0.063362  0.381821 -1.596771  \n",
      "2 -1.718068 -0.398000  1.013108  1.013108 -0.196413 -0.241210  \n",
      "3 -1.727079 -0.099784  1.527512  1.295041 -0.332254 -0.280594  \n",
      "4 -2.211744  0.693649  0.693649 -0.136463 -0.136463 -0.920458  \n",
      "\n",
      "[5 rows x 21 columns]\n"
     ]
    }
   ],
   "source": [
    "print(\"Standardised Training Data:\")\n",
    "print(pd.DataFrame(x_train_centered).head())"
   ]
  },
  {
   "cell_type": "code",
   "execution_count": 11,
   "id": "3b1d0e60",
   "metadata": {},
   "outputs": [],
   "source": [
    "# PCA"
   ]
  },
  {
   "cell_type": "code",
   "execution_count": 13,
   "id": "216adc83",
   "metadata": {},
   "outputs": [],
   "source": [
    "percentage = 99 # This is the amount of explained variance we desire"
   ]
  },
  {
   "cell_type": "code",
   "execution_count": 14,
   "id": "b51bfe27",
   "metadata": {},
   "outputs": [],
   "source": [
    "def cov_eigen(data):\n",
    "    hd_scaled = StandardScaler().fit_transform(data)\n",
    "    features = hd_scaled.T\n",
    "    cov_matrix = np.cov(features)\n",
    "    values, vectors = np.linalg.eig(cov_matrix)\n",
    "    idx = values.argsort()[::-1]\n",
    "    vectors = vectors.T[:,idx]\n",
    "    return values,vectors"
   ]
  },
  {
   "cell_type": "code",
   "execution_count": 15,
   "id": "480df06d",
   "metadata": {},
   "outputs": [],
   "source": [
    "def pcafeatures(data,percentage):\n",
    "    hd_scaled = StandardScaler().fit_transform(data)\n",
    "    features = hd_scaled.T\n",
    "    cov_matrix = np.cov(features)\n",
    "    values, vectors = np.linalg.eig(cov_matrix)\n",
    "    explained_variances = []\n",
    "    a = 0\n",
    "    num = 0\n",
    "    for i in range(len(values)):\n",
    "        explained_variances.append(values[i] / np.sum(values))\n",
    "    for i in range(len(explained_variances)):\n",
    "        while a < percentage:\n",
    "            a += explained_variances[i]*100\n",
    "            num += 1\n",
    "    pc_feat = ['PC{}'.format(i+1) for i in range(num)]\n",
    "    return pc_feat,num,explained_variances"
   ]
  },
  {
   "cell_type": "code",
   "execution_count": 16,
   "id": "c4de3419",
   "metadata": {},
   "outputs": [],
   "source": [
    "num_of_comps = pcafeatures(x_train_centered,percentage)[1]\n",
    "cov_evecs = cov_eigen(x_train_centered)[1].T[:,:num_of_comps]"
   ]
  },
  {
   "cell_type": "code",
   "execution_count": 17,
   "id": "621d72ee",
   "metadata": {},
   "outputs": [
    {
     "name": "stdout",
     "output_type": "stream",
     "text": [
      "eigenvectors:\n",
      "          0         1         2         3         4         5         6  \\\n",
      "0  0.230155  0.240133  0.195575 -0.080941 -0.198336 -0.087512 -0.008209   \n",
      "1  0.299364  0.117451  0.399363  0.003162  0.096286 -0.297587 -0.140347   \n",
      "2  0.255722  0.015781  0.404610  0.024523  0.185616 -0.315462 -0.169093   \n",
      "3  0.233122  0.016640 -0.080045 -0.472549  0.025567 -0.044482  0.072294   \n",
      "4  0.274376  0.025990 -0.206620 -0.199250 -0.261685  0.074214 -0.085270   \n",
      "\n",
      "          7  \n",
      "0  0.058814  \n",
      "1 -0.035278  \n",
      "2 -0.059154  \n",
      "3 -0.028236  \n",
      "4 -0.215008  \n"
     ]
    }
   ],
   "source": [
    "print(\"Covariance Eigenvectors:\")\n",
    "print(pd.DataFrame(cov_evecs).head())"
   ]
  },
  {
   "cell_type": "code",
   "execution_count": 18,
   "id": "bccee8c8",
   "metadata": {},
   "outputs": [],
   "source": [
    "x_train_pca = np.dot(x_train_centered,cov_evecs)"
   ]
  },
  {
   "cell_type": "code",
   "execution_count": 19,
   "id": "54d8df2c",
   "metadata": {
    "scrolled": false
   },
   "outputs": [
    {
     "name": "stdout",
     "output_type": "stream",
     "text": [
      "          0         1         2         3         4         5         6  \\\n",
      "0 -0.988286  1.343361  1.491332 -1.409695  0.309475 -0.821137 -0.799575   \n",
      "1 -0.118285 -1.111554  1.105812 -0.095905  1.381766 -0.251756 -1.524183   \n",
      "2  0.292101 -0.161933 -0.249739 -0.174526 -1.063880 -1.776465 -1.626994   \n",
      "3 -0.242681  0.696821 -0.886288 -1.152619 -1.628788 -0.880672 -1.131532   \n",
      "4  0.426728 -0.152492  0.707130  0.463696 -1.620082 -0.722687 -1.692047   \n",
      "\n",
      "          7  \n",
      "0 -0.033532  \n",
      "1 -0.242042  \n",
      "2 -0.276475  \n",
      "3 -0.125887  \n",
      "4  0.587075  \n"
     ]
    }
   ],
   "source": [
    "print(pd.DataFrame(x_train_pca[:5,:]))"
   ]
  },
  {
   "cell_type": "code",
   "execution_count": 23,
   "id": "106e56fe",
   "metadata": {},
   "outputs": [],
   "source": [
    "# Logistic Regression"
   ]
  },
  {
   "cell_type": "code",
   "execution_count": 24,
   "id": "cbdc78a6",
   "metadata": {},
   "outputs": [],
   "source": [
    "#%% Parameter initialize and sigmoid function\n",
    "\n",
    "def initialize_weights_and_bias(dimension):\n",
    "    \n",
    "    w = np.full((dimension,1),0.01)\n",
    "    b = 0.0\n",
    "    return w,b\n",
    "\n",
    "def sigmoid(z):\n",
    "    \n",
    "    y_head = 1 / (1+np.exp(-z))\n",
    "    \n",
    "    return y_head"
   ]
  },
  {
   "cell_type": "code",
   "execution_count": 25,
   "id": "a57ec070",
   "metadata": {},
   "outputs": [],
   "source": [
    "#%% Loss function\n",
    "\n",
    "def logloss(y_hat,y):\n",
    "    a = np.log(y_hat)\n",
    "    b = np.log(1-y_hat)\n",
    "    loss = (-1/x_train.shape[0]) * np.sum(y*a + (1-y)*b)\n",
    "    return loss"
   ]
  },
  {
   "cell_type": "code",
   "execution_count": 26,
   "id": "2817256c",
   "metadata": {},
   "outputs": [],
   "source": [
    "#%% Forward and Backward Propagation\n",
    "\n",
    "def forward_backward_propagation(w,b,x_train,y_hat):\n",
    "    \n",
    "    z = np.dot(x_train,w) + b\n",
    "    y_hat = sigmoid(z)\n",
    "    cost = logloss(y_hat,y_train)\n",
    "    \n",
    "    #backward propogation\n",
    "    derivative_weight = np.dot((y_hat-y_train).T,x_train)/x_train.shape[0]\n",
    "    derivative_bias = np.sum(y_hat-y_train)/x_train.shape[0]\n",
    "    gradients = {\"derivative_weight\": derivative_weight,\"derivative_bias\": derivative_bias}\n",
    "    return cost,gradients"
   ]
  },
  {
   "cell_type": "code",
   "execution_count": 27,
   "id": "bc303eba",
   "metadata": {},
   "outputs": [],
   "source": [
    "#%% Updating (Learning) Parameters\n",
    "    \n",
    "def update(w, b, x_train, y_train, learning_rate,number_of_iteration):\n",
    "    cost_list = []\n",
    "    cost_list2 = []\n",
    "    index = []\n",
    "    # updating(learning) parameters is number_of_iteration times\n",
    "    for i in range(number_of_iteration):\n",
    "        # make forward and backward propagation and find cost and gradients\n",
    "        cost,gradients = forward_backward_propagation(w,b,x_train,y_train)\n",
    "        cost_list.append(cost)\n",
    "        # lets update\n",
    "        w = w - learning_rate * (gradients[\"derivative_weight\"].T)\n",
    "        b = b - learning_rate * gradients[\"derivative_bias\"]\n",
    "        if i % 10 == 0:\n",
    "            cost_list2.append(cost)\n",
    "            index.append(i)\n",
    "            print (\"Cost after iteration %i: %f\" %(i, cost)) #if section defined to print our cost values in every 10 iteration. We do not need to do that. It's optional.\n",
    "     # we update(learn) parameters weights and bias\n",
    "    parameters = {\"weight\": w,\"bias\": b}\n",
    "    plt.plot(index,cost_list2)\n",
    "    plt.xticks(index,rotation='vertical')\n",
    "    plt.xlabel(\"Number of Iteration\")\n",
    "    plt.ylabel(\"Cost\")\n",
    "    plt.show()\n",
    "    return parameters, gradients, cost_list "
   ]
  },
  {
   "cell_type": "code",
   "execution_count": 28,
   "id": "3eda5fca",
   "metadata": {},
   "outputs": [],
   "source": [
    "#%% Prediction\n",
    "\n",
    "def predict(w,b,x_test):\n",
    "    # x_test is a input for forward propagation\n",
    "    z = sigmoid(np.dot(x_test,w)+b)\n",
    "    Y_prediction = np.zeros((x_test.shape[0],1))\n",
    "    # if z is bigger than 0.5, our prediction is one means has diabete (y_head=1),\n",
    "    # if z is smaller than 0.5, our prediction is zero means does not have diabete (y_head=0),\n",
    "    for i in range(len(z)):\n",
    "        if z[i]< 0.5:\n",
    "            Y_prediction[i] = 0\n",
    "        else:\n",
    "            Y_prediction[i] = 1\n",
    "\n",
    "    return Y_prediction\n",
    "\n",
    "#predict(parameters[\"weight\"],parameters[\"bias\"],x_test)"
   ]
  },
  {
   "cell_type": "code",
   "execution_count": 29,
   "id": "bb5a2834",
   "metadata": {},
   "outputs": [],
   "source": [
    "def logistic_regression(x_train, y_train, x_test, y_test, learning_rate ,  num_iterations):\n",
    "    # initialise\n",
    "    dimension =  x_train.shape[1]\n",
    "    w,b = initialize_weights_and_bias(dimension)\n",
    "    \n",
    "    parameters, gradients, cost_list = update(w, b, x_train, y_train, learning_rate,num_iterations)\n",
    "    \n",
    "    y_prediction_test = predict(parameters[\"weight\"],parameters[\"bias\"],x_test)\n",
    "    \n",
    "\n",
    "    # Print train/test Errors\n",
    "    \n",
    "    print(\"test accuracy: {} %\".format(100 - np.mean(np.abs(y_prediction_test - y_test)) * 100))"
   ]
  },
  {
   "cell_type": "code",
   "execution_count": 30,
   "id": "2fa02d22",
   "metadata": {},
   "outputs": [],
   "source": [
    "## We need to prepare our test dataset before predicting the outcome. We need to project the test data into the same space as the training. So we follow the standardising method but use the mean and standard deviation from the training data"
   ]
  },
  {
   "cell_type": "code",
   "execution_count": 31,
   "id": "39ffcc77",
   "metadata": {},
   "outputs": [],
   "source": [
    "for i in range(x_test.shape[1]):\n",
    "    x_test[:,i] -= cf[1][i]     \n",
    "    x_test[:,i] /= cf[2][i]"
   ]
  },
  {
   "cell_type": "code",
   "execution_count": 32,
   "id": "3580d5d6",
   "metadata": {},
   "outputs": [],
   "source": [
    "x_test_pca = np.dot(x_test,cov_evecs)"
   ]
  },
  {
   "cell_type": "code",
   "execution_count": 39,
   "id": "5806b548",
   "metadata": {},
   "outputs": [
    {
     "name": "stdout",
     "output_type": "stream",
     "text": [
      "Cost after iteration 0: 0.747076\n",
      "Cost after iteration 10: 0.286301\n",
      "Cost after iteration 20: 0.272464\n",
      "Cost after iteration 30: 0.265954\n",
      "Cost after iteration 40: 0.260995\n",
      "Cost after iteration 50: 0.257415\n",
      "Cost after iteration 60: 0.254643\n",
      "Cost after iteration 70: 0.252426\n",
      "Cost after iteration 80: 0.250601\n",
      "Cost after iteration 90: 0.249062\n",
      "Cost after iteration 100: 0.247740\n",
      "Cost after iteration 110: 0.246586\n",
      "Cost after iteration 120: 0.245567\n",
      "Cost after iteration 130: 0.244656\n",
      "Cost after iteration 140: 0.243834\n",
      "Cost after iteration 150: 0.243088\n",
      "Cost after iteration 160: 0.242406\n",
      "Cost after iteration 170: 0.241779\n",
      "Cost after iteration 180: 0.241199\n",
      "Cost after iteration 190: 0.240661\n"
     ]
    },
    {
     "data": {
      "image/png": "[encoded data removed]",
      "text/plain": [
       "<Figure size 640x480 with 1 Axes>"
      ]
     },
     "metadata": {},
     "output_type": "display_data"
    },
    {
     "name": "stdout",
     "output_type": "stream",
     "text": [
      "test accuracy: 68.33005893909626 %\n"
     ]
    }
   ],
   "source": [
    "logistic_regression(x_train, y_train, x_test, y_test,learning_rate = 4, num_iterations = 200)"
   ]
  },
  {
   "cell_type": "code",
   "execution_count": null,
   "id": "5777d73c",
   "metadata": {},
   "outputs": [],
   "source": []
  }
 ],
 "metadata": {
  "kernelspec": {
   "display_name": "Python 3 (ipykernel)",
   "language": "python",
   "name": "python3"
  },
  "language_info": {
   "codemirror_mode": {
    "name": "ipython",
    "version": 3
   },
   "file_extension": ".py",
   "mimetype": "text/x-python",
   "name": "python",
   "nbconvert_exporter": "python",
   "pygments_lexer": "ipython3",
   "version": "3.9.7"
  }
 },
 "nbformat": 4,
 "nbformat_minor": 5
}
